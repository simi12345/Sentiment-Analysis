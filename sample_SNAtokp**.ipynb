{
  "nbformat": 4,
  "nbformat_minor": 0,
  "metadata": {
    "colab": {
      "provenance": [],
      "include_colab_link": true
    },
    "kernelspec": {
      "name": "python3",
      "display_name": "Python 3"
    },
    "language_info": {
      "name": "python"
    }
  },
  "cells": [
    {
      "cell_type": "markdown",
      "metadata": {
        "id": "view-in-github",
        "colab_type": "text"
      },
      "source": [
        "<a href=\"https://colab.research.google.com/github/simi12345/Sentiment-Analysis/blob/main/sample_SNAtokp**.ipynb\" target=\"_parent\"><img src=\"https://colab.research.google.com/assets/colab-badge.svg\" alt=\"Open In Colab\"/></a>"
      ]
    },
    {
      "cell_type": "code",
      "metadata": {
        "colab": {
          "base_uri": "https://localhost:8080/"
        },
        "id": "oPNEoVNYgJ7v",
        "outputId": "749ae314-0833-4cd0-d33a-eac6889097d0"
      },
      "source": [
        "!pip install nlp-id"
      ],
      "execution_count": null,
      "outputs": [
        {
          "output_type": "stream",
          "text": [
            "Collecting nlp-id\n",
            "\u001b[?25l  Downloading https://files.pythonhosted.org/packages/18/e2/ac581b0701856411bd86a7fc0eac4d23d83e956eda8eff60c88cabc4abb6/nlp_id-0.1.10.0.tar.gz (7.5MB)\n",
            "\u001b[K     |████████████████████████████████| 7.5MB 5.4MB/s \n",
            "\u001b[?25hCollecting scikit-learn==0.22\n",
            "\u001b[?25l  Downloading https://files.pythonhosted.org/packages/19/96/8034e350d4550748277e514d0d6d91bdd36be19e6c5f40b8af0d74cb0c84/scikit_learn-0.22-cp37-cp37m-manylinux1_x86_64.whl (7.0MB)\n",
            "\u001b[K     |████████████████████████████████| 7.0MB 42.0MB/s \n",
            "\u001b[?25hCollecting nltk==3.4.5\n",
            "\u001b[?25l  Downloading https://files.pythonhosted.org/packages/f6/1d/d925cfb4f324ede997f6d47bea4d9babba51b49e87a767c170b77005889d/nltk-3.4.5.zip (1.5MB)\n",
            "\u001b[K     |████████████████████████████████| 1.5MB 36.7MB/s \n",
            "\u001b[?25hCollecting wget==3.2\n",
            "  Downloading https://files.pythonhosted.org/packages/47/6a/62e288da7bcda82b935ff0c6cfe542970f04e29c756b0e147251b2fb251f/wget-3.2.zip\n",
            "Requirement already satisfied: joblib>=0.11 in /usr/local/lib/python3.7/dist-packages (from scikit-learn==0.22->nlp-id) (1.0.1)\n",
            "Requirement already satisfied: scipy>=0.17.0 in /usr/local/lib/python3.7/dist-packages (from scikit-learn==0.22->nlp-id) (1.4.1)\n",
            "Requirement already satisfied: numpy>=1.11.0 in /usr/local/lib/python3.7/dist-packages (from scikit-learn==0.22->nlp-id) (1.19.5)\n",
            "Requirement already satisfied: six in /usr/local/lib/python3.7/dist-packages (from nltk==3.4.5->nlp-id) (1.15.0)\n",
            "Building wheels for collected packages: nlp-id, nltk, wget\n",
            "  Building wheel for nlp-id (setup.py) ... \u001b[?25l\u001b[?25hdone\n",
            "  Created wheel for nlp-id: filename=nlp_id-0.1.10.0-cp37-none-any.whl size=7723181 sha256=82733d687209720800206f0c7e5507c85b544011230e90eee22ec766954b3d11\n",
            "  Stored in directory: /root/.cache/pip/wheels/a5/b6/2b/146e3f2a36d470240782b5b54021d994c974aaefeee5561e77\n",
            "  Building wheel for nltk (setup.py) ... \u001b[?25l\u001b[?25hdone\n",
            "  Created wheel for nltk: filename=nltk-3.4.5-cp37-none-any.whl size=1449923 sha256=3b00cbc593990dd38971a137eaba05dab60a2294501bc9042725b13b34095b47\n",
            "  Stored in directory: /root/.cache/pip/wheels/96/86/f6/68ab24c23f207c0077381a5e3904b2815136b879538a24b483\n",
            "  Building wheel for wget (setup.py) ... \u001b[?25l\u001b[?25hdone\n",
            "  Created wheel for wget: filename=wget-3.2-cp37-none-any.whl size=9675 sha256=7d7456fc951313c099eeddd3a33a2f934538af24f7a6f5e1016af98e6ee5b9e9\n",
            "  Stored in directory: /root/.cache/pip/wheels/40/15/30/7d8f7cea2902b4db79e3fea550d7d7b85ecb27ef992b618f3f\n",
            "Successfully built nlp-id nltk wget\n",
            "Installing collected packages: scikit-learn, nltk, wget, nlp-id\n",
            "  Found existing installation: scikit-learn 0.22.2.post1\n",
            "    Uninstalling scikit-learn-0.22.2.post1:\n",
            "      Successfully uninstalled scikit-learn-0.22.2.post1\n",
            "  Found existing installation: nltk 3.2.5\n",
            "    Uninstalling nltk-3.2.5:\n",
            "      Successfully uninstalled nltk-3.2.5\n",
            "Successfully installed nlp-id-0.1.10.0 nltk-3.4.5 scikit-learn-0.22 wget-3.2\n"
          ],
          "name": "stdout"
        }
      ]
    },
    {
      "cell_type": "code",
      "metadata": {
        "colab": {
          "base_uri": "https://localhost:8080/"
        },
        "id": "lGuQge4slDfX",
        "outputId": "bb0291b7-1243-4823-dd13-4c6cbf30a935"
      },
      "source": [
        "!pip install emoji"
      ],
      "execution_count": null,
      "outputs": [
        {
          "output_type": "stream",
          "text": [
            "Collecting emoji\n",
            "\u001b[?25l  Downloading https://files.pythonhosted.org/packages/24/fa/b3368f41b95a286f8d300e323449ab4e86b85334c2e0b477e94422b8ed0f/emoji-1.2.0-py3-none-any.whl (131kB)\n",
            "\r\u001b[K     |██▌                             | 10kB 15.5MB/s eta 0:00:01\r\u001b[K     |█████                           | 20kB 20.7MB/s eta 0:00:01\r\u001b[K     |███████▌                        | 30kB 10.7MB/s eta 0:00:01\r\u001b[K     |██████████                      | 40kB 8.7MB/s eta 0:00:01\r\u001b[K     |████████████▌                   | 51kB 5.6MB/s eta 0:00:01\r\u001b[K     |███████████████                 | 61kB 5.8MB/s eta 0:00:01\r\u001b[K     |█████████████████▌              | 71kB 6.5MB/s eta 0:00:01\r\u001b[K     |████████████████████            | 81kB 6.9MB/s eta 0:00:01\r\u001b[K     |██████████████████████▌         | 92kB 6.5MB/s eta 0:00:01\r\u001b[K     |█████████████████████████       | 102kB 6.9MB/s eta 0:00:01\r\u001b[K     |███████████████████████████▌    | 112kB 6.9MB/s eta 0:00:01\r\u001b[K     |██████████████████████████████  | 122kB 6.9MB/s eta 0:00:01\r\u001b[K     |████████████████████████████████| 133kB 6.9MB/s \n",
            "\u001b[?25hInstalling collected packages: emoji\n",
            "Successfully installed emoji-1.2.0\n"
          ],
          "name": "stdout"
        }
      ]
    },
    {
      "cell_type": "code",
      "metadata": {
        "colab": {
          "base_uri": "https://localhost:8080/",
          "height": 527
        },
        "id": "qMk9tfRNUSB3",
        "outputId": "d40f95cf-901c-45a2-a4d7-22daf8201108"
      },
      "source": [
        "from google.colab import drive\n",
        "drive.mount(\"/content/gdrive\")"
      ],
      "execution_count": null,
      "outputs": [
        {
          "output_type": "error",
          "ename": "KeyboardInterrupt",
          "evalue": "ignored",
          "traceback": [
            "\u001b[0;31m---------------------------------------------------------------------------\u001b[0m",
            "\u001b[0;31mKeyboardInterrupt\u001b[0m                         Traceback (most recent call last)",
            "\u001b[0;32m/usr/local/lib/python3.7/dist-packages/ipykernel/kernelbase.py\u001b[0m in \u001b[0;36m_input_request\u001b[0;34m(self, prompt, ident, parent, password)\u001b[0m\n\u001b[1;32m    728\u001b[0m             \u001b[0;32mtry\u001b[0m\u001b[0;34m:\u001b[0m\u001b[0;34m\u001b[0m\u001b[0;34m\u001b[0m\u001b[0m\n\u001b[0;32m--> 729\u001b[0;31m                 \u001b[0mident\u001b[0m\u001b[0;34m,\u001b[0m \u001b[0mreply\u001b[0m \u001b[0;34m=\u001b[0m \u001b[0mself\u001b[0m\u001b[0;34m.\u001b[0m\u001b[0msession\u001b[0m\u001b[0;34m.\u001b[0m\u001b[0mrecv\u001b[0m\u001b[0;34m(\u001b[0m\u001b[0mself\u001b[0m\u001b[0;34m.\u001b[0m\u001b[0mstdin_socket\u001b[0m\u001b[0;34m,\u001b[0m \u001b[0;36m0\u001b[0m\u001b[0;34m)\u001b[0m\u001b[0;34m\u001b[0m\u001b[0;34m\u001b[0m\u001b[0m\n\u001b[0m\u001b[1;32m    730\u001b[0m             \u001b[0;32mexcept\u001b[0m \u001b[0mException\u001b[0m\u001b[0;34m:\u001b[0m\u001b[0;34m\u001b[0m\u001b[0;34m\u001b[0m\u001b[0m\n",
            "\u001b[0;32m/usr/local/lib/python3.7/dist-packages/jupyter_client/session.py\u001b[0m in \u001b[0;36mrecv\u001b[0;34m(self, socket, mode, content, copy)\u001b[0m\n\u001b[1;32m    802\u001b[0m         \u001b[0;32mtry\u001b[0m\u001b[0;34m:\u001b[0m\u001b[0;34m\u001b[0m\u001b[0;34m\u001b[0m\u001b[0m\n\u001b[0;32m--> 803\u001b[0;31m             \u001b[0mmsg_list\u001b[0m \u001b[0;34m=\u001b[0m \u001b[0msocket\u001b[0m\u001b[0;34m.\u001b[0m\u001b[0mrecv_multipart\u001b[0m\u001b[0;34m(\u001b[0m\u001b[0mmode\u001b[0m\u001b[0;34m,\u001b[0m \u001b[0mcopy\u001b[0m\u001b[0;34m=\u001b[0m\u001b[0mcopy\u001b[0m\u001b[0;34m)\u001b[0m\u001b[0;34m\u001b[0m\u001b[0;34m\u001b[0m\u001b[0m\n\u001b[0m\u001b[1;32m    804\u001b[0m         \u001b[0;32mexcept\u001b[0m \u001b[0mzmq\u001b[0m\u001b[0;34m.\u001b[0m\u001b[0mZMQError\u001b[0m \u001b[0;32mas\u001b[0m \u001b[0me\u001b[0m\u001b[0;34m:\u001b[0m\u001b[0;34m\u001b[0m\u001b[0;34m\u001b[0m\u001b[0m\n",
            "\u001b[0;32m/usr/local/lib/python3.7/dist-packages/zmq/sugar/socket.py\u001b[0m in \u001b[0;36mrecv_multipart\u001b[0;34m(self, flags, copy, track)\u001b[0m\n\u001b[1;32m    582\u001b[0m         \"\"\"\n\u001b[0;32m--> 583\u001b[0;31m         \u001b[0mparts\u001b[0m \u001b[0;34m=\u001b[0m \u001b[0;34m[\u001b[0m\u001b[0mself\u001b[0m\u001b[0;34m.\u001b[0m\u001b[0mrecv\u001b[0m\u001b[0;34m(\u001b[0m\u001b[0mflags\u001b[0m\u001b[0;34m,\u001b[0m \u001b[0mcopy\u001b[0m\u001b[0;34m=\u001b[0m\u001b[0mcopy\u001b[0m\u001b[0;34m,\u001b[0m \u001b[0mtrack\u001b[0m\u001b[0;34m=\u001b[0m\u001b[0mtrack\u001b[0m\u001b[0;34m)\u001b[0m\u001b[0;34m]\u001b[0m\u001b[0;34m\u001b[0m\u001b[0;34m\u001b[0m\u001b[0m\n\u001b[0m\u001b[1;32m    584\u001b[0m         \u001b[0;31m# have first part already, only loop while more to receive\u001b[0m\u001b[0;34m\u001b[0m\u001b[0;34m\u001b[0m\u001b[0;34m\u001b[0m\u001b[0m\n",
            "\u001b[0;32mzmq/backend/cython/socket.pyx\u001b[0m in \u001b[0;36mzmq.backend.cython.socket.Socket.recv\u001b[0;34m()\u001b[0m\n",
            "\u001b[0;32mzmq/backend/cython/socket.pyx\u001b[0m in \u001b[0;36mzmq.backend.cython.socket.Socket.recv\u001b[0;34m()\u001b[0m\n",
            "\u001b[0;32mzmq/backend/cython/socket.pyx\u001b[0m in \u001b[0;36mzmq.backend.cython.socket._recv_copy\u001b[0;34m()\u001b[0m\n",
            "\u001b[0;32m/usr/local/lib/python3.7/dist-packages/zmq/backend/cython/checkrc.pxd\u001b[0m in \u001b[0;36mzmq.backend.cython.checkrc._check_rc\u001b[0;34m()\u001b[0m\n",
            "\u001b[0;31mKeyboardInterrupt\u001b[0m: ",
            "\nDuring handling of the above exception, another exception occurred:\n",
            "\u001b[0;31mKeyboardInterrupt\u001b[0m                         Traceback (most recent call last)",
            "\u001b[0;32m<ipython-input-6-b79d998bf33d>\u001b[0m in \u001b[0;36m<module>\u001b[0;34m()\u001b[0m\n\u001b[1;32m      1\u001b[0m \u001b[0;32mfrom\u001b[0m \u001b[0mgoogle\u001b[0m\u001b[0;34m.\u001b[0m\u001b[0mcolab\u001b[0m \u001b[0;32mimport\u001b[0m \u001b[0mdrive\u001b[0m\u001b[0;34m\u001b[0m\u001b[0;34m\u001b[0m\u001b[0m\n\u001b[0;32m----> 2\u001b[0;31m \u001b[0mdrive\u001b[0m\u001b[0;34m.\u001b[0m\u001b[0mmount\u001b[0m\u001b[0;34m(\u001b[0m\u001b[0;34m\"/content/gdrive\"\u001b[0m\u001b[0;34m)\u001b[0m\u001b[0;34m\u001b[0m\u001b[0;34m\u001b[0m\u001b[0m\n\u001b[0m",
            "\u001b[0;32m/usr/local/lib/python3.7/dist-packages/google/colab/drive.py\u001b[0m in \u001b[0;36mmount\u001b[0;34m(mountpoint, force_remount, timeout_ms, use_metadata_server)\u001b[0m\n\u001b[1;32m    258\u001b[0m       \u001b[0;32mwith\u001b[0m \u001b[0m_output\u001b[0m\u001b[0;34m.\u001b[0m\u001b[0muse_tags\u001b[0m\u001b[0;34m(\u001b[0m\u001b[0;34m'dfs-auth-dance'\u001b[0m\u001b[0;34m)\u001b[0m\u001b[0;34m:\u001b[0m\u001b[0;34m\u001b[0m\u001b[0;34m\u001b[0m\u001b[0m\n\u001b[1;32m    259\u001b[0m         \u001b[0;32mwith\u001b[0m \u001b[0mopen\u001b[0m\u001b[0;34m(\u001b[0m\u001b[0mfifo\u001b[0m\u001b[0;34m,\u001b[0m \u001b[0;34m'w'\u001b[0m\u001b[0;34m)\u001b[0m \u001b[0;32mas\u001b[0m \u001b[0mfifo_file\u001b[0m\u001b[0;34m:\u001b[0m\u001b[0;34m\u001b[0m\u001b[0;34m\u001b[0m\u001b[0m\n\u001b[0;32m--> 260\u001b[0;31m           \u001b[0mfifo_file\u001b[0m\u001b[0;34m.\u001b[0m\u001b[0mwrite\u001b[0m\u001b[0;34m(\u001b[0m\u001b[0mget_code\u001b[0m\u001b[0;34m(\u001b[0m\u001b[0mauth_prompt\u001b[0m\u001b[0;34m)\u001b[0m \u001b[0;34m+\u001b[0m \u001b[0;34m'\\n'\u001b[0m\u001b[0;34m)\u001b[0m\u001b[0;34m\u001b[0m\u001b[0;34m\u001b[0m\u001b[0m\n\u001b[0m\u001b[1;32m    261\u001b[0m       \u001b[0mwrote_to_fifo\u001b[0m \u001b[0;34m=\u001b[0m \u001b[0;32mTrue\u001b[0m\u001b[0;34m\u001b[0m\u001b[0;34m\u001b[0m\u001b[0m\n\u001b[1;32m    262\u001b[0m     \u001b[0;32melif\u001b[0m \u001b[0mcase\u001b[0m \u001b[0;34m==\u001b[0m \u001b[0;36m5\u001b[0m\u001b[0;34m:\u001b[0m\u001b[0;34m\u001b[0m\u001b[0;34m\u001b[0m\u001b[0m\n",
            "\u001b[0;32m/usr/local/lib/python3.7/dist-packages/ipykernel/kernelbase.py\u001b[0m in \u001b[0;36mraw_input\u001b[0;34m(self, prompt)\u001b[0m\n\u001b[1;32m    702\u001b[0m             \u001b[0mself\u001b[0m\u001b[0;34m.\u001b[0m\u001b[0m_parent_ident\u001b[0m\u001b[0;34m,\u001b[0m\u001b[0;34m\u001b[0m\u001b[0;34m\u001b[0m\u001b[0m\n\u001b[1;32m    703\u001b[0m             \u001b[0mself\u001b[0m\u001b[0;34m.\u001b[0m\u001b[0m_parent_header\u001b[0m\u001b[0;34m,\u001b[0m\u001b[0;34m\u001b[0m\u001b[0;34m\u001b[0m\u001b[0m\n\u001b[0;32m--> 704\u001b[0;31m             \u001b[0mpassword\u001b[0m\u001b[0;34m=\u001b[0m\u001b[0;32mFalse\u001b[0m\u001b[0;34m,\u001b[0m\u001b[0;34m\u001b[0m\u001b[0;34m\u001b[0m\u001b[0m\n\u001b[0m\u001b[1;32m    705\u001b[0m         )\n\u001b[1;32m    706\u001b[0m \u001b[0;34m\u001b[0m\u001b[0m\n",
            "\u001b[0;32m/usr/local/lib/python3.7/dist-packages/ipykernel/kernelbase.py\u001b[0m in \u001b[0;36m_input_request\u001b[0;34m(self, prompt, ident, parent, password)\u001b[0m\n\u001b[1;32m    732\u001b[0m             \u001b[0;32mexcept\u001b[0m \u001b[0mKeyboardInterrupt\u001b[0m\u001b[0;34m:\u001b[0m\u001b[0;34m\u001b[0m\u001b[0;34m\u001b[0m\u001b[0m\n\u001b[1;32m    733\u001b[0m                 \u001b[0;31m# re-raise KeyboardInterrupt, to truncate traceback\u001b[0m\u001b[0;34m\u001b[0m\u001b[0;34m\u001b[0m\u001b[0;34m\u001b[0m\u001b[0m\n\u001b[0;32m--> 734\u001b[0;31m                 \u001b[0;32mraise\u001b[0m \u001b[0mKeyboardInterrupt\u001b[0m\u001b[0;34m\u001b[0m\u001b[0;34m\u001b[0m\u001b[0m\n\u001b[0m\u001b[1;32m    735\u001b[0m             \u001b[0;32melse\u001b[0m\u001b[0;34m:\u001b[0m\u001b[0;34m\u001b[0m\u001b[0;34m\u001b[0m\u001b[0m\n\u001b[1;32m    736\u001b[0m                 \u001b[0;32mbreak\u001b[0m\u001b[0;34m\u001b[0m\u001b[0;34m\u001b[0m\u001b[0m\n",
            "\u001b[0;31mKeyboardInterrupt\u001b[0m: "
          ]
        }
      ]
    },
    {
      "cell_type": "markdown",
      "metadata": {
        "id": "TkaEEJUzgqD1"
      },
      "source": []
    },
    {
      "cell_type": "code",
      "metadata": {
        "id": "8X5IyE8vlOpb"
      },
      "source": [
        "import nltk\n",
        "import random\n",
        "from sklearn.model_selection import train_test_split\n",
        "from nltk.classify.scikitlearn import SklearnClassifier\n",
        "import pickle\n",
        "from sklearn.naive_bayes import MultinomialNB, BernoulliNB\n",
        "from sklearn.linear_model import LogisticRegression, SGDClassifier\n",
        "from sklearn.svm import SVC, LinearSVC, NuSVC\n",
        "from nltk.classify import ClassifierI\n",
        "from statistics import mode\n",
        "from nltk.tokenize import word_tokenize\n",
        "import re\n",
        "import csv\n",
        "from nltk.corpus import stopwords\n",
        "import string\n",
        "import emoji"
      ],
      "execution_count": null,
      "outputs": []
    },
    {
      "cell_type": "code",
      "metadata": {
        "colab": {
          "base_uri": "https://localhost:8080/"
        },
        "id": "gF82aI0Slb2o",
        "outputId": "28c610a0-6bf1-42f2-a5dc-3dc8eea217d6"
      },
      "source": [
        "nltk.download('punkt')"
      ],
      "execution_count": null,
      "outputs": [
        {
          "output_type": "stream",
          "text": [
            "[nltk_data] Downloading package punkt to /root/nltk_data...\n",
            "[nltk_data]   Unzipping tokenizers/punkt.zip.\n"
          ],
          "name": "stderr"
        },
        {
          "output_type": "execute_result",
          "data": {
            "text/plain": [
              "True"
            ]
          },
          "metadata": {
            "tags": []
          },
          "execution_count": 5
        }
      ]
    },
    {
      "cell_type": "code",
      "metadata": {
        "id": "gTWbIuVbqAX_"
      },
      "source": [
        "with open('dataset/dataset_tokped.csv', 'r', encoding=\"utf8\") as nodecsv: # Buka file\n",
        "    csvreader = csv.reader(nodecsv) # membaca data\n",
        "    # Menyusun data dalam list dan menghilangkan header data\n",
        "    csv = [n for n in csvreader][1:]"
      ],
      "execution_count": null,
      "outputs": []
    },
    {
      "cell_type": "code",
      "metadata": {
        "colab": {
          "base_uri": "https://localhost:8080/"
        },
        "id": "jd8YKNdpqc8l",
        "outputId": "edd45148-a98f-4e61-eec4-240613e6804c"
      },
      "source": [
        "print(csv[:10])"
      ],
      "execution_count": null,
      "outputs": [
        {
          "output_type": "stream",
          "text": [
            "[['ZM Zaskia Mecca - Makassar Sand Scarf Kerudung Segi Empat Wangi Water', 'bagus', 'positive', 'bagus'], ['ZM Zaskia Mecca - Cendana Black Scarf - Romansa Khatuliatiwa', 'kerudung nya bagus .', 'positive', 'bagus'], ['ZM Zaskia Mecca - Yogya Charcoal Scarf Kerudung Segi Empat', 'barang dan harga ok', 'positive', 'bagus'], ['ZM Zaskia Mecca - Jola Plum Scarf Kerudung Segi Empat Wangi - All Size', 'lembut dan adem', 'positive', 'bagus'], ['ZM - Gyan Wine Dress Jelita Indonesia Edisi Palembang - M', 'barang sesuai.. terimakasihh', 'positive', 'bagus'], ['ZM Zaskia Mecca - Lamun Ombak Dove Scarf Kerudung Segi Empat', 'Barang original, bahannya bagus. Keren banget dapat harga flash sale 👍🏻👍🏻👍🏻', 'positive', 'bagus'], ['ZM Zaskia Mecca - Burung Merak Dusty Blue Scarf Kerudung Segi Empat', 'fast respon oke', 'positive', 'bagus'], ['ZM Zaskia Mecca - Kelimutu Stone Scarf Kerudung Segi Empat Ultra Sonic', 'selalu suka produk2 ZM', 'positive', 'bagus'], ['ZM Zaskia Mecca - Sana Khaky Hijab Kerudung Segi Empat', 'kecee bangettt, wangiii', 'positive', 'bagus'], ['ZM Zaskia Mecca - Sana Ivory Hijab Kerudung Segi Empat', 'barang sesuai.. terimakasihh', 'positive', 'bagus']]\n"
          ],
          "name": "stdout"
        }
      ]
    },
    {
      "cell_type": "code",
      "metadata": {
        "id": "rUID60DQqstb"
      },
      "source": [
        "emoticons_str = r\"\"\"\n",
        "    (?:\n",
        "        [:=;] # Eyes\n",
        "        [oO\\-]? # Nose (optional)\n",
        "        [D\\)\\]\\(\\]/\\\\OpP] # Mouth\n",
        "    )\"\"\"\n",
        "regex_str = []\n",
        "regex_str.append(emoticons_str)\n",
        "regex_str.append(r'<[^>]+>')# HTML tags\n",
        "regex_str.append(r'(?:@[\\w_]+)')# @-mentions\n",
        "regex_str.append(r'(?:&[\\w_]+)')\n",
        "regex_str.append(r\"(?:\\#+[\\w_]+[\\w\\'_\\-]*[\\w_]+)\") # hash-tags\n",
        "regex_str.append(r'http[s]?://(?:[a-z]|[0-9]|[$-_@.&amp;+]|[!*\\(\\),]|(?:%[0-9a-f][0-9a-f]))+') # URLs\n",
        "regex_str.append(r'(?:(?:\\d+,?)+(?:\\.?\\d+)?)') # numbers\n",
        "regex_str.append(r\"(?:[a-z][a-z'\\-_]+[a-z])\") # words with - and '\n",
        "regex_str.append(r'(?:[\\w_]+)') # other words\n",
        "regex_str.append(r'(?:\\S)') # anything else\n",
        "\n",
        "tokens_re = re.compile(r'('+'|'.join(regex_str)+')', re.VERBOSE | re.IGNORECASE)\n",
        "emoticon_re = re.compile(r'^'+emoticons_str+'$', re.VERBOSE | re.IGNORECASE)"
      ],
      "execution_count": null,
      "outputs": []
    },
    {
      "cell_type": "code",
      "metadata": {
        "colab": {
          "base_uri": "https://localhost:8080/"
        },
        "id": "FAcU_faoqwBQ",
        "outputId": "40868875-c124-4a9d-ae96-ed689b230568"
      },
      "source": [
        "nltk.download('stopwords')"
      ],
      "execution_count": null,
      "outputs": [
        {
          "output_type": "stream",
          "text": [
            "[nltk_data] Downloading package stopwords to /root/nltk_data...\n",
            "[nltk_data]   Unzipping corpora/stopwords.zip.\n"
          ],
          "name": "stderr"
        },
        {
          "output_type": "execute_result",
          "data": {
            "text/plain": [
              "True"
            ]
          },
          "metadata": {
            "tags": []
          },
          "execution_count": 11
        }
      ]
    },
    {
      "cell_type": "code",
      "metadata": {
        "id": "QLPbP-o2xzHf"
      },
      "source": [
        "from nlp_id.stopword import StopWord\n",
        "stopword = StopWord()"
      ],
      "execution_count": null,
      "outputs": []
    },
    {
      "cell_type": "code",
      "metadata": {
        "id": "iYQWhGLhxiXy"
      },
      "source": [
        "punctuation = list(string.punctuation)\n",
        "stop = stopword.get_stopword() + punctuation + ['rt', 'via', '…','•','“']"
      ],
      "execution_count": null,
      "outputs": []
    },
    {
      "cell_type": "code",
      "metadata": {
        "id": "GHPFJFfEx-ie"
      },
      "source": [
        "def tokenize(s):\n",
        "    tokens = tokens_re.findall(s)\n",
        "    return tokens\n",
        "\n",
        "def cleanTweet(token,regex):\n",
        "    terms_all = [emoji.demojize(term) for term in token if term.lower() not in stop and not regex.match(term)]\n",
        "    return terms_all"
      ],
      "execution_count": null,
      "outputs": []
    },
    {
      "cell_type": "code",
      "metadata": {
        "colab": {
          "base_uri": "https://localhost:8080/"
        },
        "id": "5RmzdQAfyGp7",
        "outputId": "115aa7fb-e679-44e4-d2b3-526bf662d3e0"
      },
      "source": [
        "tokens = []\n",
        "for c in csv:\n",
        "    tokens.append(tokenize(c[1]))\n",
        "\n",
        "print(tokens[:5])"
      ],
      "execution_count": null,
      "outputs": [
        {
          "output_type": "stream",
          "text": [
            "[['bagus'], ['kerudung', 'nya', 'bagus', '.'], ['barang', 'dan', 'harga', 'ok'], ['lembut', 'dan', 'adem'], ['barang', 'sesuai', '.', '.', 'terimakasihh']]\n"
          ],
          "name": "stdout"
        }
      ]
    },
    {
      "cell_type": "code",
      "metadata": {
        "id": "8ScdIRJLaeg0"
      },
      "source": [
        "import operator\n",
        "\n",
        "exclude_str = []\n",
        "exclude_str.append(emoticons_str)\n",
        "exclude_str.append(r'<[^>]+>')# HTML tags\n",
        "exclude_str.append(r'(?:@[\\w_]+)')# @-mentions\n",
        "exclude_str.append(r'(?:&[\\w_]+)')\n",
        "exclude_str.append(r\"(?:\\#+[\\w_]+[\\w\\'_\\-]*[\\w_]+)\") # hash-tags\n",
        "exclude_str.append(r'http[s]?://(?:[a-z]|[0-9]|[$-_@.&amp;+]|[!*\\(\\),]|(?:%[0-9a-f][0-9a-f]))+') # URLs\n",
        "exclude_str.append(r'(?:(?:\\d+,?)+(?:\\.?\\d+)?)') # numbers\n",
        "\n",
        "exclude_re = re.compile(r'('+'|'.join(exclude_str)+')', re.VERBOSE | re.IGNORECASE)"
      ],
      "execution_count": null,
      "outputs": []
    },
    {
      "cell_type": "code",
      "metadata": {
        "colab": {
          "base_uri": "https://localhost:8080/"
        },
        "id": "2ELLqXEIaitR",
        "outputId": "3b7110bf-808b-48d6-b498-c7d67cb6a661"
      },
      "source": [
        "all_word=[]\n",
        "from collections import Counter\n",
        "count_all = Counter()\n",
        "for token in tokens:\n",
        "    cleanToken = cleanTweet(token,exclude_re)\n",
        "    terms_all = [term.lower() for term in cleanToken]\n",
        "    count_all.update(terms_all)\n",
        "    for w in terms_all:\n",
        "        all_word.append(w)\n",
        "print(count_all.most_common(100))"
      ],
      "execution_count": null,
      "outputs": [
        {
          "output_type": "stream",
          "text": [
            "[('bagus', 262), ('sesuai', 186), ('barang', 176), ('pengiriman', 106), ('warna', 106), ('cepat', 103), ('bahannya', 100), (':thumbs_up:', 93), ('bahan', 91), ('terimakasihh', 80), ('suka', 74), ('adem', 55), ('warnanya', 52), ('beli', 52), ('gelap', 49), ('harga', 48), ('produk', 46), ('seller', 45), ('kasih', 43), ('terimakasih', 43), ('terima', 42), ('tp', 41), ('lembut', 40), ('zm', 36), ('gambar', 36), ('bgt', 35), ('foto', 35), ('kualitas', 33), ('tipis', 32), ('wangi', 30), ('beda', 29), ('halus', 28), ('puas', 28), ('pesanan', 27), (':smiling_face_with_heart-eyes:', 27), ('rapi', 25), ('packing', 25), ('ok', 23), ('krn', 23), ('tdk', 22), ('motif', 22), ('respon', 21), ('dgn', 21), ('order', 20), ('hijab', 20), ('dr', 20), ('jd', 20), ('jg', 20), ('deskripsi', 19), ('semoga', 19), ('penjual', 19), ('kak', 19), ('ga', 19), ('n', 18), ('diskon', 17), ('thanks', 17), ('aslinya', 17), ('sukses', 17), ('tokopedia', 17), ('promo', 17), ('kerudungnya', 17), ('barangnya', 16), ('cantik', 16), ('enak', 16), ('lumayan', 16), ('nyaman', 16), ('ramah', 16), ('motifnya', 16), ('jilbabnya', 16), ('kainnya', 15), ('belanja', 15), ('rapih', 15), ('sayang', 15), ('produknya', 15), ('mantap', 14), ('dg', 14), (':smiling_face_with_hearts:', 14), ('', 14), ('jilbab', 14), ('sdh', 14), ('diterima', 14), ('asli', 14), ('kecewa', 14), (':smiling_face_with_smiling_eyes:', 13), ('dipakai', 13), (':folded_hands:', 12), ('gak', 12), ('lebaran', 12), ('lg', 12), ('dapet', 12), ('keren', 11), ('kurir', 11), ('dah', 11), ('murah', 11), ('sukaa', 11), ('terjangkau', 11), ('kirim', 11), ('thx', 11), ('sy', 11), ('kerudung', 10)]\n"
          ],
          "name": "stdout"
        }
      ]
    },
    {
      "cell_type": "code",
      "metadata": {
        "colab": {
          "base_uri": "https://localhost:8080/"
        },
        "id": "BKNahtLAgC_Y",
        "outputId": "a56481ab-c3d3-4e44-c9ce-a2f2f1c4e8dd"
      },
      "source": [
        "len(all_word)"
      ],
      "execution_count": null,
      "outputs": [
        {
          "output_type": "execute_result",
          "data": {
            "text/plain": [
              "5657"
            ]
          },
          "metadata": {
            "tags": []
          },
          "execution_count": 55
        }
      ]
    },
    {
      "cell_type": "code",
      "metadata": {
        "id": "jeBPXUorarii"
      },
      "source": [
        "from nlp_id.postag import PosTag\n",
        "postagger = PosTag()"
      ],
      "execution_count": null,
      "outputs": []
    },
    {
      "cell_type": "code",
      "metadata": {
        "id": "d3R1M8rSjAuA"
      },
      "source": [
        "from nlp_id.lemmatizer import Lemmatizer\n",
        "lemmatizer = Lemmatizer()"
      ],
      "execution_count": null,
      "outputs": []
    },
    {
      "cell_type": "code",
      "metadata": {
        "id": "dferDa2yjQqM"
      },
      "source": [
        "all_stmword = [lemmatizer.lemmatize(w) for w in all_word]"
      ],
      "execution_count": null,
      "outputs": []
    },
    {
      "cell_type": "code",
      "metadata": {
        "colab": {
          "base_uri": "https://localhost:8080/"
        },
        "id": "MvwOEI9dkHgZ",
        "outputId": "be575815-1edd-4ade-f9e8-f2c4cb48d047"
      },
      "source": [
        "print(all_stmword[:100])"
      ],
      "execution_count": null,
      "outputs": [
        {
          "output_type": "stream",
          "text": [
            "['bagus', 'kerudung', 'bagus', 'barang', 'harga', 'ok', 'lembut', 'adem', 'barang', 'sesuai', 'terimakasihh', 'barang', 'original', 'bahan', 'bagus', 'keren', 'harga', 'flash', 'sale', 'thumbs up', 'light skin tone', 'thumbs up', 'light skin tone', 'thumbs up', 'light skin tone', 'fast', 'respon', 'suka', 'produk', 'zm', 'kecee', 'bangettt', 'wangi', 'barang', 'sesuai', 'terimakasihh', 'mantap', 'produk', 'puas', 'produk', 'bagus', 'klo', 'mo', 'sen', 'barang', 'kerja', 'smp', 'krn', 'gk', 'kirim', 'barang', 'bahan', 'bagus', 'realpict', 'kirim', 'barang', 'bagus', 'misan', 'senang', 'bahan', 'keren', 'n', 'adem', 'yaa', 'barang', 'bagus', 'sesuai', 'deskripsi', 'warna', 'sesuai', 'gambar', 'kirim', 'barang', 'aman', 'cepat', 'terima', 'kasih', 'bagus', 'kirim', 'aga', 'folded hands', 'so', 'cute', 'bahan', 'tipis', 'nerawang', 'untung', 'beli', 'diskon', 'kalo', 'harga', 'normal', 'gak', 'sesuai', 'bgt', 'kulitas', 'hrg', 'warna', 'gelap', 'gambar']\n"
          ],
          "name": "stdout"
        }
      ]
    },
    {
      "cell_type": "code",
      "metadata": {
        "id": "563___NHo0P0"
      },
      "source": [
        "pos = [postagger.get_pos_tag(w)[0] for w in all_stmword if len(postagger.get_pos_tag(w))>0]"
      ],
      "execution_count": null,
      "outputs": []
    },
    {
      "cell_type": "code",
      "metadata": {
        "colab": {
          "base_uri": "https://localhost:8080/"
        },
        "id": "9erizIZypKK_",
        "outputId": "2875aed3-e9df-42a4-a2e5-a392f9a1daa3"
      },
      "source": [
        "print(pos[:10])"
      ],
      "execution_count": null,
      "outputs": [
        {
          "output_type": "stream",
          "text": [
            "[('bagus', 'JJ'), ('kerudung', 'NN'), ('bagus', 'JJ'), ('barang', 'NN'), ('harga', 'NN'), ('ok', 'NN'), ('lembut', 'JJ'), ('adem', 'NN'), ('barang', 'NN'), ('sesuai', 'JJ')]\n"
          ],
          "name": "stdout"
        }
      ]
    },
    {
      "cell_type": "code",
      "metadata": {
        "id": "QBM8LJfNphaX"
      },
      "source": [
        "allowed_word_types = [\"ADV\",\"JJ\",\"ADJP\",\"VB\"]\n",
        "allowed_words=[w[0] for w in pos if w[1] in allowed_word_types]"
      ],
      "execution_count": null,
      "outputs": []
    },
    {
      "cell_type": "code",
      "metadata": {
        "colab": {
          "base_uri": "https://localhost:8080/"
        },
        "id": "1kqj8_x_p40o",
        "outputId": "e9cd406d-39e0-472c-89eb-cdee48e8d012"
      },
      "source": [
        "print(allowed_words[:100])"
      ],
      "execution_count": null,
      "outputs": [
        {
          "output_type": "stream",
          "text": [
            "['bagus', 'bagus', 'lembut', 'sesuai', 'terimakasihh', 'bagus', 'sale', 'wangi', 'sesuai', 'terimakasihh', 'mantap', 'puas', 'bagus', 'kirim', 'bagus', 'kirim', 'bagus', 'senang', 'bagus', 'sesuai', 'sesuai', 'kirim', 'aman', 'cepat', 'terima', 'bagus', 'kirim', 'tipis', 'beli', 'normal', 'sesuai', 'gelap', 'kaku', 'halus', 'gelap', 'puas', 'mudah', 'disc', 'bagus', 'cantik', 'wangi', 'langsung', 'sesuai', 'terimakasihh', 'mantap', 'sesuai', 'bagus', 'sesuai', 'terimakasihh', 'bagus', 'sesuai', 'kirim', 'cepat', 'kirim', 'sesuai', 'terimakasihh', 'lebih', 'beda', 'asli', 'tipis', 'beli', 'nyari', 'bagus', 'jelek', 'mending', 'beli', 'lebar', 'enak', 'dipakenya', 'tipis', 'kirim', 'sesuai', 'skripsi', 'kirim', 'cepat', 'bagus', 'rapi', 'terima', 'neng', 'jdi', 'sesuai', 'terimakasihh', 'sesuai', 'terimakasihh', 'bagus', 'tp', 'gelap', 'kirim', 'cepat', 'bagus', 'huni', 'senang', 'bantu', 'instan', 'coba', 'tutup', 'murah', 'bagus', 'puas', 'terang']\n"
          ],
          "name": "stdout"
        }
      ]
    },
    {
      "cell_type": "code",
      "metadata": {
        "colab": {
          "base_uri": "https://localhost:8080/"
        },
        "id": "OiXyl9lrsA4i",
        "outputId": "34318890-4bfe-4801-ea78-f949961a7744"
      },
      "source": [
        "#Menyusun distribusi kata berdasarkan kemunculannya\n",
        "allwords = nltk.FreqDist(allowed_words)\n",
        "\n",
        "#Mengambil 5000 pertama dari distribusi kata berdasarkan frekwensi kemunculannya\n",
        "tuple_features = list(allwords.most_common())[:1000]\n",
        "word_features = [k for (k,v) in tuple_features]\n",
        "#Memeriksa word_features\n",
        "print(word_features[:100])"
      ],
      "execution_count": null,
      "outputs": [
        {
          "output_type": "stream",
          "text": [
            "['bagus', 'sesuai', 'kirim', 'cepat', 'terimakasihh', 'beli', 'terima', 'gelap', 'tp', 'lembut', 'beda', 'wangi', 'tipis', 'puas', 'asli', 'halus', 'rapi', 'jual', 'pakai', 'kecewa', 'lumayan', 'cantik', 'enak', 'nyaman', 'ramah', 'rapih', 'mantap', 'murah', 'mudah', 'dapet', 'ukur', 'senang', 'tebal', 'tulis', 'sale', 'aman', 'cocok', 'sampe', 'hijau', 'dipake', 'cerah', 'terang', 'licin', 'harap', 'salah', 'display', 'lebar', 'dipakenya', 'selamat', 'terawang', 'langsung', 'skripsi', 'wangiiii', 'besar', 'dichat', 'buka', 'takut', 'gampang', 'biru', 'makasihh', 'mami', 'baik', 'ori', 'kasar', 'ungu', 'tua', 'tolong', 'jatuh', 'harum', 'biar', 'teliti', 'depan', 'hihiiii', 'mecca', 'cacat', 'hitam', 'discount', 'kaya', 'pilih', 'normal', 'kaku', 'disc', 'mending', 'neng', 'tutup', 'pandang', 'bingung', 'jazakallah', 'lambat', 'habis', 'bayar', 'ttp', 'khaki', 'dingin', 'aduh', 'panjang', 'medium-light', 'lepas', 'wangiiiii', 'bikin']\n"
          ],
          "name": "stdout"
        }
      ]
    },
    {
      "cell_type": "code",
      "metadata": {
        "id": "55ccM5iSsPhs"
      },
      "source": [
        "document=[]\n",
        "for w in csv:\n",
        "  document.append((w[1],w[2]))"
      ],
      "execution_count": null,
      "outputs": []
    },
    {
      "cell_type": "code",
      "metadata": {
        "id": "ehox-Si5svCq"
      },
      "source": [
        "def find_features(document):\n",
        "    words = word_tokenize(document)\n",
        "    features = {}\n",
        "    for w in word_features:\n",
        "        features[w] = (w in words)\n",
        "    return features"
      ],
      "execution_count": null,
      "outputs": []
    },
    {
      "cell_type": "code",
      "metadata": {
        "colab": {
          "base_uri": "https://localhost:8080/"
        },
        "id": "sP57NoPOszke",
        "outputId": "b318feb1-bdf9-4b67-dc9a-67e749e68b75"
      },
      "source": [
        "nltk.download('punkt')\n",
        "featuresets = [(find_features(rev), category) for (rev, category) in document]"
      ],
      "execution_count": null,
      "outputs": [
        {
          "output_type": "stream",
          "text": [
            "[nltk_data] Downloading package punkt to /root/nltk_data...\n",
            "[nltk_data]   Package punkt is already up-to-date!\n"
          ],
          "name": "stderr"
        }
      ]
    },
    {
      "cell_type": "code",
      "metadata": {
        "colab": {
          "base_uri": "https://localhost:8080/"
        },
        "id": "9Qoi4JVetAur",
        "outputId": "5c572840-87a7-4b1d-a4e3-15adf7729c6f"
      },
      "source": [
        "print(featuresets[:5])"
      ],
      "execution_count": null,
      "outputs": [
        {
          "output_type": "stream",
          "text": [
            "[({'bagus': True, 'sesuai': False, 'kirim': False, 'cepat': False, 'terimakasihh': False, 'beli': False, 'terima': False, 'gelap': False, 'tp': False, 'lembut': False, 'beda': False, 'wangi': False, 'tipis': False, 'puas': False, 'asli': False, 'halus': False, 'rapi': False, 'jual': False, 'pakai': False, 'kecewa': False, 'lumayan': False, 'cantik': False, 'enak': False, 'nyaman': False, 'ramah': False, 'rapih': False, 'mantap': False, 'murah': False, 'mudah': False, 'dapet': False, 'ukur': False, 'senang': False, 'tebal': False, 'tulis': False, 'sale': False, 'aman': False, 'cocok': False, 'sampe': False, 'hijau': False, 'dipake': False, 'cerah': False, 'terang': False, 'licin': False, 'harap': False, 'salah': False, 'display': False, 'lebar': False, 'dipakenya': False, 'selamat': False, 'terawang': False, 'langsung': False, 'skripsi': False, 'wangiiii': False, 'besar': False, 'dichat': False, 'buka': False, 'takut': False, 'gampang': False, 'biru': False, 'makasihh': False, 'mami': False, 'baik': False, 'ori': False, 'kasar': False, 'ungu': False, 'tua': False, 'tolong': False, 'jatuh': False, 'harum': False, 'biar': False, 'teliti': False, 'depan': False, 'hihiiii': False, 'mecca': False, 'cacat': False, 'hitam': False, 'discount': False, 'kaya': False, 'pilih': False, 'normal': False, 'kaku': False, 'disc': False, 'mending': False, 'neng': False, 'tutup': False, 'pandang': False, 'bingung': False, 'jazakallah': False, 'lambat': False, 'habis': False, 'bayar': False, 'ttp': False, 'khaki': False, 'dingin': False, 'aduh': False, 'panjang': False, 'medium-light': False, 'lepas': False, 'wangiiiii': False, 'bikin': False, 'tukar': False, 'mohon': False, 'segiempatnya': False, 'lihat': False, 'i': False, 'mahal': False, 'kecil': False, 'ditambahin': False, 'khusus': False, 'lebih': False, 'nyari': False, 'jelek': False, 'jdi': False, 'huni': False, 'bantu': False, 'instan': False, 'coba': False, 'cuci': False, 'udh': False, 'dsini': False, 'meleset': False, 'unik': False, 'tampil': False, 'indah': False, 'tembus': False, 'tinggal': False, 'memfollowup': False, 'lancar': False, 'masuk': False, 'turquoise': False, 'toleransi': False, 'ambil': False, 'jujur': False, 'konsisten': False, 'minimal': False, 'kejar': False, 'buruk': False, 'mantaps': False, 'dpakai': False, 'berkualitasss': False, 'dirmh': False, 'bli': False, 'jaga': False, 'gpplah': False, 'tetep': False, 'dicobaa': False, 'lucu': False, 'diacount': False, 'dibikim': False, 'lembuuutttt': False, 'sekali': False, 'cari': False, 'ragu': False, 'gelaaaaaaap': False, 'loh': False, 'lengkap': False, 'hihi': False, 'datang': False, 'sulit': False, 'tebak': False, 'sedihh': False, 'dipoto': False, 'dinyalahin': False, 'dibatalin': False, 'otomatis': False, 'busuk': False, 'slh': False, 'repot': False, 'khawatir': False, 'bgni': False, 'sii': False, 'diksh': False, 'nyampei': False, 'sebut': False, 'favorit': False, 'maksihh': False, 'murahhh': False, 'maksih': False, 'jazakillah': False, 'dipke': False, 'sempit': False, 'kompak': False, 'plus': False, 'dapat': False, 'tpi': False, 'sopan': False, 'cantiiiiik': False, 'oke': False, 'tanggung': False, 'selesai': False, 'kembali': False, 'mepet': False, 'sekaliiiii': False, 'dekat': False, 'tkt': False, 'kooperatif': False, 'praktis': False, 'atur': False, 'segeh': False, 'ringan': False, 'makan': False, 'ketupat': False, 'tajam': False, 'sehh': False, 'biasaa': False, 'ntah': False, 'much': False, 'minta': False, 'doski': False, 'tinggi': False, 'dipotongin': False, 'ditanyain': False, 'kira': False, 'tabarakallah': False, 'xixi': False, 'mkshh': False, 'tipiis': False, 'tawar': False, 'tunik': False, 'trus': False, 'putih': False, 'menang': False, 'wangiiiiii': False, 'navi': False, 'pasti': False, 'makasiiiih': False, 'takbir': False, 'diskony': False, 'lagi': False, 'manis': False, 'diraguka': False, 'sedih': False, 'dateng': False, 'seragam': False, 'komunikatif': False, 'tksh': False}, 'positive'), ({'bagus': True, 'sesuai': False, 'kirim': False, 'cepat': False, 'terimakasihh': False, 'beli': False, 'terima': False, 'gelap': False, 'tp': False, 'lembut': False, 'beda': False, 'wangi': False, 'tipis': False, 'puas': False, 'asli': False, 'halus': False, 'rapi': False, 'jual': False, 'pakai': False, 'kecewa': False, 'lumayan': False, 'cantik': False, 'enak': False, 'nyaman': False, 'ramah': False, 'rapih': False, 'mantap': False, 'murah': False, 'mudah': False, 'dapet': False, 'ukur': False, 'senang': False, 'tebal': False, 'tulis': False, 'sale': False, 'aman': False, 'cocok': False, 'sampe': False, 'hijau': False, 'dipake': False, 'cerah': False, 'terang': False, 'licin': False, 'harap': False, 'salah': False, 'display': False, 'lebar': False, 'dipakenya': False, 'selamat': False, 'terawang': False, 'langsung': False, 'skripsi': False, 'wangiiii': False, 'besar': False, 'dichat': False, 'buka': False, 'takut': False, 'gampang': False, 'biru': False, 'makasihh': False, 'mami': False, 'baik': False, 'ori': False, 'kasar': False, 'ungu': False, 'tua': False, 'tolong': False, 'jatuh': False, 'harum': False, 'biar': False, 'teliti': False, 'depan': False, 'hihiiii': False, 'mecca': False, 'cacat': False, 'hitam': False, 'discount': False, 'kaya': False, 'pilih': False, 'normal': False, 'kaku': False, 'disc': False, 'mending': False, 'neng': False, 'tutup': False, 'pandang': False, 'bingung': False, 'jazakallah': False, 'lambat': False, 'habis': False, 'bayar': False, 'ttp': False, 'khaki': False, 'dingin': False, 'aduh': False, 'panjang': False, 'medium-light': False, 'lepas': False, 'wangiiiii': False, 'bikin': False, 'tukar': False, 'mohon': False, 'segiempatnya': False, 'lihat': False, 'i': False, 'mahal': False, 'kecil': False, 'ditambahin': False, 'khusus': False, 'lebih': False, 'nyari': False, 'jelek': False, 'jdi': False, 'huni': False, 'bantu': False, 'instan': False, 'coba': False, 'cuci': False, 'udh': False, 'dsini': False, 'meleset': False, 'unik': False, 'tampil': False, 'indah': False, 'tembus': False, 'tinggal': False, 'memfollowup': False, 'lancar': False, 'masuk': False, 'turquoise': False, 'toleransi': False, 'ambil': False, 'jujur': False, 'konsisten': False, 'minimal': False, 'kejar': False, 'buruk': False, 'mantaps': False, 'dpakai': False, 'berkualitasss': False, 'dirmh': False, 'bli': False, 'jaga': False, 'gpplah': False, 'tetep': False, 'dicobaa': False, 'lucu': False, 'diacount': False, 'dibikim': False, 'lembuuutttt': False, 'sekali': False, 'cari': False, 'ragu': False, 'gelaaaaaaap': False, 'loh': False, 'lengkap': False, 'hihi': False, 'datang': False, 'sulit': False, 'tebak': False, 'sedihh': False, 'dipoto': False, 'dinyalahin': False, 'dibatalin': False, 'otomatis': False, 'busuk': False, 'slh': False, 'repot': False, 'khawatir': False, 'bgni': False, 'sii': False, 'diksh': False, 'nyampei': False, 'sebut': False, 'favorit': False, 'maksihh': False, 'murahhh': False, 'maksih': False, 'jazakillah': False, 'dipke': False, 'sempit': False, 'kompak': False, 'plus': False, 'dapat': False, 'tpi': False, 'sopan': False, 'cantiiiiik': False, 'oke': False, 'tanggung': False, 'selesai': False, 'kembali': False, 'mepet': False, 'sekaliiiii': False, 'dekat': False, 'tkt': False, 'kooperatif': False, 'praktis': False, 'atur': False, 'segeh': False, 'ringan': False, 'makan': False, 'ketupat': False, 'tajam': False, 'sehh': False, 'biasaa': False, 'ntah': False, 'much': False, 'minta': False, 'doski': False, 'tinggi': False, 'dipotongin': False, 'ditanyain': False, 'kira': False, 'tabarakallah': False, 'xixi': False, 'mkshh': False, 'tipiis': False, 'tawar': False, 'tunik': False, 'trus': False, 'putih': False, 'menang': False, 'wangiiiiii': False, 'navi': False, 'pasti': False, 'makasiiiih': False, 'takbir': False, 'diskony': False, 'lagi': False, 'manis': False, 'diraguka': False, 'sedih': False, 'dateng': False, 'seragam': False, 'komunikatif': False, 'tksh': False}, 'positive'), ({'bagus': False, 'sesuai': False, 'kirim': False, 'cepat': False, 'terimakasihh': False, 'beli': False, 'terima': False, 'gelap': False, 'tp': False, 'lembut': False, 'beda': False, 'wangi': False, 'tipis': False, 'puas': False, 'asli': False, 'halus': False, 'rapi': False, 'jual': False, 'pakai': False, 'kecewa': False, 'lumayan': False, 'cantik': False, 'enak': False, 'nyaman': False, 'ramah': False, 'rapih': False, 'mantap': False, 'murah': False, 'mudah': False, 'dapet': False, 'ukur': False, 'senang': False, 'tebal': False, 'tulis': False, 'sale': False, 'aman': False, 'cocok': False, 'sampe': False, 'hijau': False, 'dipake': False, 'cerah': False, 'terang': False, 'licin': False, 'harap': False, 'salah': False, 'display': False, 'lebar': False, 'dipakenya': False, 'selamat': False, 'terawang': False, 'langsung': False, 'skripsi': False, 'wangiiii': False, 'besar': False, 'dichat': False, 'buka': False, 'takut': False, 'gampang': False, 'biru': False, 'makasihh': False, 'mami': False, 'baik': False, 'ori': False, 'kasar': False, 'ungu': False, 'tua': False, 'tolong': False, 'jatuh': False, 'harum': False, 'biar': False, 'teliti': False, 'depan': False, 'hihiiii': False, 'mecca': False, 'cacat': False, 'hitam': False, 'discount': False, 'kaya': False, 'pilih': False, 'normal': False, 'kaku': False, 'disc': False, 'mending': False, 'neng': False, 'tutup': False, 'pandang': False, 'bingung': False, 'jazakallah': False, 'lambat': False, 'habis': False, 'bayar': False, 'ttp': False, 'khaki': False, 'dingin': False, 'aduh': False, 'panjang': False, 'medium-light': False, 'lepas': False, 'wangiiiii': False, 'bikin': False, 'tukar': False, 'mohon': False, 'segiempatnya': False, 'lihat': False, 'i': False, 'mahal': False, 'kecil': False, 'ditambahin': False, 'khusus': False, 'lebih': False, 'nyari': False, 'jelek': False, 'jdi': False, 'huni': False, 'bantu': False, 'instan': False, 'coba': False, 'cuci': False, 'udh': False, 'dsini': False, 'meleset': False, 'unik': False, 'tampil': False, 'indah': False, 'tembus': False, 'tinggal': False, 'memfollowup': False, 'lancar': False, 'masuk': False, 'turquoise': False, 'toleransi': False, 'ambil': False, 'jujur': False, 'konsisten': False, 'minimal': False, 'kejar': False, 'buruk': False, 'mantaps': False, 'dpakai': False, 'berkualitasss': False, 'dirmh': False, 'bli': False, 'jaga': False, 'gpplah': False, 'tetep': False, 'dicobaa': False, 'lucu': False, 'diacount': False, 'dibikim': False, 'lembuuutttt': False, 'sekali': False, 'cari': False, 'ragu': False, 'gelaaaaaaap': False, 'loh': False, 'lengkap': False, 'hihi': False, 'datang': False, 'sulit': False, 'tebak': False, 'sedihh': False, 'dipoto': False, 'dinyalahin': False, 'dibatalin': False, 'otomatis': False, 'busuk': False, 'slh': False, 'repot': False, 'khawatir': False, 'bgni': False, 'sii': False, 'diksh': False, 'nyampei': False, 'sebut': False, 'favorit': False, 'maksihh': False, 'murahhh': False, 'maksih': False, 'jazakillah': False, 'dipke': False, 'sempit': False, 'kompak': False, 'plus': False, 'dapat': False, 'tpi': False, 'sopan': False, 'cantiiiiik': False, 'oke': False, 'tanggung': False, 'selesai': False, 'kembali': False, 'mepet': False, 'sekaliiiii': False, 'dekat': False, 'tkt': False, 'kooperatif': False, 'praktis': False, 'atur': False, 'segeh': False, 'ringan': False, 'makan': False, 'ketupat': False, 'tajam': False, 'sehh': False, 'biasaa': False, 'ntah': False, 'much': False, 'minta': False, 'doski': False, 'tinggi': False, 'dipotongin': False, 'ditanyain': False, 'kira': False, 'tabarakallah': False, 'xixi': False, 'mkshh': False, 'tipiis': False, 'tawar': False, 'tunik': False, 'trus': False, 'putih': False, 'menang': False, 'wangiiiiii': False, 'navi': False, 'pasti': False, 'makasiiiih': False, 'takbir': False, 'diskony': False, 'lagi': False, 'manis': False, 'diraguka': False, 'sedih': False, 'dateng': False, 'seragam': False, 'komunikatif': False, 'tksh': False}, 'positive'), ({'bagus': False, 'sesuai': False, 'kirim': False, 'cepat': False, 'terimakasihh': False, 'beli': False, 'terima': False, 'gelap': False, 'tp': False, 'lembut': True, 'beda': False, 'wangi': False, 'tipis': False, 'puas': False, 'asli': False, 'halus': False, 'rapi': False, 'jual': False, 'pakai': False, 'kecewa': False, 'lumayan': False, 'cantik': False, 'enak': False, 'nyaman': False, 'ramah': False, 'rapih': False, 'mantap': False, 'murah': False, 'mudah': False, 'dapet': False, 'ukur': False, 'senang': False, 'tebal': False, 'tulis': False, 'sale': False, 'aman': False, 'cocok': False, 'sampe': False, 'hijau': False, 'dipake': False, 'cerah': False, 'terang': False, 'licin': False, 'harap': False, 'salah': False, 'display': False, 'lebar': False, 'dipakenya': False, 'selamat': False, 'terawang': False, 'langsung': False, 'skripsi': False, 'wangiiii': False, 'besar': False, 'dichat': False, 'buka': False, 'takut': False, 'gampang': False, 'biru': False, 'makasihh': False, 'mami': False, 'baik': False, 'ori': False, 'kasar': False, 'ungu': False, 'tua': False, 'tolong': False, 'jatuh': False, 'harum': False, 'biar': False, 'teliti': False, 'depan': False, 'hihiiii': False, 'mecca': False, 'cacat': False, 'hitam': False, 'discount': False, 'kaya': False, 'pilih': False, 'normal': False, 'kaku': False, 'disc': False, 'mending': False, 'neng': False, 'tutup': False, 'pandang': False, 'bingung': False, 'jazakallah': False, 'lambat': False, 'habis': False, 'bayar': False, 'ttp': False, 'khaki': False, 'dingin': False, 'aduh': False, 'panjang': False, 'medium-light': False, 'lepas': False, 'wangiiiii': False, 'bikin': False, 'tukar': False, 'mohon': False, 'segiempatnya': False, 'lihat': False, 'i': False, 'mahal': False, 'kecil': False, 'ditambahin': False, 'khusus': False, 'lebih': False, 'nyari': False, 'jelek': False, 'jdi': False, 'huni': False, 'bantu': False, 'instan': False, 'coba': False, 'cuci': False, 'udh': False, 'dsini': False, 'meleset': False, 'unik': False, 'tampil': False, 'indah': False, 'tembus': False, 'tinggal': False, 'memfollowup': False, 'lancar': False, 'masuk': False, 'turquoise': False, 'toleransi': False, 'ambil': False, 'jujur': False, 'konsisten': False, 'minimal': False, 'kejar': False, 'buruk': False, 'mantaps': False, 'dpakai': False, 'berkualitasss': False, 'dirmh': False, 'bli': False, 'jaga': False, 'gpplah': False, 'tetep': False, 'dicobaa': False, 'lucu': False, 'diacount': False, 'dibikim': False, 'lembuuutttt': False, 'sekali': False, 'cari': False, 'ragu': False, 'gelaaaaaaap': False, 'loh': False, 'lengkap': False, 'hihi': False, 'datang': False, 'sulit': False, 'tebak': False, 'sedihh': False, 'dipoto': False, 'dinyalahin': False, 'dibatalin': False, 'otomatis': False, 'busuk': False, 'slh': False, 'repot': False, 'khawatir': False, 'bgni': False, 'sii': False, 'diksh': False, 'nyampei': False, 'sebut': False, 'favorit': False, 'maksihh': False, 'murahhh': False, 'maksih': False, 'jazakillah': False, 'dipke': False, 'sempit': False, 'kompak': False, 'plus': False, 'dapat': False, 'tpi': False, 'sopan': False, 'cantiiiiik': False, 'oke': False, 'tanggung': False, 'selesai': False, 'kembali': False, 'mepet': False, 'sekaliiiii': False, 'dekat': False, 'tkt': False, 'kooperatif': False, 'praktis': False, 'atur': False, 'segeh': False, 'ringan': False, 'makan': False, 'ketupat': False, 'tajam': False, 'sehh': False, 'biasaa': False, 'ntah': False, 'much': False, 'minta': False, 'doski': False, 'tinggi': False, 'dipotongin': False, 'ditanyain': False, 'kira': False, 'tabarakallah': False, 'xixi': False, 'mkshh': False, 'tipiis': False, 'tawar': False, 'tunik': False, 'trus': False, 'putih': False, 'menang': False, 'wangiiiiii': False, 'navi': False, 'pasti': False, 'makasiiiih': False, 'takbir': False, 'diskony': False, 'lagi': False, 'manis': False, 'diraguka': False, 'sedih': False, 'dateng': False, 'seragam': False, 'komunikatif': False, 'tksh': False}, 'positive'), ({'bagus': False, 'sesuai': False, 'kirim': False, 'cepat': False, 'terimakasihh': True, 'beli': False, 'terima': False, 'gelap': False, 'tp': False, 'lembut': False, 'beda': False, 'wangi': False, 'tipis': False, 'puas': False, 'asli': False, 'halus': False, 'rapi': False, 'jual': False, 'pakai': False, 'kecewa': False, 'lumayan': False, 'cantik': False, 'enak': False, 'nyaman': False, 'ramah': False, 'rapih': False, 'mantap': False, 'murah': False, 'mudah': False, 'dapet': False, 'ukur': False, 'senang': False, 'tebal': False, 'tulis': False, 'sale': False, 'aman': False, 'cocok': False, 'sampe': False, 'hijau': False, 'dipake': False, 'cerah': False, 'terang': False, 'licin': False, 'harap': False, 'salah': False, 'display': False, 'lebar': False, 'dipakenya': False, 'selamat': False, 'terawang': False, 'langsung': False, 'skripsi': False, 'wangiiii': False, 'besar': False, 'dichat': False, 'buka': False, 'takut': False, 'gampang': False, 'biru': False, 'makasihh': False, 'mami': False, 'baik': False, 'ori': False, 'kasar': False, 'ungu': False, 'tua': False, 'tolong': False, 'jatuh': False, 'harum': False, 'biar': False, 'teliti': False, 'depan': False, 'hihiiii': False, 'mecca': False, 'cacat': False, 'hitam': False, 'discount': False, 'kaya': False, 'pilih': False, 'normal': False, 'kaku': False, 'disc': False, 'mending': False, 'neng': False, 'tutup': False, 'pandang': False, 'bingung': False, 'jazakallah': False, 'lambat': False, 'habis': False, 'bayar': False, 'ttp': False, 'khaki': False, 'dingin': False, 'aduh': False, 'panjang': False, 'medium-light': False, 'lepas': False, 'wangiiiii': False, 'bikin': False, 'tukar': False, 'mohon': False, 'segiempatnya': False, 'lihat': False, 'i': False, 'mahal': False, 'kecil': False, 'ditambahin': False, 'khusus': False, 'lebih': False, 'nyari': False, 'jelek': False, 'jdi': False, 'huni': False, 'bantu': False, 'instan': False, 'coba': False, 'cuci': False, 'udh': False, 'dsini': False, 'meleset': False, 'unik': False, 'tampil': False, 'indah': False, 'tembus': False, 'tinggal': False, 'memfollowup': False, 'lancar': False, 'masuk': False, 'turquoise': False, 'toleransi': False, 'ambil': False, 'jujur': False, 'konsisten': False, 'minimal': False, 'kejar': False, 'buruk': False, 'mantaps': False, 'dpakai': False, 'berkualitasss': False, 'dirmh': False, 'bli': False, 'jaga': False, 'gpplah': False, 'tetep': False, 'dicobaa': False, 'lucu': False, 'diacount': False, 'dibikim': False, 'lembuuutttt': False, 'sekali': False, 'cari': False, 'ragu': False, 'gelaaaaaaap': False, 'loh': False, 'lengkap': False, 'hihi': False, 'datang': False, 'sulit': False, 'tebak': False, 'sedihh': False, 'dipoto': False, 'dinyalahin': False, 'dibatalin': False, 'otomatis': False, 'busuk': False, 'slh': False, 'repot': False, 'khawatir': False, 'bgni': False, 'sii': False, 'diksh': False, 'nyampei': False, 'sebut': False, 'favorit': False, 'maksihh': False, 'murahhh': False, 'maksih': False, 'jazakillah': False, 'dipke': False, 'sempit': False, 'kompak': False, 'plus': False, 'dapat': False, 'tpi': False, 'sopan': False, 'cantiiiiik': False, 'oke': False, 'tanggung': False, 'selesai': False, 'kembali': False, 'mepet': False, 'sekaliiiii': False, 'dekat': False, 'tkt': False, 'kooperatif': False, 'praktis': False, 'atur': False, 'segeh': False, 'ringan': False, 'makan': False, 'ketupat': False, 'tajam': False, 'sehh': False, 'biasaa': False, 'ntah': False, 'much': False, 'minta': False, 'doski': False, 'tinggi': False, 'dipotongin': False, 'ditanyain': False, 'kira': False, 'tabarakallah': False, 'xixi': False, 'mkshh': False, 'tipiis': False, 'tawar': False, 'tunik': False, 'trus': False, 'putih': False, 'menang': False, 'wangiiiiii': False, 'navi': False, 'pasti': False, 'makasiiiih': False, 'takbir': False, 'diskony': False, 'lagi': False, 'manis': False, 'diraguka': False, 'sedih': False, 'dateng': False, 'seragam': False, 'komunikatif': False, 'tksh': False}, 'positive')]\n"
          ],
          "name": "stdout"
        }
      ]
    },
    {
      "cell_type": "code",
      "metadata": {
        "id": "lwWP74-0tORc"
      },
      "source": [
        "# menyusun data training dan testing\n",
        "trainsize = round(len(featuresets)*0.7)\n",
        "\n",
        "random.shuffle(featuresets)\n",
        "training_set = featuresets[:trainsize]\n",
        "testing_set = featuresets[trainsize:]\n"
      ],
      "execution_count": null,
      "outputs": []
    },
    {
      "cell_type": "code",
      "metadata": {
        "colab": {
          "base_uri": "https://localhost:8080/"
        },
        "id": "tPwMTed6WwhU",
        "outputId": "3951899e-4288-42b9-d901-0e7e4541e7f9"
      },
      "source": [
        "print(*testing_set[:5], sep = \"\\n\")"
      ],
      "execution_count": null,
      "outputs": [
        {
          "output_type": "stream",
          "text": [
            "({'bagus': False, 'sesuai': True, 'kirim': False, 'cepat': False, 'terimakasihh': False, 'beli': False, 'terima': False, 'gelap': False, 'tp': False, 'lembut': False, 'beda': False, 'wangi': False, 'tipis': False, 'puas': False, 'asli': False, 'halus': False, 'rapi': False, 'jual': False, 'pakai': False, 'kecewa': False, 'lumayan': False, 'cantik': False, 'enak': False, 'nyaman': False, 'ramah': False, 'rapih': False, 'mantap': False, 'murah': False, 'mudah': False, 'dapet': False, 'ukur': False, 'senang': False, 'tebal': False, 'tulis': False, 'sale': False, 'aman': False, 'cocok': False, 'sampe': False, 'hijau': False, 'dipake': False, 'cerah': False, 'terang': False, 'licin': False, 'harap': False, 'salah': False, 'display': False, 'lebar': False, 'dipakenya': False, 'selamat': False, 'terawang': False, 'langsung': False, 'skripsi': False, 'wangiiii': False, 'besar': False, 'dichat': False, 'buka': False, 'takut': False, 'gampang': False, 'biru': False, 'makasihh': False, 'mami': False, 'baik': False, 'ori': False, 'kasar': False, 'ungu': False, 'tua': False, 'tolong': False, 'jatuh': False, 'harum': False, 'biar': False, 'teliti': False, 'depan': False, 'hihiiii': False, 'mecca': False, 'cacat': False, 'hitam': False, 'discount': False, 'kaya': False, 'pilih': False, 'normal': False, 'kaku': False, 'disc': False, 'mending': False, 'neng': False, 'tutup': False, 'pandang': False, 'bingung': False, 'jazakallah': False, 'lambat': False, 'habis': False, 'bayar': False, 'ttp': False, 'khaki': False, 'dingin': False, 'aduh': False, 'panjang': False, 'medium-light': False, 'lepas': False, 'wangiiiii': False, 'bikin': False, 'tukar': False, 'mohon': False, 'segiempatnya': False, 'lihat': False, 'i': False, 'mahal': False, 'kecil': False, 'ditambahin': False, 'khusus': False, 'lebih': False, 'nyari': False, 'jelek': False, 'jdi': False, 'huni': False, 'bantu': False, 'instan': False, 'coba': False, 'cuci': False, 'udh': False, 'dsini': False, 'meleset': False, 'unik': False, 'tampil': False, 'indah': False, 'tembus': False, 'tinggal': False, 'memfollowup': False, 'lancar': False, 'masuk': False, 'turquoise': False, 'toleransi': False, 'ambil': False, 'jujur': False, 'konsisten': False, 'minimal': False, 'kejar': False, 'buruk': False, 'mantaps': False, 'dpakai': False, 'berkualitasss': False, 'dirmh': False, 'bli': False, 'jaga': False, 'gpplah': False, 'tetep': False, 'dicobaa': False, 'lucu': False, 'diacount': False, 'dibikim': False, 'lembuuutttt': False, 'sekali': False, 'cari': False, 'ragu': False, 'gelaaaaaaap': False, 'loh': False, 'lengkap': False, 'hihi': False, 'datang': True, 'sulit': False, 'tebak': False, 'sedihh': False, 'dipoto': False, 'dinyalahin': False, 'dibatalin': False, 'otomatis': False, 'busuk': False, 'slh': False, 'repot': False, 'khawatir': False, 'bgni': False, 'sii': False, 'diksh': False, 'nyampei': False, 'sebut': False, 'favorit': False, 'maksihh': False, 'murahhh': False, 'maksih': False, 'jazakillah': False, 'dipke': False, 'sempit': False, 'kompak': False, 'plus': False, 'dapat': False, 'tpi': False, 'sopan': False, 'cantiiiiik': False, 'oke': False, 'tanggung': False, 'selesai': False, 'kembali': False, 'mepet': False, 'sekaliiiii': False, 'dekat': False, 'tkt': False, 'kooperatif': False, 'praktis': False, 'atur': False, 'segeh': False, 'ringan': False, 'makan': False, 'ketupat': False, 'tajam': False, 'sehh': False, 'biasaa': False, 'ntah': False, 'much': False, 'minta': False, 'doski': False, 'tinggi': False, 'dipotongin': False, 'ditanyain': False, 'kira': False, 'tabarakallah': False, 'xixi': False, 'mkshh': False, 'tipiis': False, 'tawar': False, 'tunik': False, 'trus': False, 'putih': False, 'menang': False, 'wangiiiiii': False, 'navi': False, 'pasti': False, 'makasiiiih': False, 'takbir': False, 'diskony': False, 'lagi': False, 'manis': False, 'diraguka': False, 'sedih': False, 'dateng': False, 'seragam': False, 'komunikatif': False, 'tksh': False}, 'positive')\n",
            "({'bagus': False, 'sesuai': False, 'kirim': False, 'cepat': False, 'terimakasihh': False, 'beli': True, 'terima': False, 'gelap': False, 'tp': False, 'lembut': False, 'beda': False, 'wangi': False, 'tipis': False, 'puas': False, 'asli': False, 'halus': False, 'rapi': False, 'jual': False, 'pakai': False, 'kecewa': False, 'lumayan': False, 'cantik': False, 'enak': False, 'nyaman': False, 'ramah': False, 'rapih': False, 'mantap': False, 'murah': False, 'mudah': False, 'dapet': False, 'ukur': False, 'senang': False, 'tebal': False, 'tulis': False, 'sale': False, 'aman': False, 'cocok': False, 'sampe': False, 'hijau': False, 'dipake': False, 'cerah': False, 'terang': False, 'licin': False, 'harap': False, 'salah': False, 'display': False, 'lebar': False, 'dipakenya': False, 'selamat': False, 'terawang': False, 'langsung': False, 'skripsi': False, 'wangiiii': False, 'besar': False, 'dichat': False, 'buka': False, 'takut': False, 'gampang': False, 'biru': False, 'makasihh': False, 'mami': False, 'baik': False, 'ori': False, 'kasar': False, 'ungu': False, 'tua': False, 'tolong': False, 'jatuh': False, 'harum': False, 'biar': False, 'teliti': False, 'depan': False, 'hihiiii': False, 'mecca': False, 'cacat': False, 'hitam': False, 'discount': False, 'kaya': False, 'pilih': False, 'normal': False, 'kaku': False, 'disc': False, 'mending': False, 'neng': False, 'tutup': False, 'pandang': False, 'bingung': False, 'jazakallah': False, 'lambat': False, 'habis': False, 'bayar': False, 'ttp': False, 'khaki': False, 'dingin': False, 'aduh': False, 'panjang': False, 'medium-light': False, 'lepas': False, 'wangiiiii': False, 'bikin': False, 'tukar': False, 'mohon': False, 'segiempatnya': False, 'lihat': False, 'i': False, 'mahal': False, 'kecil': False, 'ditambahin': False, 'khusus': False, 'lebih': False, 'nyari': False, 'jelek': False, 'jdi': False, 'huni': False, 'bantu': False, 'instan': False, 'coba': False, 'cuci': False, 'udh': False, 'dsini': False, 'meleset': False, 'unik': False, 'tampil': False, 'indah': False, 'tembus': False, 'tinggal': False, 'memfollowup': False, 'lancar': False, 'masuk': False, 'turquoise': False, 'toleransi': False, 'ambil': False, 'jujur': False, 'konsisten': False, 'minimal': False, 'kejar': False, 'buruk': False, 'mantaps': False, 'dpakai': False, 'berkualitasss': False, 'dirmh': False, 'bli': False, 'jaga': False, 'gpplah': False, 'tetep': False, 'dicobaa': False, 'lucu': False, 'diacount': False, 'dibikim': False, 'lembuuutttt': False, 'sekali': False, 'cari': False, 'ragu': False, 'gelaaaaaaap': False, 'loh': False, 'lengkap': False, 'hihi': False, 'datang': False, 'sulit': False, 'tebak': False, 'sedihh': False, 'dipoto': False, 'dinyalahin': False, 'dibatalin': False, 'otomatis': False, 'busuk': False, 'slh': False, 'repot': False, 'khawatir': False, 'bgni': False, 'sii': False, 'diksh': False, 'nyampei': False, 'sebut': False, 'favorit': False, 'maksihh': False, 'murahhh': False, 'maksih': False, 'jazakillah': False, 'dipke': False, 'sempit': False, 'kompak': False, 'plus': False, 'dapat': False, 'tpi': False, 'sopan': False, 'cantiiiiik': False, 'oke': False, 'tanggung': False, 'selesai': False, 'kembali': False, 'mepet': False, 'sekaliiiii': False, 'dekat': False, 'tkt': False, 'kooperatif': False, 'praktis': False, 'atur': False, 'segeh': False, 'ringan': False, 'makan': False, 'ketupat': False, 'tajam': False, 'sehh': False, 'biasaa': False, 'ntah': False, 'much': False, 'minta': False, 'doski': False, 'tinggi': False, 'dipotongin': False, 'ditanyain': False, 'kira': False, 'tabarakallah': False, 'xixi': False, 'mkshh': False, 'tipiis': False, 'tawar': False, 'tunik': False, 'trus': False, 'putih': False, 'menang': False, 'wangiiiiii': False, 'navi': False, 'pasti': False, 'makasiiiih': False, 'takbir': False, 'diskony': False, 'lagi': True, 'manis': False, 'diraguka': False, 'sedih': False, 'dateng': False, 'seragam': False, 'komunikatif': False, 'tksh': False}, 'positive')\n",
            "({'bagus': False, 'sesuai': False, 'kirim': False, 'cepat': False, 'terimakasihh': False, 'beli': False, 'terima': False, 'gelap': True, 'tp': False, 'lembut': False, 'beda': False, 'wangi': False, 'tipis': True, 'puas': False, 'asli': False, 'halus': False, 'rapi': False, 'jual': False, 'pakai': False, 'kecewa': False, 'lumayan': False, 'cantik': False, 'enak': False, 'nyaman': False, 'ramah': False, 'rapih': False, 'mantap': False, 'murah': False, 'mudah': False, 'dapet': False, 'ukur': False, 'senang': False, 'tebal': False, 'tulis': False, 'sale': False, 'aman': False, 'cocok': False, 'sampe': False, 'hijau': False, 'dipake': False, 'cerah': False, 'terang': False, 'licin': False, 'harap': False, 'salah': False, 'display': False, 'lebar': False, 'dipakenya': False, 'selamat': False, 'terawang': False, 'langsung': False, 'skripsi': False, 'wangiiii': False, 'besar': False, 'dichat': False, 'buka': False, 'takut': False, 'gampang': False, 'biru': False, 'makasihh': False, 'mami': False, 'baik': False, 'ori': False, 'kasar': False, 'ungu': False, 'tua': False, 'tolong': False, 'jatuh': False, 'harum': False, 'biar': False, 'teliti': False, 'depan': False, 'hihiiii': False, 'mecca': False, 'cacat': False, 'hitam': False, 'discount': False, 'kaya': False, 'pilih': False, 'normal': False, 'kaku': False, 'disc': False, 'mending': False, 'neng': False, 'tutup': False, 'pandang': False, 'bingung': False, 'jazakallah': False, 'lambat': False, 'habis': False, 'bayar': False, 'ttp': False, 'khaki': False, 'dingin': False, 'aduh': False, 'panjang': False, 'medium-light': False, 'lepas': False, 'wangiiiii': False, 'bikin': False, 'tukar': False, 'mohon': False, 'segiempatnya': False, 'lihat': False, 'i': False, 'mahal': False, 'kecil': False, 'ditambahin': False, 'khusus': False, 'lebih': False, 'nyari': False, 'jelek': False, 'jdi': False, 'huni': False, 'bantu': False, 'instan': False, 'coba': False, 'cuci': False, 'udh': False, 'dsini': False, 'meleset': False, 'unik': False, 'tampil': False, 'indah': False, 'tembus': False, 'tinggal': False, 'memfollowup': False, 'lancar': False, 'masuk': False, 'turquoise': False, 'toleransi': False, 'ambil': False, 'jujur': False, 'konsisten': False, 'minimal': False, 'kejar': False, 'buruk': False, 'mantaps': False, 'dpakai': False, 'berkualitasss': False, 'dirmh': False, 'bli': False, 'jaga': False, 'gpplah': False, 'tetep': False, 'dicobaa': False, 'lucu': False, 'diacount': False, 'dibikim': False, 'lembuuutttt': False, 'sekali': False, 'cari': False, 'ragu': False, 'gelaaaaaaap': False, 'loh': False, 'lengkap': False, 'hihi': False, 'datang': False, 'sulit': False, 'tebak': False, 'sedihh': False, 'dipoto': False, 'dinyalahin': False, 'dibatalin': False, 'otomatis': False, 'busuk': False, 'slh': False, 'repot': False, 'khawatir': False, 'bgni': False, 'sii': False, 'diksh': False, 'nyampei': False, 'sebut': False, 'favorit': False, 'maksihh': False, 'murahhh': False, 'maksih': False, 'jazakillah': False, 'dipke': False, 'sempit': False, 'kompak': False, 'plus': False, 'dapat': False, 'tpi': False, 'sopan': False, 'cantiiiiik': False, 'oke': False, 'tanggung': False, 'selesai': False, 'kembali': False, 'mepet': False, 'sekaliiiii': False, 'dekat': False, 'tkt': False, 'kooperatif': False, 'praktis': False, 'atur': False, 'segeh': False, 'ringan': False, 'makan': False, 'ketupat': False, 'tajam': False, 'sehh': False, 'biasaa': False, 'ntah': False, 'much': False, 'minta': False, 'doski': False, 'tinggi': False, 'dipotongin': False, 'ditanyain': False, 'kira': False, 'tabarakallah': False, 'xixi': False, 'mkshh': False, 'tipiis': False, 'tawar': False, 'tunik': False, 'trus': False, 'putih': False, 'menang': False, 'wangiiiiii': False, 'navi': False, 'pasti': False, 'makasiiiih': False, 'takbir': False, 'diskony': False, 'lagi': False, 'manis': False, 'diraguka': False, 'sedih': False, 'dateng': False, 'seragam': False, 'komunikatif': False, 'tksh': False}, 'negative')\n",
            "({'bagus': False, 'sesuai': False, 'kirim': False, 'cepat': False, 'terimakasihh': False, 'beli': False, 'terima': False, 'gelap': False, 'tp': False, 'lembut': False, 'beda': False, 'wangi': False, 'tipis': False, 'puas': False, 'asli': False, 'halus': False, 'rapi': False, 'jual': False, 'pakai': False, 'kecewa': False, 'lumayan': False, 'cantik': False, 'enak': False, 'nyaman': False, 'ramah': False, 'rapih': False, 'mantap': False, 'murah': False, 'mudah': False, 'dapet': False, 'ukur': False, 'senang': False, 'tebal': False, 'tulis': False, 'sale': True, 'aman': False, 'cocok': False, 'sampe': False, 'hijau': False, 'dipake': False, 'cerah': False, 'terang': False, 'licin': False, 'harap': False, 'salah': False, 'display': False, 'lebar': False, 'dipakenya': False, 'selamat': False, 'terawang': False, 'langsung': False, 'skripsi': False, 'wangiiii': False, 'besar': False, 'dichat': False, 'buka': False, 'takut': False, 'gampang': False, 'biru': False, 'makasihh': False, 'mami': False, 'baik': False, 'ori': False, 'kasar': False, 'ungu': False, 'tua': False, 'tolong': False, 'jatuh': False, 'harum': False, 'biar': False, 'teliti': False, 'depan': False, 'hihiiii': False, 'mecca': False, 'cacat': False, 'hitam': False, 'discount': False, 'kaya': False, 'pilih': False, 'normal': False, 'kaku': False, 'disc': False, 'mending': False, 'neng': False, 'tutup': False, 'pandang': False, 'bingung': False, 'jazakallah': False, 'lambat': False, 'habis': False, 'bayar': False, 'ttp': False, 'khaki': False, 'dingin': False, 'aduh': False, 'panjang': False, 'medium-light': False, 'lepas': False, 'wangiiiii': False, 'bikin': False, 'tukar': False, 'mohon': False, 'segiempatnya': False, 'lihat': False, 'i': False, 'mahal': False, 'kecil': False, 'ditambahin': False, 'khusus': False, 'lebih': False, 'nyari': False, 'jelek': False, 'jdi': False, 'huni': False, 'bantu': False, 'instan': False, 'coba': False, 'cuci': False, 'udh': False, 'dsini': False, 'meleset': False, 'unik': False, 'tampil': False, 'indah': False, 'tembus': False, 'tinggal': False, 'memfollowup': False, 'lancar': False, 'masuk': False, 'turquoise': False, 'toleransi': False, 'ambil': False, 'jujur': False, 'konsisten': False, 'minimal': False, 'kejar': False, 'buruk': False, 'mantaps': False, 'dpakai': False, 'berkualitasss': False, 'dirmh': False, 'bli': False, 'jaga': False, 'gpplah': False, 'tetep': False, 'dicobaa': False, 'lucu': False, 'diacount': False, 'dibikim': False, 'lembuuutttt': False, 'sekali': False, 'cari': False, 'ragu': False, 'gelaaaaaaap': False, 'loh': False, 'lengkap': False, 'hihi': False, 'datang': False, 'sulit': False, 'tebak': False, 'sedihh': False, 'dipoto': False, 'dinyalahin': False, 'dibatalin': False, 'otomatis': False, 'busuk': False, 'slh': False, 'repot': False, 'khawatir': False, 'bgni': False, 'sii': False, 'diksh': False, 'nyampei': False, 'sebut': False, 'favorit': False, 'maksihh': False, 'murahhh': False, 'maksih': False, 'jazakillah': False, 'dipke': False, 'sempit': False, 'kompak': False, 'plus': False, 'dapat': False, 'tpi': False, 'sopan': False, 'cantiiiiik': False, 'oke': False, 'tanggung': False, 'selesai': False, 'kembali': False, 'mepet': False, 'sekaliiiii': False, 'dekat': False, 'tkt': False, 'kooperatif': False, 'praktis': False, 'atur': False, 'segeh': False, 'ringan': False, 'makan': False, 'ketupat': False, 'tajam': False, 'sehh': False, 'biasaa': False, 'ntah': False, 'much': False, 'minta': False, 'doski': False, 'tinggi': False, 'dipotongin': False, 'ditanyain': False, 'kira': False, 'tabarakallah': False, 'xixi': False, 'mkshh': False, 'tipiis': False, 'tawar': False, 'tunik': False, 'trus': False, 'putih': False, 'menang': False, 'wangiiiiii': False, 'navi': False, 'pasti': False, 'makasiiiih': False, 'takbir': False, 'diskony': False, 'lagi': False, 'manis': False, 'diraguka': False, 'sedih': False, 'dateng': False, 'seragam': False, 'komunikatif': False, 'tksh': False}, 'positive')\n",
            "({'bagus': False, 'sesuai': False, 'kirim': False, 'cepat': False, 'terimakasihh': True, 'beli': False, 'terima': False, 'gelap': False, 'tp': False, 'lembut': False, 'beda': False, 'wangi': False, 'tipis': False, 'puas': False, 'asli': False, 'halus': False, 'rapi': False, 'jual': False, 'pakai': False, 'kecewa': False, 'lumayan': False, 'cantik': False, 'enak': False, 'nyaman': False, 'ramah': False, 'rapih': False, 'mantap': False, 'murah': False, 'mudah': False, 'dapet': False, 'ukur': False, 'senang': False, 'tebal': False, 'tulis': False, 'sale': False, 'aman': False, 'cocok': False, 'sampe': False, 'hijau': False, 'dipake': False, 'cerah': False, 'terang': False, 'licin': False, 'harap': False, 'salah': False, 'display': False, 'lebar': False, 'dipakenya': False, 'selamat': False, 'terawang': False, 'langsung': False, 'skripsi': False, 'wangiiii': False, 'besar': False, 'dichat': False, 'buka': False, 'takut': False, 'gampang': False, 'biru': False, 'makasihh': False, 'mami': False, 'baik': False, 'ori': False, 'kasar': False, 'ungu': False, 'tua': False, 'tolong': False, 'jatuh': False, 'harum': False, 'biar': False, 'teliti': False, 'depan': False, 'hihiiii': False, 'mecca': False, 'cacat': False, 'hitam': False, 'discount': False, 'kaya': False, 'pilih': False, 'normal': False, 'kaku': False, 'disc': False, 'mending': False, 'neng': False, 'tutup': False, 'pandang': False, 'bingung': False, 'jazakallah': False, 'lambat': False, 'habis': False, 'bayar': False, 'ttp': False, 'khaki': False, 'dingin': False, 'aduh': False, 'panjang': False, 'medium-light': False, 'lepas': False, 'wangiiiii': False, 'bikin': False, 'tukar': False, 'mohon': False, 'segiempatnya': False, 'lihat': False, 'i': False, 'mahal': False, 'kecil': False, 'ditambahin': False, 'khusus': False, 'lebih': False, 'nyari': False, 'jelek': False, 'jdi': False, 'huni': False, 'bantu': False, 'instan': False, 'coba': False, 'cuci': False, 'udh': False, 'dsini': False, 'meleset': False, 'unik': False, 'tampil': False, 'indah': False, 'tembus': False, 'tinggal': False, 'memfollowup': False, 'lancar': False, 'masuk': False, 'turquoise': False, 'toleransi': False, 'ambil': False, 'jujur': False, 'konsisten': False, 'minimal': False, 'kejar': False, 'buruk': False, 'mantaps': False, 'dpakai': False, 'berkualitasss': False, 'dirmh': False, 'bli': False, 'jaga': False, 'gpplah': False, 'tetep': False, 'dicobaa': False, 'lucu': False, 'diacount': False, 'dibikim': False, 'lembuuutttt': False, 'sekali': False, 'cari': False, 'ragu': False, 'gelaaaaaaap': False, 'loh': False, 'lengkap': False, 'hihi': False, 'datang': False, 'sulit': False, 'tebak': False, 'sedihh': False, 'dipoto': False, 'dinyalahin': False, 'dibatalin': False, 'otomatis': False, 'busuk': False, 'slh': False, 'repot': False, 'khawatir': False, 'bgni': False, 'sii': False, 'diksh': False, 'nyampei': False, 'sebut': False, 'favorit': False, 'maksihh': False, 'murahhh': False, 'maksih': False, 'jazakillah': False, 'dipke': False, 'sempit': False, 'kompak': False, 'plus': False, 'dapat': False, 'tpi': False, 'sopan': False, 'cantiiiiik': False, 'oke': False, 'tanggung': False, 'selesai': False, 'kembali': False, 'mepet': False, 'sekaliiiii': False, 'dekat': False, 'tkt': False, 'kooperatif': False, 'praktis': False, 'atur': False, 'segeh': False, 'ringan': False, 'makan': False, 'ketupat': False, 'tajam': False, 'sehh': False, 'biasaa': False, 'ntah': False, 'much': False, 'minta': False, 'doski': False, 'tinggi': False, 'dipotongin': False, 'ditanyain': False, 'kira': False, 'tabarakallah': False, 'xixi': False, 'mkshh': False, 'tipiis': False, 'tawar': False, 'tunik': False, 'trus': False, 'putih': False, 'menang': False, 'wangiiiiii': False, 'navi': False, 'pasti': False, 'makasiiiih': False, 'takbir': False, 'diskony': False, 'lagi': False, 'manis': False, 'diraguka': False, 'sedih': False, 'dateng': False, 'seragam': False, 'komunikatif': False, 'tksh': False}, 'positive')\n"
          ],
          "name": "stdout"
        }
      ]
    },
    {
      "cell_type": "code",
      "metadata": {
        "colab": {
          "base_uri": "https://localhost:8080/"
        },
        "id": "gOOlSa5iSHtH",
        "outputId": "e5551a95-2ac8-419f-e5f9-e27ea44747fe"
      },
      "source": [
        "print('\\n'.join(map(str, training_set[:5])))"
      ],
      "execution_count": null,
      "outputs": [
        {
          "output_type": "stream",
          "text": [
            "({'bagus': True, 'sesuai': False, 'kirim': False, 'cepat': False, 'terimakasihh': False, 'beli': False, 'terima': False, 'gelap': False, 'tp': False, 'lembut': False, 'beda': False, 'wangi': False, 'tipis': False, 'puas': False, 'asli': False, 'halus': False, 'rapi': False, 'jual': False, 'pakai': False, 'kecewa': False, 'lumayan': False, 'cantik': False, 'enak': False, 'nyaman': False, 'ramah': False, 'rapih': False, 'mantap': False, 'murah': False, 'mudah': False, 'dapet': False, 'ukur': False, 'senang': False, 'tebal': False, 'tulis': False, 'sale': False, 'aman': False, 'cocok': False, 'sampe': False, 'hijau': False, 'dipake': False, 'cerah': False, 'terang': False, 'licin': False, 'harap': False, 'salah': False, 'display': False, 'lebar': False, 'dipakenya': False, 'selamat': False, 'terawang': False, 'langsung': False, 'skripsi': False, 'wangiiii': False, 'besar': False, 'dichat': False, 'buka': False, 'takut': False, 'gampang': False, 'biru': False, 'makasihh': False, 'mami': False, 'baik': False, 'ori': False, 'kasar': False, 'ungu': False, 'tua': False, 'tolong': False, 'jatuh': False, 'harum': False, 'biar': False, 'teliti': False, 'depan': False, 'hihiiii': False, 'mecca': False, 'cacat': False, 'hitam': False, 'discount': False, 'kaya': False, 'pilih': False, 'normal': False, 'kaku': False, 'disc': False, 'mending': False, 'neng': False, 'tutup': False, 'pandang': False, 'bingung': False, 'jazakallah': False, 'lambat': False, 'habis': False, 'bayar': False, 'ttp': False, 'khaki': False, 'dingin': False, 'aduh': False, 'panjang': False, 'medium-light': False, 'lepas': False, 'wangiiiii': False, 'bikin': False, 'tukar': False, 'mohon': False, 'segiempatnya': False, 'lihat': False, 'i': False, 'mahal': False, 'kecil': False, 'ditambahin': False, 'khusus': False, 'lebih': False, 'nyari': False, 'jelek': False, 'jdi': False, 'huni': False, 'bantu': False, 'instan': False, 'coba': False, 'cuci': False, 'udh': False, 'dsini': False, 'meleset': False, 'unik': False, 'tampil': False, 'indah': False, 'tembus': False, 'tinggal': False, 'memfollowup': False, 'lancar': False, 'masuk': False, 'turquoise': False, 'toleransi': False, 'ambil': False, 'jujur': False, 'konsisten': False, 'minimal': False, 'kejar': False, 'buruk': False, 'mantaps': False, 'dpakai': False, 'berkualitasss': False, 'dirmh': False, 'bli': False, 'jaga': False, 'gpplah': False, 'tetep': False, 'dicobaa': False, 'lucu': False, 'diacount': False, 'dibikim': False, 'lembuuutttt': False, 'sekali': False, 'cari': False, 'ragu': False, 'gelaaaaaaap': False, 'loh': False, 'lengkap': False, 'hihi': False, 'datang': False, 'sulit': False, 'tebak': False, 'sedihh': False, 'dipoto': False, 'dinyalahin': False, 'dibatalin': False, 'otomatis': False, 'busuk': False, 'slh': False, 'repot': False, 'khawatir': False, 'bgni': False, 'sii': False, 'diksh': False, 'nyampei': False, 'sebut': False, 'favorit': False, 'maksihh': False, 'murahhh': False, 'maksih': False, 'jazakillah': False, 'dipke': False, 'sempit': False, 'kompak': False, 'plus': False, 'dapat': False, 'tpi': False, 'sopan': False, 'cantiiiiik': False, 'oke': False, 'tanggung': False, 'selesai': False, 'kembali': False, 'mepet': False, 'sekaliiiii': False, 'dekat': False, 'tkt': False, 'kooperatif': False, 'praktis': False, 'atur': False, 'segeh': False, 'ringan': False, 'makan': False, 'ketupat': False, 'tajam': False, 'sehh': False, 'biasaa': False, 'ntah': False, 'much': False, 'minta': False, 'doski': False, 'tinggi': False, 'dipotongin': False, 'ditanyain': False, 'kira': False, 'tabarakallah': False, 'xixi': False, 'mkshh': False, 'tipiis': False, 'tawar': False, 'tunik': False, 'trus': False, 'putih': False, 'menang': False, 'wangiiiiii': False, 'navi': False, 'pasti': False, 'makasiiiih': False, 'takbir': False, 'diskony': False, 'lagi': True, 'manis': False, 'diraguka': False, 'sedih': False, 'dateng': False, 'seragam': False, 'komunikatif': False, 'tksh': False}, 'positive')\n",
            "({'bagus': False, 'sesuai': False, 'kirim': False, 'cepat': False, 'terimakasihh': False, 'beli': False, 'terima': False, 'gelap': True, 'tp': False, 'lembut': False, 'beda': False, 'wangi': False, 'tipis': False, 'puas': False, 'asli': False, 'halus': False, 'rapi': False, 'jual': False, 'pakai': False, 'kecewa': False, 'lumayan': False, 'cantik': False, 'enak': False, 'nyaman': False, 'ramah': False, 'rapih': False, 'mantap': False, 'murah': False, 'mudah': False, 'dapet': False, 'ukur': False, 'senang': False, 'tebal': False, 'tulis': False, 'sale': False, 'aman': False, 'cocok': False, 'sampe': False, 'hijau': False, 'dipake': False, 'cerah': False, 'terang': False, 'licin': False, 'harap': False, 'salah': False, 'display': False, 'lebar': False, 'dipakenya': False, 'selamat': False, 'terawang': False, 'langsung': False, 'skripsi': False, 'wangiiii': False, 'besar': False, 'dichat': False, 'buka': False, 'takut': False, 'gampang': False, 'biru': False, 'makasihh': False, 'mami': False, 'baik': False, 'ori': False, 'kasar': False, 'ungu': False, 'tua': False, 'tolong': False, 'jatuh': False, 'harum': False, 'biar': False, 'teliti': False, 'depan': False, 'hihiiii': False, 'mecca': False, 'cacat': False, 'hitam': False, 'discount': False, 'kaya': False, 'pilih': False, 'normal': False, 'kaku': False, 'disc': False, 'mending': False, 'neng': False, 'tutup': False, 'pandang': False, 'bingung': False, 'jazakallah': False, 'lambat': False, 'habis': False, 'bayar': False, 'ttp': False, 'khaki': False, 'dingin': False, 'aduh': False, 'panjang': False, 'medium-light': False, 'lepas': False, 'wangiiiii': False, 'bikin': False, 'tukar': False, 'mohon': False, 'segiempatnya': False, 'lihat': False, 'i': False, 'mahal': False, 'kecil': False, 'ditambahin': False, 'khusus': False, 'lebih': True, 'nyari': False, 'jelek': False, 'jdi': False, 'huni': False, 'bantu': False, 'instan': False, 'coba': False, 'cuci': False, 'udh': False, 'dsini': False, 'meleset': False, 'unik': False, 'tampil': False, 'indah': False, 'tembus': False, 'tinggal': False, 'memfollowup': False, 'lancar': False, 'masuk': False, 'turquoise': False, 'toleransi': False, 'ambil': False, 'jujur': False, 'konsisten': False, 'minimal': False, 'kejar': False, 'buruk': False, 'mantaps': False, 'dpakai': False, 'berkualitasss': False, 'dirmh': False, 'bli': False, 'jaga': False, 'gpplah': False, 'tetep': False, 'dicobaa': False, 'lucu': False, 'diacount': False, 'dibikim': False, 'lembuuutttt': False, 'sekali': False, 'cari': False, 'ragu': False, 'gelaaaaaaap': False, 'loh': False, 'lengkap': False, 'hihi': False, 'datang': False, 'sulit': False, 'tebak': False, 'sedihh': False, 'dipoto': False, 'dinyalahin': False, 'dibatalin': False, 'otomatis': False, 'busuk': False, 'slh': False, 'repot': False, 'khawatir': False, 'bgni': False, 'sii': False, 'diksh': False, 'nyampei': False, 'sebut': False, 'favorit': False, 'maksihh': False, 'murahhh': False, 'maksih': False, 'jazakillah': False, 'dipke': False, 'sempit': False, 'kompak': False, 'plus': False, 'dapat': False, 'tpi': False, 'sopan': False, 'cantiiiiik': False, 'oke': False, 'tanggung': False, 'selesai': False, 'kembali': False, 'mepet': False, 'sekaliiiii': False, 'dekat': False, 'tkt': False, 'kooperatif': False, 'praktis': False, 'atur': False, 'segeh': False, 'ringan': False, 'makan': False, 'ketupat': False, 'tajam': False, 'sehh': False, 'biasaa': False, 'ntah': False, 'much': False, 'minta': False, 'doski': False, 'tinggi': False, 'dipotongin': False, 'ditanyain': False, 'kira': False, 'tabarakallah': False, 'xixi': False, 'mkshh': False, 'tipiis': False, 'tawar': False, 'tunik': False, 'trus': False, 'putih': False, 'menang': False, 'wangiiiiii': False, 'navi': False, 'pasti': False, 'makasiiiih': False, 'takbir': False, 'diskony': False, 'lagi': False, 'manis': False, 'diraguka': False, 'sedih': False, 'dateng': False, 'seragam': False, 'komunikatif': False, 'tksh': False}, 'positive')\n",
            "({'bagus': False, 'sesuai': False, 'kirim': False, 'cepat': False, 'terimakasihh': False, 'beli': False, 'terima': False, 'gelap': False, 'tp': False, 'lembut': False, 'beda': False, 'wangi': False, 'tipis': False, 'puas': False, 'asli': False, 'halus': False, 'rapi': False, 'jual': False, 'pakai': False, 'kecewa': False, 'lumayan': False, 'cantik': False, 'enak': False, 'nyaman': False, 'ramah': False, 'rapih': False, 'mantap': False, 'murah': False, 'mudah': False, 'dapet': False, 'ukur': False, 'senang': False, 'tebal': False, 'tulis': False, 'sale': False, 'aman': False, 'cocok': False, 'sampe': False, 'hijau': False, 'dipake': False, 'cerah': False, 'terang': False, 'licin': False, 'harap': False, 'salah': False, 'display': False, 'lebar': False, 'dipakenya': False, 'selamat': False, 'terawang': False, 'langsung': False, 'skripsi': False, 'wangiiii': False, 'besar': False, 'dichat': False, 'buka': False, 'takut': False, 'gampang': False, 'biru': False, 'makasihh': False, 'mami': False, 'baik': False, 'ori': False, 'kasar': False, 'ungu': False, 'tua': False, 'tolong': False, 'jatuh': False, 'harum': False, 'biar': False, 'teliti': False, 'depan': False, 'hihiiii': False, 'mecca': False, 'cacat': False, 'hitam': False, 'discount': False, 'kaya': False, 'pilih': False, 'normal': False, 'kaku': False, 'disc': False, 'mending': False, 'neng': False, 'tutup': False, 'pandang': False, 'bingung': False, 'jazakallah': False, 'lambat': False, 'habis': False, 'bayar': False, 'ttp': False, 'khaki': False, 'dingin': False, 'aduh': False, 'panjang': False, 'medium-light': False, 'lepas': False, 'wangiiiii': False, 'bikin': False, 'tukar': False, 'mohon': False, 'segiempatnya': False, 'lihat': False, 'i': False, 'mahal': False, 'kecil': False, 'ditambahin': False, 'khusus': False, 'lebih': False, 'nyari': False, 'jelek': False, 'jdi': False, 'huni': False, 'bantu': False, 'instan': False, 'coba': False, 'cuci': False, 'udh': False, 'dsini': False, 'meleset': False, 'unik': False, 'tampil': False, 'indah': False, 'tembus': False, 'tinggal': False, 'memfollowup': False, 'lancar': False, 'masuk': False, 'turquoise': False, 'toleransi': False, 'ambil': False, 'jujur': False, 'konsisten': False, 'minimal': False, 'kejar': False, 'buruk': False, 'mantaps': False, 'dpakai': False, 'berkualitasss': False, 'dirmh': False, 'bli': False, 'jaga': False, 'gpplah': False, 'tetep': False, 'dicobaa': False, 'lucu': False, 'diacount': False, 'dibikim': False, 'lembuuutttt': False, 'sekali': False, 'cari': False, 'ragu': False, 'gelaaaaaaap': False, 'loh': False, 'lengkap': False, 'hihi': False, 'datang': False, 'sulit': False, 'tebak': False, 'sedihh': False, 'dipoto': False, 'dinyalahin': False, 'dibatalin': False, 'otomatis': False, 'busuk': False, 'slh': False, 'repot': False, 'khawatir': False, 'bgni': False, 'sii': False, 'diksh': False, 'nyampei': False, 'sebut': False, 'favorit': False, 'maksihh': False, 'murahhh': False, 'maksih': False, 'jazakillah': False, 'dipke': False, 'sempit': False, 'kompak': False, 'plus': False, 'dapat': False, 'tpi': False, 'sopan': False, 'cantiiiiik': False, 'oke': False, 'tanggung': False, 'selesai': False, 'kembali': False, 'mepet': False, 'sekaliiiii': False, 'dekat': False, 'tkt': False, 'kooperatif': False, 'praktis': False, 'atur': False, 'segeh': False, 'ringan': False, 'makan': False, 'ketupat': False, 'tajam': False, 'sehh': False, 'biasaa': False, 'ntah': False, 'much': False, 'minta': False, 'doski': False, 'tinggi': False, 'dipotongin': False, 'ditanyain': False, 'kira': False, 'tabarakallah': False, 'xixi': False, 'mkshh': False, 'tipiis': False, 'tawar': False, 'tunik': False, 'trus': False, 'putih': False, 'menang': False, 'wangiiiiii': False, 'navi': False, 'pasti': False, 'makasiiiih': False, 'takbir': False, 'diskony': False, 'lagi': False, 'manis': False, 'diraguka': False, 'sedih': False, 'dateng': False, 'seragam': False, 'komunikatif': False, 'tksh': False}, 'positive')\n",
            "({'bagus': False, 'sesuai': False, 'kirim': False, 'cepat': False, 'terimakasihh': False, 'beli': False, 'terima': False, 'gelap': True, 'tp': False, 'lembut': False, 'beda': False, 'wangi': False, 'tipis': False, 'puas': False, 'asli': False, 'halus': True, 'rapi': True, 'jual': False, 'pakai': False, 'kecewa': False, 'lumayan': False, 'cantik': False, 'enak': False, 'nyaman': False, 'ramah': False, 'rapih': False, 'mantap': False, 'murah': False, 'mudah': False, 'dapet': False, 'ukur': False, 'senang': False, 'tebal': True, 'tulis': False, 'sale': False, 'aman': False, 'cocok': False, 'sampe': False, 'hijau': False, 'dipake': False, 'cerah': False, 'terang': False, 'licin': False, 'harap': False, 'salah': False, 'display': False, 'lebar': False, 'dipakenya': False, 'selamat': False, 'terawang': False, 'langsung': False, 'skripsi': False, 'wangiiii': False, 'besar': False, 'dichat': False, 'buka': False, 'takut': False, 'gampang': False, 'biru': False, 'makasihh': False, 'mami': False, 'baik': False, 'ori': False, 'kasar': False, 'ungu': False, 'tua': False, 'tolong': False, 'jatuh': False, 'harum': False, 'biar': False, 'teliti': False, 'depan': False, 'hihiiii': False, 'mecca': False, 'cacat': False, 'hitam': False, 'discount': False, 'kaya': False, 'pilih': False, 'normal': False, 'kaku': False, 'disc': False, 'mending': False, 'neng': False, 'tutup': False, 'pandang': False, 'bingung': False, 'jazakallah': False, 'lambat': False, 'habis': False, 'bayar': False, 'ttp': False, 'khaki': False, 'dingin': False, 'aduh': False, 'panjang': False, 'medium-light': False, 'lepas': False, 'wangiiiii': False, 'bikin': False, 'tukar': False, 'mohon': False, 'segiempatnya': False, 'lihat': False, 'i': False, 'mahal': False, 'kecil': False, 'ditambahin': False, 'khusus': False, 'lebih': False, 'nyari': False, 'jelek': False, 'jdi': False, 'huni': False, 'bantu': False, 'instan': False, 'coba': False, 'cuci': False, 'udh': False, 'dsini': False, 'meleset': False, 'unik': False, 'tampil': False, 'indah': False, 'tembus': False, 'tinggal': False, 'memfollowup': False, 'lancar': False, 'masuk': False, 'turquoise': False, 'toleransi': False, 'ambil': False, 'jujur': False, 'konsisten': False, 'minimal': False, 'kejar': False, 'buruk': False, 'mantaps': False, 'dpakai': False, 'berkualitasss': False, 'dirmh': False, 'bli': False, 'jaga': False, 'gpplah': False, 'tetep': False, 'dicobaa': False, 'lucu': False, 'diacount': False, 'dibikim': False, 'lembuuutttt': False, 'sekali': False, 'cari': False, 'ragu': False, 'gelaaaaaaap': False, 'loh': False, 'lengkap': False, 'hihi': False, 'datang': False, 'sulit': False, 'tebak': False, 'sedihh': False, 'dipoto': False, 'dinyalahin': False, 'dibatalin': False, 'otomatis': False, 'busuk': False, 'slh': False, 'repot': False, 'khawatir': False, 'bgni': False, 'sii': False, 'diksh': False, 'nyampei': False, 'sebut': False, 'favorit': False, 'maksihh': False, 'murahhh': False, 'maksih': False, 'jazakillah': False, 'dipke': False, 'sempit': False, 'kompak': False, 'plus': False, 'dapat': False, 'tpi': False, 'sopan': False, 'cantiiiiik': False, 'oke': False, 'tanggung': False, 'selesai': False, 'kembali': False, 'mepet': False, 'sekaliiiii': False, 'dekat': False, 'tkt': False, 'kooperatif': False, 'praktis': False, 'atur': False, 'segeh': False, 'ringan': False, 'makan': False, 'ketupat': False, 'tajam': False, 'sehh': False, 'biasaa': False, 'ntah': False, 'much': False, 'minta': False, 'doski': False, 'tinggi': False, 'dipotongin': False, 'ditanyain': False, 'kira': False, 'tabarakallah': False, 'xixi': False, 'mkshh': False, 'tipiis': False, 'tawar': False, 'tunik': False, 'trus': False, 'putih': False, 'menang': False, 'wangiiiiii': False, 'navi': False, 'pasti': False, 'makasiiiih': False, 'takbir': False, 'diskony': False, 'lagi': False, 'manis': False, 'diraguka': False, 'sedih': False, 'dateng': False, 'seragam': False, 'komunikatif': False, 'tksh': False}, 'positive')\n",
            "({'bagus': False, 'sesuai': False, 'kirim': False, 'cepat': False, 'terimakasihh': False, 'beli': False, 'terima': False, 'gelap': False, 'tp': False, 'lembut': False, 'beda': False, 'wangi': False, 'tipis': False, 'puas': False, 'asli': False, 'halus': False, 'rapi': False, 'jual': False, 'pakai': False, 'kecewa': False, 'lumayan': False, 'cantik': False, 'enak': True, 'nyaman': False, 'ramah': False, 'rapih': False, 'mantap': False, 'murah': False, 'mudah': False, 'dapet': False, 'ukur': False, 'senang': False, 'tebal': False, 'tulis': False, 'sale': False, 'aman': False, 'cocok': False, 'sampe': False, 'hijau': False, 'dipake': True, 'cerah': False, 'terang': False, 'licin': False, 'harap': False, 'salah': False, 'display': False, 'lebar': False, 'dipakenya': False, 'selamat': False, 'terawang': False, 'langsung': False, 'skripsi': False, 'wangiiii': False, 'besar': False, 'dichat': False, 'buka': False, 'takut': False, 'gampang': False, 'biru': False, 'makasihh': False, 'mami': False, 'baik': False, 'ori': False, 'kasar': False, 'ungu': False, 'tua': False, 'tolong': False, 'jatuh': False, 'harum': False, 'biar': False, 'teliti': False, 'depan': False, 'hihiiii': False, 'mecca': False, 'cacat': False, 'hitam': False, 'discount': False, 'kaya': False, 'pilih': False, 'normal': False, 'kaku': False, 'disc': False, 'mending': False, 'neng': False, 'tutup': False, 'pandang': False, 'bingung': False, 'jazakallah': False, 'lambat': False, 'habis': False, 'bayar': False, 'ttp': False, 'khaki': False, 'dingin': False, 'aduh': False, 'panjang': False, 'medium-light': False, 'lepas': False, 'wangiiiii': False, 'bikin': False, 'tukar': False, 'mohon': False, 'segiempatnya': False, 'lihat': False, 'i': False, 'mahal': False, 'kecil': False, 'ditambahin': False, 'khusus': False, 'lebih': False, 'nyari': False, 'jelek': False, 'jdi': False, 'huni': False, 'bantu': False, 'instan': False, 'coba': False, 'cuci': False, 'udh': False, 'dsini': False, 'meleset': False, 'unik': False, 'tampil': False, 'indah': False, 'tembus': False, 'tinggal': False, 'memfollowup': False, 'lancar': False, 'masuk': False, 'turquoise': False, 'toleransi': False, 'ambil': False, 'jujur': False, 'konsisten': False, 'minimal': False, 'kejar': False, 'buruk': False, 'mantaps': False, 'dpakai': False, 'berkualitasss': False, 'dirmh': False, 'bli': False, 'jaga': False, 'gpplah': False, 'tetep': False, 'dicobaa': False, 'lucu': False, 'diacount': False, 'dibikim': False, 'lembuuutttt': False, 'sekali': False, 'cari': False, 'ragu': False, 'gelaaaaaaap': False, 'loh': False, 'lengkap': False, 'hihi': False, 'datang': False, 'sulit': False, 'tebak': False, 'sedihh': False, 'dipoto': False, 'dinyalahin': False, 'dibatalin': False, 'otomatis': False, 'busuk': False, 'slh': False, 'repot': False, 'khawatir': False, 'bgni': False, 'sii': False, 'diksh': False, 'nyampei': False, 'sebut': False, 'favorit': False, 'maksihh': False, 'murahhh': False, 'maksih': False, 'jazakillah': False, 'dipke': False, 'sempit': False, 'kompak': False, 'plus': False, 'dapat': False, 'tpi': False, 'sopan': False, 'cantiiiiik': False, 'oke': False, 'tanggung': False, 'selesai': False, 'kembali': False, 'mepet': False, 'sekaliiiii': False, 'dekat': False, 'tkt': False, 'kooperatif': False, 'praktis': False, 'atur': False, 'segeh': False, 'ringan': False, 'makan': False, 'ketupat': False, 'tajam': False, 'sehh': False, 'biasaa': False, 'ntah': False, 'much': False, 'minta': False, 'doski': False, 'tinggi': False, 'dipotongin': False, 'ditanyain': False, 'kira': False, 'tabarakallah': False, 'xixi': False, 'mkshh': False, 'tipiis': False, 'tawar': False, 'tunik': False, 'trus': False, 'putih': False, 'menang': False, 'wangiiiiii': False, 'navi': False, 'pasti': False, 'makasiiiih': False, 'takbir': False, 'diskony': False, 'lagi': False, 'manis': False, 'diraguka': False, 'sedih': False, 'dateng': False, 'seragam': False, 'komunikatif': False, 'tksh': False}, 'positive')\n"
          ],
          "name": "stdout"
        }
      ]
    },
    {
      "cell_type": "code",
      "metadata": {
        "colab": {
          "base_uri": "https://localhost:8080/"
        },
        "id": "eqrKZSkHtTQz",
        "outputId": "50fa51c3-d362-43e9-fde1-5c9158d40540"
      },
      "source": [
        "classifier = nltk.NaiveBayesClassifier.train(training_set)\n",
        "\n",
        "print(\"Classifier accuracy percent:\",(nltk.classify.accuracy(classifier, testing_set))*100)\n",
        "classifier.show_most_informative_features(25)"
      ],
      "execution_count": null,
      "outputs": [
        {
          "output_type": "stream",
          "text": [
            "Classifier accuracy percent: 88.59315589353612\n",
            "Most Informative Features\n",
            "                    kaya = True           negati : positi =     15.7 : 1.0\n",
            "               dipakenya = True           negati : positi =     15.7 : 1.0\n",
            "                   lebih = True           negati : positi =     10.5 : 1.0\n",
            "                    aduh = True           negati : positi =      9.4 : 1.0\n",
            "                   hitam = True           negati : positi =      9.4 : 1.0\n",
            "                  datang = True           negati : positi =      9.4 : 1.0\n",
            "                  dingin = True           negati : positi =      9.4 : 1.0\n",
            "                       i = True           negati : positi =      9.4 : 1.0\n",
            "                   kecil = True           negati : positi =      9.4 : 1.0\n",
            "                   khaki = True           negati : positi =      9.4 : 1.0\n",
            "                    beda = True           negati : positi =      8.4 : 1.0\n",
            "                      tp = True           negati : positi =      7.9 : 1.0\n",
            "                   kirim = True           negati : positi =      7.7 : 1.0\n",
            "                   lebar = True           negati : positi =      6.7 : 1.0\n",
            "                   gelap = True           negati : positi =      6.6 : 1.0\n",
            "                   jatuh = True           negati : positi =      5.6 : 1.0\n",
            "                   licin = True           negati : positi =      5.6 : 1.0\n",
            "                   cerah = True           negati : positi =      5.2 : 1.0\n",
            "                    asli = True           negati : positi =      5.1 : 1.0\n",
            "                    lagi = True           negati : positi =      3.4 : 1.0\n",
            "                 lumayan = True           negati : positi =      3.1 : 1.0\n",
            "                   salah = True           negati : positi =      3.1 : 1.0\n",
            "                     oke = True           negati : positi =      3.1 : 1.0\n",
            "                   murah = True           negati : positi =      3.1 : 1.0\n",
            "                  nyaman = True           negati : positi =      2.8 : 1.0\n"
          ],
          "name": "stdout"
        }
      ]
    },
    {
      "cell_type": "code",
      "metadata": {
        "colab": {
          "base_uri": "https://localhost:8080/"
        },
        "id": "Q3mfV9NXtstF",
        "outputId": "7a3bca31-faee-4512-e962-37981cfb611d"
      },
      "source": [
        "from nltk.metrics.scores import (precision, recall)\n",
        "import collections\n",
        "\n",
        "refsets = collections.defaultdict(set)\n",
        "testsets = collections.defaultdict(set)\n",
        "\n",
        "for i, (feats, label) in enumerate(testing_set):\n",
        "    refsets[label].add(i)\n",
        "    observed = classifier.classify(feats)\n",
        "    testsets[observed].add(i)\n",
        "\n",
        "print('Recall:', recall(refsets['positive'], testsets['positive']))\n",
        "print('Precision:', precision(refsets['positive'], testsets['positive']))"
      ],
      "execution_count": null,
      "outputs": [
        {
          "output_type": "stream",
          "text": [
            "Recall: 0.9451476793248945\n",
            "Precision: 0.9294605809128631\n"
          ],
          "name": "stdout"
        }
      ]
    },
    {
      "cell_type": "code",
      "metadata": {
        "id": "mVIxcwd_tXw6"
      },
      "source": [
        "#menyimpan model yang telah ditrainning ke file sav\n",
        "filename = 'nb_model.sav'\n",
        "pickle.dump(classifier, open(filename, 'wb'))"
      ],
      "execution_count": null,
      "outputs": []
    },
    {
      "cell_type": "code",
      "metadata": {
        "id": "pDvI8orlYJG5"
      },
      "source": [
        "#load model classifier nb dari file\n",
        "loaded_model = pickle.load(open(filename, 'rb'))"
      ],
      "execution_count": null,
      "outputs": []
    },
    {
      "cell_type": "code",
      "metadata": {
        "id": "poqep_PdYQIt"
      },
      "source": [
        "#melakukan prediksi data menggunakan model classifier nb yang telah diload\n",
        "lsPrediksi = []\n",
        "for (rev, category) in document[trainsize:]:\n",
        "    result=loaded_model.classify(find_features(rev))\n",
        "    lsPrediksi.append([rev, result, category])"
      ],
      "execution_count": null,
      "outputs": []
    },
    {
      "cell_type": "code",
      "metadata": {
        "colab": {
          "base_uri": "https://localhost:8080/"
        },
        "id": "dNeTjwTWYWS2",
        "outputId": "83e81576-b864-44ae-df4e-0ddcffa5c56b"
      },
      "source": [
        "print(lsPrediksi)"
      ],
      "execution_count": null,
      "outputs": [
        {
          "output_type": "stream",
          "text": [
            "[['barang oke, pengiriman lamaaa, untung admin fastrespon', 'positive', 'negative'], ['dua tiga makan ketupat', 'positive', 'positive'], ['Udah kesekian kali 👍', 'positive', 'positive'], ['warna beda kaya difoto.. lebih gelap gt kirain cerah', 'negative', 'negative'], ['Wah bagus kak kerudungnya. Packingnya juga rapi. Suka sekali. Terimakasih💕', 'positive', 'positive'], ['warna jauh lebih gelap tdk sesuai foto, agak tipis, gambarnya kurang tajam', 'negative', 'negative'], ['barang sesuai dengan pesanan dan gambar Terimakasih 🙏', 'positive', 'positive'], ['selalu suka sm produknya', 'positive', 'positive'], ['kainnya bagus, lembut dn tidak nerawang.', 'positive', 'positive'], ['Pelapak sangat responsif..kualitas dan warna okee..👍👍', 'positive', 'positive'], ['produk original, kainnya bagus halus dan adem, tapi agak nerawang sedikit, tapi oke lah. terimakasih', 'positive', 'positive'], ['Bahan wangi', 'positive', 'positive'], ['bagus banget celananya, cuma saja di adik saya pada bagian pinggang ke kecilan jadi ditambahin bahan supaya muat', 'positive', 'positive'], ['Bagus sehh wakau tipis', 'positive', 'positive'], ['bahannya halus, warna sesuai & tegak di kepala', 'positive', 'positive'], ['barang sesuai.. terimakasihh', 'positive', 'positive'], ['barang sesuai.. terimakasihh', 'positive', 'positive'], ['warnany lebih gelap', 'negative', 'negative'], ['thanks seller paketnya dah sampe..packing aman, bahannya jg bagus, adem, motif colour jg ok..harga discount lagi 😁', 'positive', 'positive'], ['Wah bagus kak kerudungnya. Packingnya juga rapi. Suka sekali. Terimakasih💕', 'positive', 'positive'], ['Motif bagus dan cepat sampai', 'positive', 'positive'], ['spt biasaa.suka produknya', 'positive', 'positive'], ['selalu happy belanja disini', 'positive', 'positive'], ['sesuai pesenan', 'positive', 'positive'], ['suka sama warnanya bagus dipake sama ibu saya bahannya jg gak tipis', 'positive', 'positive'], ['bagus bagan adem', 'positive', 'positive'], ['terimakasih barang sudah kami terima dengan baik semoga bermanfaat', 'positive', 'positive'], ['bahan tipis.', 'positive', 'positive'], ['bagus bajuny cm wrn asli lbh gelap dr foto', 'positive', 'positive'], ['Sesuai dgn pesanan', 'positive', 'positive'], ['Terimakasih ZM Official suka produk produknya kereen,, nusantara bangeet 💯👍👍 Terima Kasih juga Tokopedia sukses n selalu menjadi kebanggan masyarakat seantero Indonesia 🙏💯', 'positive', 'positive'], ['Produk sesuai deskripsi', 'positive', 'positive'], ['bagus, wangi, cepat', 'positive', 'positive'], ['Sudah 2x order dan Alhamdulillah memuaskan. walau di pembelian yg kedua proses pengiriman nya lama, Ntah knpa. tapi kualitas bahan oke', 'positive', 'negative'], ['bahannya bagus 👍', 'positive', 'positive'], ['Bagusss bangeetttt', 'positive', 'positive'], [\"Although the material is good but 90% color description is really over estimated, it's much lower than that. i wish to have a pink one but really ruined by it. want to give 3 stars but do not have a heart to do that.\", 'positive', 'positive'], ['barang sudah sampai dengan selamat. terimakasih.', 'positive', 'positive'], ['bahan lembut, halus, adem, permintaan sesuai, good 👍😍', 'positive', 'positive'], ['tipis ya ternyata', 'positive', 'positive'], ['alhamdulillah sudah sampai, bagus, halus, semoga awet ☺, dan semoga berkah Toko nya, terimakasih', 'positive', 'positive'], ['wangiiii', 'positive', 'positive'], ['sukaaaaaaa', 'positive', 'positive'], ['Barang bagus, penjual ramah, dan pengiriman cepat. Terima kasih yaa Kak :)', 'positive', 'positive'], ['barang pesanan cepat sampainya.', 'positive', 'positive'], ['Suka sekali...', 'positive', 'positive'], ['wangiiii', 'positive', 'positive'], ['barang sudah diterima, cuma sayang warna lebih kusam dari foto', 'positive', 'negative'], ['Produk sesuai deskripsi', 'positive', 'positive'], ['makasih ZM dan tokped barang 100% original dan harganya sangat terjangkau. puaas banget', 'positive', 'positive'], ['sudah 3 x belanja disini kerudungnya adem dan wangi😀🥰 terima kasih kak..😊🙏', 'positive', 'positive'], ['Bahannya , warna dan motifnya lembut. Terima kasih', 'positive', 'positive'], ['mau beli lagi ahhh, puas banget, cantik coraknya dan bahan bagus, pertama kali beli jadi pengen beli lagi😀', 'positive', 'positive'], ['barang sesuai.. terimakasihh', 'positive', 'positive'], ['masih disegel, belum dipakai', 'positive', 'positive'], ['bahan adem, pengiriman cepat, respon cepat', 'positive', 'positive'], ['Baguuus untuk pembelian yang kesekian kalinya 👍👍👍👍👍', 'positive', 'positive'], ['suka ma celana nya..', 'positive', 'positive'], ['warna ijo nya aslinya agak keabuan', 'positive', 'positive'], ['❤️👍', 'positive', 'positive'], ['baguss..makasih', 'positive', 'positive'], ['baguuus bangettt kerudungnyaaaa~ buat kado doski sukak!', 'positive', 'positive'], ['bahan lembut. ok bnget dah', 'positive', 'positive'], ['dapet harga flash sale, horee, sering2 promo ya kak😁', 'positive', 'positive'], ['barang sesuai.. terimakasihh', 'positive', 'positive'], ['trims seller, paket mendarat dg selamat.pengiriman cepat, kualitas barang oke.harga mantul👍👍👍', 'positive', 'positive'], ['sukak bangett, baguss bahannya, adem dipakainya, 👍👍😍', 'positive', 'positive'], ['great dah', 'positive', 'positive'], ['pertama order disini dan tidak mengecewakan, kualitas barang bagus sesuai dengan harganya. Terima kasih', 'positive', 'positive'], ['barang sesuai.. terimakasihh', 'positive', 'positive'], ['bahan halus,untuk motif oke lah cm dr warna mmng agak gelap beda dngn d gambar...', 'negative', 'positive'], ['suka sama warnanya bagus dipake sama ibu saya bahannya jg gak tipis', 'positive', 'positive'], ['Sudah order yang kesekian kali', 'positive', 'positive'], ['baguus.. cm agak kurang tebel ja..', 'positive', 'positive'], ['Kualitas sesuai harga👍👍', 'positive', 'positive'], ['bagus cuman warnanya lebih gelap dr di foto :)))', 'negative', 'negative'], ['ok sudah sampai', 'positive', 'positive'], ['kainnya ad3mm', 'positive', 'positive'], ['tidak pernah kecewa dengan barangnya selalu puas thx ya. famili suka bgt', 'positive', 'positive'], ['lebih gelap dr fotonya ya', 'negative', 'positive'], ['Udah kesekian kali 👍', 'positive', 'positive'], ['bagus banget adem', 'positive', 'positive'], ['semuanya😁', 'positive', 'positive'], ['aduh sayang nya yg ini tepinya make jaitan', 'positive', 'positive'], ['tipis', 'positive', 'positive'], ['Cantikkkk banget jilbabnya, puasss... mau pesen lagi', 'positive', 'positive'], ['Khusus hijab ini bahannya JUARA ! Bagus banget beli pas diskon jadi worth the money sekali. Fix aku bakal beli warna lainnya khusus series ini. Adem alus dan seratnya lebih rapet jadi gak nerawang kaya series hijab yg lain', 'negative', 'positive'], ['respon cepat,barang ori dan bahan nya bagus banget... warnanya soft keren....', 'positive', 'positive'], ['barang sesuai.. terimakasihh', 'positive', 'positive'], ['dressnya bagus, tapi tentu saja untuk saya yg tingginya 160 jadinya kepanjangan, perlu dipotongin sikit biar ga kepanjangann pengiriman produknya cepat, tapi disayangkan adminnya kurang gercep, jadi perlu ditanyain dulu baru dikonfirmasi terus diproses, but after all ini bagus 👍', 'positive', 'positive'], ['awalnya senang dpt promo, ternyata yg dikasih yg ada cacatnya...', 'positive', 'positive'], ['Pengiriman cepat', 'positive', 'positive'], ['bagus. Respon cepat penjual ramah', 'positive', 'positive'], ['beli langsung di OS nya pasti ori, pengiriman pake sicepat ga ngecewain.', 'positive', 'positive'], ['kualitas ok,pengiriman jg cpet sampai...😊', 'positive', 'positive'], ['alhamdulillaah sdh nyampe lebih cepet dr perkiraan. sya suka, enak dipakai...terima kasih zm, mas kurir juga Tokopedia', 'positive', 'positive'], ['pengiriman cukup lama. setelah lewat estimasi waktu sampai paket, dichat br di kirim. mgkn lagi over load. produknya oke lah', 'negative', 'negative'], ['Produknya slalu dengan kwalitas yg premium tp dgn harga terjangkau,,mantap dehhh,,', 'positive', 'positive'], ['sesuai pesanan, bahan bagus..', 'positive', 'positive'], ['jos banget,penjual baik', 'positive', 'positive'], ['warnanya beda dgn aslinya', 'positive', 'negative'], ['keren..👍👍👍 suka banget warna sama motifnya.. cm salah pilih warna aja order 2-2 nya warna gelap.. harus pilih2 lg warna cerah nih kayaknya..', 'positive', 'positive'], ['brang okeeee nexk order lagi', 'positive', 'positive'], ['👍', 'positive', 'positive'], ['Dress ya cakep banget dan bahannya jatuh jadinya perfect cutting gitu.', 'positive', 'positive'], ['bahannya adem, lebar, enak dipakenya. tapi ngirimnya lama. thank you seller', 'negative', 'negative'], ['bagus', 'positive', 'positive'], ['barang sesuai.. terimakasihh', 'positive', 'positive'], ['seperti biasa , pengiriman dan respon cepat dan harga yang terjangkau...', 'positive', 'positive'], ['barang sesuai', 'positive', 'positive'], ['Biasa aja bahannya', 'positive', 'positive'], ['Warnanya beda, lebih tua😕', 'negative', 'negative'], ['barang sesuai.. terimakasihh', 'positive', 'positive'], ['di bungkus rapi...beli kmrn skrg sampe...harga promo..mksh.', 'positive', 'positive'], ['MasyaAllah tabarakallah', 'positive', 'positive'], ['pengiriman cepat , barang sesuai pesanan', 'positive', 'positive'], ['Produk sesuai deskripsi', 'positive', 'positive'], ['motif bagus, pengiriman tepat waktu', 'positive', 'positive'], ['harganya dapat murah.kwalitas bagus bngt puas belanja di Tokopedia', 'positive', 'positive'], ['warnanya recomended', 'positive', 'positive'], ['pesanan sampai dengan aman dan baik, bagus jilbabnya, beli buat kanjeng mami, packing rapi, kurirnya ramah. thks', 'positive', 'positive'], ['wangi.. bagus..alhamd dpt diskon juga,', 'positive', 'positive'], ['pembelian ke-4 utk kerudungan zaskia', 'positive', 'positive'], ['barang sesuai.. terimakasihh', 'positive', 'positive'], ['thankssss.........', 'positive', 'positive'], ['bahannya nyaman banget', 'positive', 'positive'], ['motif bagus, pengiriman tepat waktu', 'positive', 'positive'], ['Mksh..brgnya bagus cuma pengirimannya agak lama yaa', 'positive', 'negative'], ['Sumpah ini sih bagus banget, dipakainya tambleg tdk mudah bergeser, bahannya tdk tipis dan tdk ketebalan, wangi pula. Pokoknya mantap dah !!!', 'positive', 'positive'], ['warnanya gak cerah seperti yg di gambar', 'positive', 'negative'], ['ya', 'positive', 'positive'], ['Tooooooooooooooooooooop', 'positive', 'positive'], ['sukaaa banget pas pandangan pertama, real pic nya emang hijau army/gelap gitu.. bahannya jg adem.. thanks..', 'positive', 'positive'], ['Wah bagus kak kerudungnya. Packingnya juga rapi. Suka sekali. Terimakasih💕', 'positive', 'positive'], ['barang sesuai.. terimakasihh', 'positive', 'positive'], ['barang sesuai pesenan .....ga kecewa beli di sini trima kasih kak', 'positive', 'positive'], ['thx u yahh, ibuku suka dress nya xixi', 'positive', 'positive'], ['Bahan agak tipis', 'positive', 'positive'], ['bagus banget, suka bajunya', 'positive', 'positive'], ['baguss bgtzzz hijab ZM😍 kualitas bagusss bgtzzz wangiiiii hijabnya 😘😘 alhamdulillah pas dpt harga sale😍 mkshh Tokopedia😍', 'positive', 'positive'], ['agak tipiis tp lumayan lah...👍', 'positive', 'positive'], ['barang sesuai.. terimakasihh', 'positive', 'positive'], ['bagus kerudung nya... bahannya tebal', 'positive', 'positive'], ['bahan bagus.. adem model bagus', 'positive', 'positive'], ['selalu bagus', 'positive', 'positive'], ['👍', 'positive', 'positive'], ['mantap', 'positive', 'positive'], ['barang sesuai.. terimakasihh', 'positive', 'positive'], ['kwalitas bagus tp ketebelan..gpp d', 'positive', 'positive'], ['barang sdh sampai terimakasih', 'positive', 'positive'], ['Warna dan motif sesuai gambar, bahan bagus, jahitan rapih, beli saat discount jd tdk terasa mahalnya.', 'positive', 'positive'], ['barang sesuai.. terimakasihh', 'positive', 'positive'], ['bahannya tebel ori dan bagus bangett thanks seller', 'positive', 'positive'], ['Kualitas kain bajunya bagus, namun sayang sekali dalam menyampaikan ukuran2 baju S-M-L-XL-XXL untuk lingkar dada dll tidak akurat. Berbeda dengan yang dituliskan di penawarannya.', 'positive', 'positive'], ['bagus sesuai ekspektasi, istri suka👍👍 barang datang bareng dgn yg order via link , mksh🙏', 'positive', 'positive'], ['Jilbabnya bagus, dalemannya lembut, simpel banget ga perlu dimodel2 udah bagus dipake.', 'positive', 'positive'], ['uda beli keempat kalinya..suka sama bahannya dan harga terjangkau', 'positive', 'positive'], ['warna nya berbeda tidak seperti di foto', 'positive', 'negative'], ['barang sesuai.. terimakasihh', 'positive', 'positive'], ['kerudungnya udah nyampe ,alhamdulillah ,bagus banget berkah pasti kepake .pengiriman cepat .makasih ......', 'positive', 'positive'], ['seller responsif, pengiriman cepat, scarfnya tebal dan halus', 'positive', 'positive'], ['barang sudah saya terima dengan baik. kualitas produk baik. puas belanja disini. terima kasih', 'positive', 'positive'], ['Beli ketika flash sale.Packaging rapi. Warna lebih gelap dibandingkan dgn katalog tapi tetap bagus.Bahan nya agak tipis,sesuai dengan harga.', 'positive', 'positive'], ['ternyata biasa aja bahan dan motifnya untuk harga 50k.', 'positive', 'positive'], ['Pengiriman cepat. Klo soal warna cukup, agak gelap aslinya. Anw, makasihh', 'positive', 'negative'], ['produk datang sesuai pemesanan, terimakasih', 'positive', 'positive'], ['warna aslinya emg lebih bagus cuma sayang koq beda ya antara yg di display sama asli jd sebagai customer hrs extra teliti. Mudah-mudahan kedepannya yg di display foto asli/mirip, ngga terlalu d edit hehee....makasihh. Syukaaaaa bgttt wlp smpet deg2an dgn warnanya hihiiii :)', 'negative', 'positive'], ['bagus banget kerudung nya, nyaman dipakai.', 'positive', 'positive'], ['mantap', 'positive', 'positive'], ['Bahan bagus adem', 'positive', 'positive'], ['seller responsif, bahan nya nyaman, in syaa Allah repeat order', 'positive', 'positive'], ['Okee banget, bahannya bagus, motifnya juga keren', 'positive', 'positive'], ['Barang bagus , kualitas bagus, seneng belanja disini', 'positive', 'positive'], ['bagus, lembut, ukuran cukup lebar, warna arminya lebih gelap dr foto', 'negative', 'positive'], ['jilbab nya sesuai yg saya inginkan. bahannya juga enak. pas diwajah, nyaman dipakai. makasih', 'positive', 'positive'], ['Order yang kesekian kali, jadi ketagihan karena enak dipakenya tdk ngegeser, tidak licin, bahan tdk ketebalan dan tidak ketipisan, motif bagus dan harganya pun terjangkau. Sukses terus ya...', 'negative', 'positive'], ['good', 'positive', 'positive'], ['Terima Kasih ZM Official suka tuniknya jadinya belanja terus.. dan Terima kasih juga Tokopedia semakin OKE..', 'positive', 'positive'], ['baguuusssss', 'positive', 'positive'], ['barang sesuai.. terimakasihh', 'positive', 'positive'], ['bahannya', 'positive', 'positive'], ['Bagus bajunya, bahannya juga bagus. Dapet harga diskon mantap hehehe', 'positive', 'positive'], ['barang baguuuss, pengiriman cepat......sukses seller', 'positive', 'positive'], ['bahannya adem dan enak dipakai..', 'positive', 'positive'], ['sesuai diskripsi.. bagus', 'positive', 'positive'], ['bahannya elastis, nyaman dipakai', 'positive', 'positive'], ['warna aslinya emg lebih bagus cuma sayang koq beda ya antara yg di display sama asli jd sebagai customer hrs extra teliti. Mudah-mudahan kedepannya yg di display foto asli/mirip, ngga terlalu d edit hehee....makasihh. Syukaaaaa bgttt wlp smpet deg2an dgn warnanya hihiiii :)', 'negative', 'positive'], [\"judulnya warna navy, tp aslinya lebih ke abu2 kehijauan gitu ya..but it's okay..trus kainnya kaya wangi kayu2an gitu..overall quite nice lah..thanks\", 'negative', 'negative'], ['Tooooooooooooooooooooop', 'positive', 'positive'], ['hijab nya bagus..sesuai gambar wangii..gk mengecewakan dh pokok nya belanja di Zm..love..❤ love ❤', 'positive', 'positive'], ['Printing dan laser cut rapi. Sablon merk mbleber. Andai tag merk bukan warna putih, hitam lebih elegan, cukup mengganggu mata karena ukurannya agak besar (3.5x2cm) dan kain hijab warna gelap. Agak tipis, nerawang. Overestimate, untung beli harga sale, menang merk doang ini sih. Kainnya wangiiiiii', 'negative', 'positive'], ['baguusss', 'positive', 'positive'], ['selalu suka dg jilbab dr zm, apalagi kl diskon. kirain ungu, ternyata abu dg garis ungu. jd lebih cenderung ke abu', 'positive', 'positive'], ['Barang sdh diterima dgn baik...^^', 'positive', 'positive'], ['Cocok banget buat kado temen yang berhijab, kualitas Ok, so pricely you can get more than it', 'positive', 'positive'], ['barang sesuai deskripsi, kiriman cepat', 'positive', 'positive'], ['itu bkn wrna navi namay.', 'positive', 'positive'], ['thank you. barang diproses cepat walau libur lebaran. barang juga oke', 'positive', 'positive'], ['Warna asli nya lebih gelap dari gambar', 'negative', 'negative'], ['produknya bagus. bahannya adem. hanya pengiriman cukup lama. setelah lewat estimasi waktu sampai paket, dichat br di kirim. mgkn lagi over load.', 'negative', 'negative'], ['barang dah nyampeee. bagus tp warnanya ga realpict ya. tp y udahlah', 'positive', 'negative'], ['Sukaa', 'positive', 'positive'], ['Mantappp..', 'positive', 'positive'], ['sesuai dg harga, pake buat hari2 di rumah saja, gak masalah', 'positive', 'positive'], ['warnanya beda banget', 'positive', 'negative'], ['Pesanan telah diterima dgn baik. Terima kasih. Fast Respons recommended.', 'positive', 'positive'], ['Sudah sampe dan pastinya memuaskan', 'positive', 'positive'], ['selalu puas dg produk ZM, mudah2an selalu ada harga disc, tks dan suksea aelalu buat ZM, toped n mas kurir', 'positive', 'positive'], ['sesuai deskripsi,bahan adem,bagus .', 'positive', 'positive'], ['bguss bgt', 'positive', 'positive'], ['bahan nya enaak', 'positive', 'positive'], ['sukaa dan cepat sampai apalagi free ongkir pas dapet promo pula makasiiiih....', 'positive', 'positive'], ['beli jilbab utk hadiah lebaran teteh tercinta, krn beda pulau. terima ksh utk tim ZM, pelayanan ramah, fast respon. mantap. pengiriman pas smpe hr ini mlm takbiran. terima kasih. smoga sering2 promo diskony', 'positive', 'positive'], ['bahan bagus tp tnyta warna lebih gelap dr di foto, pengiriman cepat, trims', 'negative', 'negative'], ['barang sesuai.. terimakasihh', 'positive', 'positive'], ['bagus sekali bahannya..original..makasih', 'positive', 'positive'], ['hanya warnanya engga dustypink, lebih ke mocca soft yaah.. tp bahan bagus lembut bgt', 'negative', 'positive'], ['okk', 'positive', 'positive'], ['produknya bagus. bahannya adem. hanya pengiriman cukup lama. setelah lewat estimasi waktu sampai paket, dichat br di kirim. mgkn lagi over load.', 'negative', 'negative'], ['barang sesuai.. terimakasihh', 'positive', 'positive'], ['barang sesuai.. terimakasihh', 'positive', 'positive'], ['baguuss,,ku suka,,bahanya adem,lembut,,simpel pakainya,,trims', 'positive', 'positive'], ['bahan baguusssss ga nyesel kalo ada rezeki aku mau beli lagii', 'positive', 'positive'], ['🤘🏻', 'positive', 'positive'], ['Sukaaa', 'positive', 'positive'], ['brng bagus sesuai deskripsi..tp wrnanya kurang cerah...pdhl klo wrna terang lg sdikit..mantulll👍', 'positive', 'positive'], ['barang sesuai.. terimakasihh', 'positive', 'positive'], ['bagus banget celananya, cuma saja di adik saya pada bagian pinggang ke kecilan jadi ditambahin bahan supaya muat', 'positive', 'positive'], ['mantulll', 'positive', 'positive'], ['sukaaa 😍', 'positive', 'positive'], ['berharap dengan harga segini dapet produk seperti yang pernah saya beli, beda merk memang. motif lumayan.warna lembut dan manis. pengiriman lumayan', 'positive', 'positive'], [\"warnanya lebih gelap dari foto, but it's okay... emang bener gini sih warna dark grey\", 'negative', 'positive'], ['pengiriman cepat, kualitas barang ok, recommended 👍🏻', 'positive', 'positive'], ['kualitas tdk diraguka', 'positive', 'positive'], ['Barang dalam kondisi baik. Hanya saja warna aslinya lebih gelap, tidak sesuai dengan gambar.', 'negative', 'negative'], ['Suka semua. Bagus dan harga lg promo. Aku mau beli lagi sebelum kehabisan', 'positive', 'positive'], ['bahannya bagus tidak menerawang terimakasih & sukses selalu', 'positive', 'positive'], ['Barang oke, harga terjangkau dan freeong', 'positive', 'positive'], ['barang sesuai.. terimakasihh', 'positive', 'positive'], ['Alhamdulillah packing cepat pengiriman cepat warna lebih gelap tapi ku sukaaa terima kasih yaaa', 'positive', 'positive'], ['padahal ditulisannya purple tapi kenapa ini jadi grey. padahal mau buat padanan sama baju. sedih tapi ok aja lah. bisa buat baju yang lain', 'positive', 'positive'], ['👍👍💯🔝', 'positive', 'positive'], ['warna nya ga sesuai ekspektasi. di gambar mustard, tapi pas dateng bukan mustard, lebih ke hijauan gitu kyk seragam PNS. kalo kain nya sih lembut yaa, ini jilbab ke-8 dari ZM. cm kecewa di warna ini sih, anggrek hitam.', 'negative', 'positive'], ['jilbabnya wangi, pengiriman lumayan krn mau lebaran.. mksh', 'positive', 'positive'], ['Kirimnya cepat dan bahannya bagus tidak licin.', 'positive', 'positive'], ['puas, respon penjualan cepat, pengiriman cepat, kualitas ya juga lembut dan tebal, tapi warna ya ternyata gelap ya dari gambar asli tapi its okay bagus kok rekomended 👍🏻', 'positive', 'positive'], ['aku kira salah kirim warna, krn lbh gelap aslinya. Kalau bahannya bagus hanya di warna yg ga sesuai di gambar', 'negative', 'positive'], ['barang diterima dengan baik kainnya halus dan tebal', 'positive', 'positive'], ['puass Pokoknya', 'positive', 'positive'], ['qualitas produk oke, respond penjual cepat, packing rapih, pengiriman cepat, terima kasih kepada pihak terkait..', 'positive', 'positive'], ['warna hijab aslinya lebih gelap sedikit ya dibanding fotonya, tapi untuk kualitas oke gaada cacatnya dan wangi juga hijabnya. thanks.', 'negative', 'positive'], ['qualitas produk oke, respond penjual cepat, packing rapih, pengiriman cepat, terima kasih kepada pihak terkait..', 'positive', 'positive'], ['warnanya pucet', 'positive', 'negative'], ['bagus.. pengiriman on time. makasih', 'positive', 'positive'], ['warnanya kurang jelas..', 'positive', 'negative'], ['suka barangnya oke seller komunikatif', 'positive', 'positive'], ['Kerudung sudah saya terima, kondisi baik, kerudungnya cantik. Recommended. Terima kasih Seller, Kurir, Tokopedia.', 'positive', 'positive'], ['jilbabnya cantik. warna dan motif bagus. bahan tidak licin.', 'positive', 'positive'], ['Sumpah ini sih bagus banget, dipakainya tambleg tdk mudah bergeser, bahannya tdk tipis dan tdk ketebalan, wangi pula. Pokoknya mantap dah !!!', 'positive', 'positive'], ['jilbabny bagus palagi pas dpt hrga murah .. tp pengiriman lama..', 'positive', 'negative'], ['bajunya bagus, walaupun pengiriman kali ini agak telat karena salah kirim tapi puas bajunya bagus', 'positive', 'negative'], ['respon cepat tksh seller, semoga sukses ya', 'positive', 'positive'], ['Bagus, tp warnanya beda dgn foto, saran aja baiknya fotonya disesuaikan dgn warna aslinya, sudah bbrpa kali beli warnanya lumayan jauh bedanya soalnya. Jd bingung pilih2 warna hijabnya yg sesuai.', 'negative', 'negative']]\n"
          ],
          "name": "stdout"
        }
      ]
    },
    {
      "cell_type": "code",
      "metadata": {
        "colab": {
          "base_uri": "https://localhost:8080/"
        },
        "id": "Omik9ejobfoB",
        "outputId": "3de83447-a9e9-41a2-fbaa-96294a7107f7"
      },
      "source": [
        "len(lsPrediksi)"
      ],
      "execution_count": null,
      "outputs": [
        {
          "output_type": "execute_result",
          "data": {
            "text/plain": [
              "263"
            ]
          },
          "metadata": {
            "tags": []
          },
          "execution_count": 108
        }
      ]
    },
    {
      "cell_type": "code",
      "metadata": {
        "colab": {
          "base_uri": "https://localhost:8080/"
        },
        "id": "HztoEnQ-TRMV",
        "outputId": "ee83bb33-9541-4562-8b0e-e21c7d40e4e3"
      },
      "source": [
        "print(*lsPrediksi, sep = \"\\n\")"
      ],
      "execution_count": null,
      "outputs": [
        {
          "output_type": "stream",
          "text": [
            "['barang oke, pengiriman lamaaa, untung admin fastrespon', 'positive', 'negative']\n",
            "['dua tiga makan ketupat', 'positive', 'positive']\n",
            "['Udah kesekian kali 👍', 'positive', 'positive']\n",
            "['warna beda kaya difoto.. lebih gelap gt kirain cerah', 'negative', 'negative']\n",
            "['Wah bagus kak kerudungnya. Packingnya juga rapi. Suka sekali. Terimakasih💕', 'positive', 'positive']\n",
            "['warna jauh lebih gelap tdk sesuai foto, agak tipis, gambarnya kurang tajam', 'negative', 'negative']\n",
            "['barang sesuai dengan pesanan dan gambar Terimakasih 🙏', 'positive', 'positive']\n",
            "['selalu suka sm produknya', 'positive', 'positive']\n",
            "['kainnya bagus, lembut dn tidak nerawang.', 'positive', 'positive']\n",
            "['Pelapak sangat responsif..kualitas dan warna okee..👍👍', 'positive', 'positive']\n",
            "['produk original, kainnya bagus halus dan adem, tapi agak nerawang sedikit, tapi oke lah. terimakasih', 'positive', 'positive']\n",
            "['Bahan wangi', 'positive', 'positive']\n",
            "['bagus banget celananya, cuma saja di adik saya pada bagian pinggang ke kecilan jadi ditambahin bahan supaya muat', 'positive', 'positive']\n",
            "['Bagus sehh wakau tipis', 'positive', 'positive']\n",
            "['bahannya halus, warna sesuai & tegak di kepala', 'positive', 'positive']\n",
            "['barang sesuai.. terimakasihh', 'positive', 'positive']\n",
            "['barang sesuai.. terimakasihh', 'positive', 'positive']\n",
            "['warnany lebih gelap', 'negative', 'negative']\n",
            "['thanks seller paketnya dah sampe..packing aman, bahannya jg bagus, adem, motif colour jg ok..harga discount lagi 😁', 'positive', 'positive']\n",
            "['Wah bagus kak kerudungnya. Packingnya juga rapi. Suka sekali. Terimakasih💕', 'positive', 'positive']\n",
            "['Motif bagus dan cepat sampai', 'positive', 'positive']\n",
            "['spt biasaa.suka produknya', 'positive', 'positive']\n",
            "['selalu happy belanja disini', 'positive', 'positive']\n",
            "['sesuai pesenan', 'positive', 'positive']\n",
            "['suka sama warnanya bagus dipake sama ibu saya bahannya jg gak tipis', 'positive', 'positive']\n",
            "['bagus bagan adem', 'positive', 'positive']\n",
            "['terimakasih barang sudah kami terima dengan baik semoga bermanfaat', 'positive', 'positive']\n",
            "['bahan tipis.', 'positive', 'positive']\n",
            "['bagus bajuny cm wrn asli lbh gelap dr foto', 'positive', 'positive']\n",
            "['Sesuai dgn pesanan', 'positive', 'positive']\n",
            "['Terimakasih ZM Official suka produk produknya kereen,, nusantara bangeet 💯👍👍 Terima Kasih juga Tokopedia sukses n selalu menjadi kebanggan masyarakat seantero Indonesia 🙏💯', 'positive', 'positive']\n",
            "['Produk sesuai deskripsi', 'positive', 'positive']\n",
            "['bagus, wangi, cepat', 'positive', 'positive']\n",
            "['Sudah 2x order dan Alhamdulillah memuaskan. walau di pembelian yg kedua proses pengiriman nya lama, Ntah knpa. tapi kualitas bahan oke', 'positive', 'negative']\n",
            "['bahannya bagus 👍', 'positive', 'positive']\n",
            "['Bagusss bangeetttt', 'positive', 'positive']\n",
            "[\"Although the material is good but 90% color description is really over estimated, it's much lower than that. i wish to have a pink one but really ruined by it. want to give 3 stars but do not have a heart to do that.\", 'positive', 'positive']\n",
            "['barang sudah sampai dengan selamat. terimakasih.', 'positive', 'positive']\n",
            "['bahan lembut, halus, adem, permintaan sesuai, good 👍😍', 'positive', 'positive']\n",
            "['tipis ya ternyata', 'positive', 'positive']\n",
            "['alhamdulillah sudah sampai, bagus, halus, semoga awet ☺, dan semoga berkah Toko nya, terimakasih', 'positive', 'positive']\n",
            "['wangiiii', 'positive', 'positive']\n",
            "['sukaaaaaaa', 'positive', 'positive']\n",
            "['Barang bagus, penjual ramah, dan pengiriman cepat. Terima kasih yaa Kak :)', 'positive', 'positive']\n",
            "['barang pesanan cepat sampainya.', 'positive', 'positive']\n",
            "['Suka sekali...', 'positive', 'positive']\n",
            "['wangiiii', 'positive', 'positive']\n",
            "['barang sudah diterima, cuma sayang warna lebih kusam dari foto', 'positive', 'negative']\n",
            "['Produk sesuai deskripsi', 'positive', 'positive']\n",
            "['makasih ZM dan tokped barang 100% original dan harganya sangat terjangkau. puaas banget', 'positive', 'positive']\n",
            "['sudah 3 x belanja disini kerudungnya adem dan wangi😀🥰 terima kasih kak..😊🙏', 'positive', 'positive']\n",
            "['Bahannya , warna dan motifnya lembut. Terima kasih', 'positive', 'positive']\n",
            "['mau beli lagi ahhh, puas banget, cantik coraknya dan bahan bagus, pertama kali beli jadi pengen beli lagi😀', 'positive', 'positive']\n",
            "['barang sesuai.. terimakasihh', 'positive', 'positive']\n",
            "['masih disegel, belum dipakai', 'positive', 'positive']\n",
            "['bahan adem, pengiriman cepat, respon cepat', 'positive', 'positive']\n",
            "['Baguuus untuk pembelian yang kesekian kalinya 👍👍👍👍👍', 'positive', 'positive']\n",
            "['suka ma celana nya..', 'positive', 'positive']\n",
            "['warna ijo nya aslinya agak keabuan', 'positive', 'positive']\n",
            "['❤️👍', 'positive', 'positive']\n",
            "['baguss..makasih', 'positive', 'positive']\n",
            "['baguuus bangettt kerudungnyaaaa~ buat kado doski sukak!', 'positive', 'positive']\n",
            "['bahan lembut. ok bnget dah', 'positive', 'positive']\n",
            "['dapet harga flash sale, horee, sering2 promo ya kak😁', 'positive', 'positive']\n",
            "['barang sesuai.. terimakasihh', 'positive', 'positive']\n",
            "['trims seller, paket mendarat dg selamat.pengiriman cepat, kualitas barang oke.harga mantul👍👍👍', 'positive', 'positive']\n",
            "['sukak bangett, baguss bahannya, adem dipakainya, 👍👍😍', 'positive', 'positive']\n",
            "['great dah', 'positive', 'positive']\n",
            "['pertama order disini dan tidak mengecewakan, kualitas barang bagus sesuai dengan harganya. Terima kasih', 'positive', 'positive']\n",
            "['barang sesuai.. terimakasihh', 'positive', 'positive']\n",
            "['bahan halus,untuk motif oke lah cm dr warna mmng agak gelap beda dngn d gambar...', 'negative', 'positive']\n",
            "['suka sama warnanya bagus dipake sama ibu saya bahannya jg gak tipis', 'positive', 'positive']\n",
            "['Sudah order yang kesekian kali', 'positive', 'positive']\n",
            "['baguus.. cm agak kurang tebel ja..', 'positive', 'positive']\n",
            "['Kualitas sesuai harga👍👍', 'positive', 'positive']\n",
            "['bagus cuman warnanya lebih gelap dr di foto :)))', 'negative', 'negative']\n",
            "['ok sudah sampai', 'positive', 'positive']\n",
            "['kainnya ad3mm', 'positive', 'positive']\n",
            "['tidak pernah kecewa dengan barangnya selalu puas thx ya. famili suka bgt', 'positive', 'positive']\n",
            "['lebih gelap dr fotonya ya', 'negative', 'positive']\n",
            "['Udah kesekian kali 👍', 'positive', 'positive']\n",
            "['bagus banget adem', 'positive', 'positive']\n",
            "['semuanya😁', 'positive', 'positive']\n",
            "['aduh sayang nya yg ini tepinya make jaitan', 'positive', 'positive']\n",
            "['tipis', 'positive', 'positive']\n",
            "['Cantikkkk banget jilbabnya, puasss... mau pesen lagi', 'positive', 'positive']\n",
            "['Khusus hijab ini bahannya JUARA ! Bagus banget beli pas diskon jadi worth the money sekali. Fix aku bakal beli warna lainnya khusus series ini. Adem alus dan seratnya lebih rapet jadi gak nerawang kaya series hijab yg lain', 'negative', 'positive']\n",
            "['respon cepat,barang ori dan bahan nya bagus banget... warnanya soft keren....', 'positive', 'positive']\n",
            "['barang sesuai.. terimakasihh', 'positive', 'positive']\n",
            "['dressnya bagus, tapi tentu saja untuk saya yg tingginya 160 jadinya kepanjangan, perlu dipotongin sikit biar ga kepanjangann pengiriman produknya cepat, tapi disayangkan adminnya kurang gercep, jadi perlu ditanyain dulu baru dikonfirmasi terus diproses, but after all ini bagus 👍', 'positive', 'positive']\n",
            "['awalnya senang dpt promo, ternyata yg dikasih yg ada cacatnya...', 'positive', 'positive']\n",
            "['Pengiriman cepat', 'positive', 'positive']\n",
            "['bagus. Respon cepat penjual ramah', 'positive', 'positive']\n",
            "['beli langsung di OS nya pasti ori, pengiriman pake sicepat ga ngecewain.', 'positive', 'positive']\n",
            "['kualitas ok,pengiriman jg cpet sampai...😊', 'positive', 'positive']\n",
            "['alhamdulillaah sdh nyampe lebih cepet dr perkiraan. sya suka, enak dipakai...terima kasih zm, mas kurir juga Tokopedia', 'positive', 'positive']\n",
            "['pengiriman cukup lama. setelah lewat estimasi waktu sampai paket, dichat br di kirim. mgkn lagi over load. produknya oke lah', 'negative', 'negative']\n",
            "['Produknya slalu dengan kwalitas yg premium tp dgn harga terjangkau,,mantap dehhh,,', 'positive', 'positive']\n",
            "['sesuai pesanan, bahan bagus..', 'positive', 'positive']\n",
            "['jos banget,penjual baik', 'positive', 'positive']\n",
            "['warnanya beda dgn aslinya', 'positive', 'negative']\n",
            "['keren..👍👍👍 suka banget warna sama motifnya.. cm salah pilih warna aja order 2-2 nya warna gelap.. harus pilih2 lg warna cerah nih kayaknya..', 'positive', 'positive']\n",
            "['brang okeeee nexk order lagi', 'positive', 'positive']\n",
            "['👍', 'positive', 'positive']\n",
            "['Dress ya cakep banget dan bahannya jatuh jadinya perfect cutting gitu.', 'positive', 'positive']\n",
            "['bahannya adem, lebar, enak dipakenya. tapi ngirimnya lama. thank you seller', 'negative', 'negative']\n",
            "['bagus', 'positive', 'positive']\n",
            "['barang sesuai.. terimakasihh', 'positive', 'positive']\n",
            "['seperti biasa , pengiriman dan respon cepat dan harga yang terjangkau...', 'positive', 'positive']\n",
            "['barang sesuai', 'positive', 'positive']\n",
            "['Biasa aja bahannya', 'positive', 'positive']\n",
            "['Warnanya beda, lebih tua😕', 'negative', 'negative']\n",
            "['barang sesuai.. terimakasihh', 'positive', 'positive']\n",
            "['di bungkus rapi...beli kmrn skrg sampe...harga promo..mksh.', 'positive', 'positive']\n",
            "['MasyaAllah tabarakallah', 'positive', 'positive']\n",
            "['pengiriman cepat , barang sesuai pesanan', 'positive', 'positive']\n",
            "['Produk sesuai deskripsi', 'positive', 'positive']\n",
            "['motif bagus, pengiriman tepat waktu', 'positive', 'positive']\n",
            "['harganya dapat murah.kwalitas bagus bngt puas belanja di Tokopedia', 'positive', 'positive']\n",
            "['warnanya recomended', 'positive', 'positive']\n",
            "['pesanan sampai dengan aman dan baik, bagus jilbabnya, beli buat kanjeng mami, packing rapi, kurirnya ramah. thks', 'positive', 'positive']\n",
            "['wangi.. bagus..alhamd dpt diskon juga,', 'positive', 'positive']\n",
            "['pembelian ke-4 utk kerudungan zaskia', 'positive', 'positive']\n",
            "['barang sesuai.. terimakasihh', 'positive', 'positive']\n",
            "['thankssss.........', 'positive', 'positive']\n",
            "['bahannya nyaman banget', 'positive', 'positive']\n",
            "['motif bagus, pengiriman tepat waktu', 'positive', 'positive']\n",
            "['Mksh..brgnya bagus cuma pengirimannya agak lama yaa', 'positive', 'negative']\n",
            "['Sumpah ini sih bagus banget, dipakainya tambleg tdk mudah bergeser, bahannya tdk tipis dan tdk ketebalan, wangi pula. Pokoknya mantap dah !!!', 'positive', 'positive']\n",
            "['warnanya gak cerah seperti yg di gambar', 'positive', 'negative']\n",
            "['ya', 'positive', 'positive']\n",
            "['Tooooooooooooooooooooop', 'positive', 'positive']\n",
            "['sukaaa banget pas pandangan pertama, real pic nya emang hijau army/gelap gitu.. bahannya jg adem.. thanks..', 'positive', 'positive']\n",
            "['Wah bagus kak kerudungnya. Packingnya juga rapi. Suka sekali. Terimakasih💕', 'positive', 'positive']\n",
            "['barang sesuai.. terimakasihh', 'positive', 'positive']\n",
            "['barang sesuai pesenan .....ga kecewa beli di sini trima kasih kak', 'positive', 'positive']\n",
            "['thx u yahh, ibuku suka dress nya xixi', 'positive', 'positive']\n",
            "['Bahan agak tipis', 'positive', 'positive']\n",
            "['bagus banget, suka bajunya', 'positive', 'positive']\n",
            "['baguss bgtzzz hijab ZM😍 kualitas bagusss bgtzzz wangiiiii hijabnya 😘😘 alhamdulillah pas dpt harga sale😍 mkshh Tokopedia😍', 'positive', 'positive']\n",
            "['agak tipiis tp lumayan lah...👍', 'positive', 'positive']\n",
            "['barang sesuai.. terimakasihh', 'positive', 'positive']\n",
            "['bagus kerudung nya... bahannya tebal', 'positive', 'positive']\n",
            "['bahan bagus.. adem model bagus', 'positive', 'positive']\n",
            "['selalu bagus', 'positive', 'positive']\n",
            "['👍', 'positive', 'positive']\n",
            "['mantap', 'positive', 'positive']\n",
            "['barang sesuai.. terimakasihh', 'positive', 'positive']\n",
            "['kwalitas bagus tp ketebelan..gpp d', 'positive', 'positive']\n",
            "['barang sdh sampai terimakasih', 'positive', 'positive']\n",
            "['Warna dan motif sesuai gambar, bahan bagus, jahitan rapih, beli saat discount jd tdk terasa mahalnya.', 'positive', 'positive']\n",
            "['barang sesuai.. terimakasihh', 'positive', 'positive']\n",
            "['bahannya tebel ori dan bagus bangett thanks seller', 'positive', 'positive']\n",
            "['Kualitas kain bajunya bagus, namun sayang sekali dalam menyampaikan ukuran2 baju S-M-L-XL-XXL untuk lingkar dada dll tidak akurat. Berbeda dengan yang dituliskan di penawarannya.', 'positive', 'positive']\n",
            "['bagus sesuai ekspektasi, istri suka👍👍 barang datang bareng dgn yg order via link , mksh🙏', 'positive', 'positive']\n",
            "['Jilbabnya bagus, dalemannya lembut, simpel banget ga perlu dimodel2 udah bagus dipake.', 'positive', 'positive']\n",
            "['uda beli keempat kalinya..suka sama bahannya dan harga terjangkau', 'positive', 'positive']\n",
            "['warna nya berbeda tidak seperti di foto', 'positive', 'negative']\n",
            "['barang sesuai.. terimakasihh', 'positive', 'positive']\n",
            "['kerudungnya udah nyampe ,alhamdulillah ,bagus banget berkah pasti kepake .pengiriman cepat .makasih ......', 'positive', 'positive']\n",
            "['seller responsif, pengiriman cepat, scarfnya tebal dan halus', 'positive', 'positive']\n",
            "['barang sudah saya terima dengan baik. kualitas produk baik. puas belanja disini. terima kasih', 'positive', 'positive']\n",
            "['Beli ketika flash sale.Packaging rapi. Warna lebih gelap dibandingkan dgn katalog tapi tetap bagus.Bahan nya agak tipis,sesuai dengan harga.', 'positive', 'positive']\n",
            "['ternyata biasa aja bahan dan motifnya untuk harga 50k.', 'positive', 'positive']\n",
            "['Pengiriman cepat. Klo soal warna cukup, agak gelap aslinya. Anw, makasihh', 'positive', 'negative']\n",
            "['produk datang sesuai pemesanan, terimakasih', 'positive', 'positive']\n",
            "['warna aslinya emg lebih bagus cuma sayang koq beda ya antara yg di display sama asli jd sebagai customer hrs extra teliti. Mudah-mudahan kedepannya yg di display foto asli/mirip, ngga terlalu d edit hehee....makasihh. Syukaaaaa bgttt wlp smpet deg2an dgn warnanya hihiiii :)', 'negative', 'positive']\n",
            "['bagus banget kerudung nya, nyaman dipakai.', 'positive', 'positive']\n",
            "['mantap', 'positive', 'positive']\n",
            "['Bahan bagus adem', 'positive', 'positive']\n",
            "['seller responsif, bahan nya nyaman, in syaa Allah repeat order', 'positive', 'positive']\n",
            "['Okee banget, bahannya bagus, motifnya juga keren', 'positive', 'positive']\n",
            "['Barang bagus , kualitas bagus, seneng belanja disini', 'positive', 'positive']\n",
            "['bagus, lembut, ukuran cukup lebar, warna arminya lebih gelap dr foto', 'negative', 'positive']\n",
            "['jilbab nya sesuai yg saya inginkan. bahannya juga enak. pas diwajah, nyaman dipakai. makasih', 'positive', 'positive']\n",
            "['Order yang kesekian kali, jadi ketagihan karena enak dipakenya tdk ngegeser, tidak licin, bahan tdk ketebalan dan tidak ketipisan, motif bagus dan harganya pun terjangkau. Sukses terus ya...', 'negative', 'positive']\n",
            "['good', 'positive', 'positive']\n",
            "['Terima Kasih ZM Official suka tuniknya jadinya belanja terus.. dan Terima kasih juga Tokopedia semakin OKE..', 'positive', 'positive']\n",
            "['baguuusssss', 'positive', 'positive']\n",
            "['barang sesuai.. terimakasihh', 'positive', 'positive']\n",
            "['bahannya', 'positive', 'positive']\n",
            "['Bagus bajunya, bahannya juga bagus. Dapet harga diskon mantap hehehe', 'positive', 'positive']\n",
            "['barang baguuuss, pengiriman cepat......sukses seller', 'positive', 'positive']\n",
            "['bahannya adem dan enak dipakai..', 'positive', 'positive']\n",
            "['sesuai diskripsi.. bagus', 'positive', 'positive']\n",
            "['bahannya elastis, nyaman dipakai', 'positive', 'positive']\n",
            "['warna aslinya emg lebih bagus cuma sayang koq beda ya antara yg di display sama asli jd sebagai customer hrs extra teliti. Mudah-mudahan kedepannya yg di display foto asli/mirip, ngga terlalu d edit hehee....makasihh. Syukaaaaa bgttt wlp smpet deg2an dgn warnanya hihiiii :)', 'negative', 'positive']\n",
            "[\"judulnya warna navy, tp aslinya lebih ke abu2 kehijauan gitu ya..but it's okay..trus kainnya kaya wangi kayu2an gitu..overall quite nice lah..thanks\", 'negative', 'negative']\n",
            "['Tooooooooooooooooooooop', 'positive', 'positive']\n",
            "['hijab nya bagus..sesuai gambar wangii..gk mengecewakan dh pokok nya belanja di Zm..love..❤ love ❤', 'positive', 'positive']\n",
            "['Printing dan laser cut rapi. Sablon merk mbleber. Andai tag merk bukan warna putih, hitam lebih elegan, cukup mengganggu mata karena ukurannya agak besar (3.5x2cm) dan kain hijab warna gelap. Agak tipis, nerawang. Overestimate, untung beli harga sale, menang merk doang ini sih. Kainnya wangiiiiii', 'negative', 'positive']\n",
            "['baguusss', 'positive', 'positive']\n",
            "['selalu suka dg jilbab dr zm, apalagi kl diskon. kirain ungu, ternyata abu dg garis ungu. jd lebih cenderung ke abu', 'positive', 'positive']\n",
            "['Barang sdh diterima dgn baik...^^', 'positive', 'positive']\n",
            "['Cocok banget buat kado temen yang berhijab, kualitas Ok, so pricely you can get more than it', 'positive', 'positive']\n",
            "['barang sesuai deskripsi, kiriman cepat', 'positive', 'positive']\n",
            "['itu bkn wrna navi namay.', 'positive', 'positive']\n",
            "['thank you. barang diproses cepat walau libur lebaran. barang juga oke', 'positive', 'positive']\n",
            "['Warna asli nya lebih gelap dari gambar', 'negative', 'negative']\n",
            "['produknya bagus. bahannya adem. hanya pengiriman cukup lama. setelah lewat estimasi waktu sampai paket, dichat br di kirim. mgkn lagi over load.', 'negative', 'negative']\n",
            "['barang dah nyampeee. bagus tp warnanya ga realpict ya. tp y udahlah', 'positive', 'negative']\n",
            "['Sukaa', 'positive', 'positive']\n",
            "['Mantappp..', 'positive', 'positive']\n",
            "['sesuai dg harga, pake buat hari2 di rumah saja, gak masalah', 'positive', 'positive']\n",
            "['warnanya beda banget', 'positive', 'negative']\n",
            "['Pesanan telah diterima dgn baik. Terima kasih. Fast Respons recommended.', 'positive', 'positive']\n",
            "['Sudah sampe dan pastinya memuaskan', 'positive', 'positive']\n",
            "['selalu puas dg produk ZM, mudah2an selalu ada harga disc, tks dan suksea aelalu buat ZM, toped n mas kurir', 'positive', 'positive']\n",
            "['sesuai deskripsi,bahan adem,bagus .', 'positive', 'positive']\n",
            "['bguss bgt', 'positive', 'positive']\n",
            "['bahan nya enaak', 'positive', 'positive']\n",
            "['sukaa dan cepat sampai apalagi free ongkir pas dapet promo pula makasiiiih....', 'positive', 'positive']\n",
            "['beli jilbab utk hadiah lebaran teteh tercinta, krn beda pulau. terima ksh utk tim ZM, pelayanan ramah, fast respon. mantap. pengiriman pas smpe hr ini mlm takbiran. terima kasih. smoga sering2 promo diskony', 'positive', 'positive']\n",
            "['bahan bagus tp tnyta warna lebih gelap dr di foto, pengiriman cepat, trims', 'negative', 'negative']\n",
            "['barang sesuai.. terimakasihh', 'positive', 'positive']\n",
            "['bagus sekali bahannya..original..makasih', 'positive', 'positive']\n",
            "['hanya warnanya engga dustypink, lebih ke mocca soft yaah.. tp bahan bagus lembut bgt', 'negative', 'positive']\n",
            "['okk', 'positive', 'positive']\n",
            "['produknya bagus. bahannya adem. hanya pengiriman cukup lama. setelah lewat estimasi waktu sampai paket, dichat br di kirim. mgkn lagi over load.', 'negative', 'negative']\n",
            "['barang sesuai.. terimakasihh', 'positive', 'positive']\n",
            "['barang sesuai.. terimakasihh', 'positive', 'positive']\n",
            "['baguuss,,ku suka,,bahanya adem,lembut,,simpel pakainya,,trims', 'positive', 'positive']\n",
            "['bahan baguusssss ga nyesel kalo ada rezeki aku mau beli lagii', 'positive', 'positive']\n",
            "['🤘🏻', 'positive', 'positive']\n",
            "['Sukaaa', 'positive', 'positive']\n",
            "['brng bagus sesuai deskripsi..tp wrnanya kurang cerah...pdhl klo wrna terang lg sdikit..mantulll👍', 'positive', 'positive']\n",
            "['barang sesuai.. terimakasihh', 'positive', 'positive']\n",
            "['bagus banget celananya, cuma saja di adik saya pada bagian pinggang ke kecilan jadi ditambahin bahan supaya muat', 'positive', 'positive']\n",
            "['mantulll', 'positive', 'positive']\n",
            "['sukaaa 😍', 'positive', 'positive']\n",
            "['berharap dengan harga segini dapet produk seperti yang pernah saya beli, beda merk memang. motif lumayan.warna lembut dan manis. pengiriman lumayan', 'positive', 'positive']\n",
            "[\"warnanya lebih gelap dari foto, but it's okay... emang bener gini sih warna dark grey\", 'negative', 'positive']\n",
            "['pengiriman cepat, kualitas barang ok, recommended 👍🏻', 'positive', 'positive']\n",
            "['kualitas tdk diraguka', 'positive', 'positive']\n",
            "['Barang dalam kondisi baik. Hanya saja warna aslinya lebih gelap, tidak sesuai dengan gambar.', 'negative', 'negative']\n",
            "['Suka semua. Bagus dan harga lg promo. Aku mau beli lagi sebelum kehabisan', 'positive', 'positive']\n",
            "['bahannya bagus tidak menerawang terimakasih & sukses selalu', 'positive', 'positive']\n",
            "['Barang oke, harga terjangkau dan freeong', 'positive', 'positive']\n",
            "['barang sesuai.. terimakasihh', 'positive', 'positive']\n",
            "['Alhamdulillah packing cepat pengiriman cepat warna lebih gelap tapi ku sukaaa terima kasih yaaa', 'positive', 'positive']\n",
            "['padahal ditulisannya purple tapi kenapa ini jadi grey. padahal mau buat padanan sama baju. sedih tapi ok aja lah. bisa buat baju yang lain', 'positive', 'positive']\n",
            "['👍👍💯🔝', 'positive', 'positive']\n",
            "['warna nya ga sesuai ekspektasi. di gambar mustard, tapi pas dateng bukan mustard, lebih ke hijauan gitu kyk seragam PNS. kalo kain nya sih lembut yaa, ini jilbab ke-8 dari ZM. cm kecewa di warna ini sih, anggrek hitam.', 'negative', 'positive']\n",
            "['jilbabnya wangi, pengiriman lumayan krn mau lebaran.. mksh', 'positive', 'positive']\n",
            "['Kirimnya cepat dan bahannya bagus tidak licin.', 'positive', 'positive']\n",
            "['puas, respon penjualan cepat, pengiriman cepat, kualitas ya juga lembut dan tebal, tapi warna ya ternyata gelap ya dari gambar asli tapi its okay bagus kok rekomended 👍🏻', 'positive', 'positive']\n",
            "['aku kira salah kirim warna, krn lbh gelap aslinya. Kalau bahannya bagus hanya di warna yg ga sesuai di gambar', 'negative', 'positive']\n",
            "['barang diterima dengan baik kainnya halus dan tebal', 'positive', 'positive']\n",
            "['puass Pokoknya', 'positive', 'positive']\n",
            "['qualitas produk oke, respond penjual cepat, packing rapih, pengiriman cepat, terima kasih kepada pihak terkait..', 'positive', 'positive']\n",
            "['warna hijab aslinya lebih gelap sedikit ya dibanding fotonya, tapi untuk kualitas oke gaada cacatnya dan wangi juga hijabnya. thanks.', 'negative', 'positive']\n",
            "['qualitas produk oke, respond penjual cepat, packing rapih, pengiriman cepat, terima kasih kepada pihak terkait..', 'positive', 'positive']\n",
            "['warnanya pucet', 'positive', 'negative']\n",
            "['bagus.. pengiriman on time. makasih', 'positive', 'positive']\n",
            "['warnanya kurang jelas..', 'positive', 'negative']\n",
            "['suka barangnya oke seller komunikatif', 'positive', 'positive']\n",
            "['Kerudung sudah saya terima, kondisi baik, kerudungnya cantik. Recommended. Terima kasih Seller, Kurir, Tokopedia.', 'positive', 'positive']\n",
            "['jilbabnya cantik. warna dan motif bagus. bahan tidak licin.', 'positive', 'positive']\n",
            "['Sumpah ini sih bagus banget, dipakainya tambleg tdk mudah bergeser, bahannya tdk tipis dan tdk ketebalan, wangi pula. Pokoknya mantap dah !!!', 'positive', 'positive']\n",
            "['jilbabny bagus palagi pas dpt hrga murah .. tp pengiriman lama..', 'positive', 'negative']\n",
            "['bajunya bagus, walaupun pengiriman kali ini agak telat karena salah kirim tapi puas bajunya bagus', 'positive', 'negative']\n",
            "['respon cepat tksh seller, semoga sukses ya', 'positive', 'positive']\n",
            "['Bagus, tp warnanya beda dgn foto, saran aja baiknya fotonya disesuaikan dgn warna aslinya, sudah bbrpa kali beli warnanya lumayan jauh bedanya soalnya. Jd bingung pilih2 warna hijabnya yg sesuai.', 'negative', 'negative']\n"
          ],
          "name": "stdout"
        }
      ]
    },
    {
      "cell_type": "code",
      "metadata": {
        "colab": {
          "base_uri": "https://localhost:8080/"
        },
        "id": "8KhF2apIYHlK",
        "outputId": "04eb663e-32f1-4bae-83ff-654620a65035"
      },
      "source": [
        "print(lsPrediksi[1][1])"
      ],
      "execution_count": null,
      "outputs": [
        {
          "output_type": "stream",
          "text": [
            "positive\n"
          ],
          "name": "stdout"
        }
      ]
    },
    {
      "cell_type": "code",
      "metadata": {
        "id": "Bo2t8TNeUjwO"
      },
      "source": [
        "if (lsPrediksi[1][1] == \"negative\"):\n",
        "  print(lsPrediksi, sep = \"\\n\")\n"
      ],
      "execution_count": null,
      "outputs": []
    },
    {
      "cell_type": "code",
      "metadata": {
        "id": "e9v8IDZZPSy8"
      },
      "source": [],
      "execution_count": null,
      "outputs": []
    },
    {
      "cell_type": "code",
      "metadata": {
        "id": "XjaBKNMtnZIu"
      },
      "source": [
        "act=[]\n",
        "pred=[]\n",
        "\n",
        "for i, (feats, label) in enumerate(testing_set):\n",
        "    observed = classifier.classify(feats)\n",
        "    act.append(label)\n",
        "    pred.append(observed)"
      ],
      "execution_count": null,
      "outputs": []
    },
    {
      "cell_type": "code",
      "metadata": {
        "id": "ivNl9T0GnZIu"
      },
      "source": [
        "from nltk.metrics import ConfusionMatrix"
      ],
      "execution_count": null,
      "outputs": []
    },
    {
      "cell_type": "code",
      "metadata": {
        "id": "MqDIXdKXnZIw"
      },
      "source": [
        "matrix = ConfusionMatrix(act,pred)"
      ],
      "execution_count": null,
      "outputs": []
    },
    {
      "cell_type": "code",
      "metadata": {
        "colab": {
          "base_uri": "https://localhost:8080/"
        },
        "id": "BtdCHQg4nZIw",
        "outputId": "71c3e8aa-d8a3-44a2-d1a8-c1817362505c"
      },
      "source": [
        "print(matrix)"
      ],
      "execution_count": null,
      "outputs": [
        {
          "output_type": "stream",
          "text": [
            "         |   n   p |\n",
            "         |   e   o |\n",
            "         |   g   s |\n",
            "         |   a   i |\n",
            "         |   t   t |\n",
            "         |   i   i |\n",
            "         |   v   v |\n",
            "         |   e   e |\n",
            "---------+---------+\n",
            "negative |  <9> 17 |\n",
            "positive |  13<224>|\n",
            "---------+---------+\n",
            "(row = reference; col = test)\n",
            "\n"
          ],
          "name": "stdout"
        }
      ]
    },
    {
      "cell_type": "code",
      "metadata": {
        "colab": {
          "base_uri": "https://localhost:8080/"
        },
        "id": "pvRRwK8cnZIx",
        "outputId": "4a4a1e01-a90d-4673-8b87-80eb5d3f275e"
      },
      "source": [
        "classifier2 = nltk.classify.SklearnClassifier(LinearSVC())\n",
        "classifier2.train(training_set)"
      ],
      "execution_count": null,
      "outputs": [
        {
          "output_type": "execute_result",
          "data": {
            "text/plain": [
              "<SklearnClassifier(LinearSVC(C=1.0, class_weight=None, dual=True, fit_intercept=True,\n",
              "          intercept_scaling=1, loss='squared_hinge', max_iter=1000,\n",
              "          multi_class='ovr', penalty='l2', random_state=None, tol=0.0001,\n",
              "          verbose=0))>"
            ]
          },
          "metadata": {
            "tags": []
          },
          "execution_count": 43
        }
      ]
    },
    {
      "cell_type": "code",
      "metadata": {
        "colab": {
          "base_uri": "https://localhost:8080/"
        },
        "id": "16YkuLxfnZIx",
        "outputId": "72b23d9c-2757-4f03-9030-aa1a5560f6bf"
      },
      "source": [
        "print(\"Classifier accuracy percent:\",(nltk.classify.accuracy(classifier2, testing_set))*100)"
      ],
      "execution_count": null,
      "outputs": [
        {
          "output_type": "stream",
          "text": [
            "Classifier accuracy percent: 58.333333333333336\n"
          ],
          "name": "stdout"
        }
      ]
    },
    {
      "cell_type": "code",
      "metadata": {
        "id": "XoboYT6pnZIy"
      },
      "source": [
        "from sklearn.model_selection import KFold\n",
        "cv = KFold(n_splits=5, shuffle=False, random_state=None)"
      ],
      "execution_count": null,
      "outputs": []
    },
    {
      "cell_type": "code",
      "metadata": {
        "colab": {
          "base_uri": "https://localhost:8080/"
        },
        "id": "mXtDPHz8nZIy",
        "outputId": "b8731f2b-7558-4639-f84c-3b8c14dbc826"
      },
      "source": [
        "for traincv, testcv in cv.split(featuresets):\n",
        "    classifier = nltk.NaiveBayesClassifier.train(featuresets[traincv[0]:traincv[len(traincv)-1]])\n",
        "    print ('accuracy: %.3f' % nltk.classify.util.accuracy(classifier, featuresets[testcv[0]:testcv[len(testcv)-1]]))"
      ],
      "execution_count": null,
      "outputs": [
        {
          "output_type": "stream",
          "text": [
            "accuracy: 0.722\n",
            "accuracy: 0.772\n",
            "accuracy: 0.823\n",
            "accuracy: 0.785\n",
            "accuracy: 0.633\n"
          ],
          "name": "stdout"
        }
      ]
    },
    {
      "cell_type": "code",
      "metadata": {
        "id": "wtetjZPNnZIz"
      },
      "source": [
        "from nltk.metrics.scores import (precision, recall)\n",
        "import collections"
      ],
      "execution_count": null,
      "outputs": []
    },
    {
      "cell_type": "code",
      "metadata": {
        "colab": {
          "base_uri": "https://localhost:8080/"
        },
        "id": "IkfnrJKZnZIz",
        "outputId": "2bfb4f55-ae58-458d-e208-532eca13f2d5"
      },
      "source": [
        "k=1\n",
        "for traincv, testcv in cv.split(featuresets):\n",
        "    training_sets = featuresets[traincv[0]:traincv[len(traincv)-1]]\n",
        "    testing_sets = featuresets[testcv[0]:testcv[len(testcv)-1]]\n",
        "    classifier = nltk.NaiveBayesClassifier.train(training_sets)\n",
        "    refsets = collections.defaultdict(set)\n",
        "    testsets = collections.defaultdict(set)\n",
        "\n",
        "    for i, (feats, label) in enumerate(testing_sets):\n",
        "        refsets[label].add(i)\n",
        "        observed = classifier.classify(feats)\n",
        "        testsets[observed].add(i)\n",
        "    print (\"Fold - \"+str(k))\n",
        "    print('Recall:', recall(refsets['positive'], testsets['positive']))\n",
        "    print('Precision:', precision(refsets['positive'], testsets['positive']))\n",
        "    k+=1\n",
        ""
      ],
      "execution_count": null,
      "outputs": [
        {
          "output_type": "stream",
          "text": [
            "Fold - 1\n",
            "Recall: 0.975609756097561\n",
            "Precision: 0.6557377049180327\n",
            "Fold - 2\n",
            "Recall: 0.96875\n",
            "Precision: 0.6458333333333334\n",
            "Fold - 3\n",
            "Recall: 0.9777777777777777\n",
            "Precision: 0.7719298245614035\n",
            "Fold - 4\n",
            "Recall: 0.9722222222222222\n",
            "Precision: 0.6862745098039216\n",
            "Fold - 5\n",
            "Recall: 0.8636363636363636\n",
            "Precision: 0.6229508196721312\n"
          ],
          "name": "stdout"
        }
      ]
    }
  ]
}