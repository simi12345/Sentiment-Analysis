{
  "nbformat": 4,
  "nbformat_minor": 0,
  "metadata": {
    "colab": {
      "provenance": [],
      "authorship_tag": "ABX9TyNGW611e+cLNIG1MWzdd8M7",
      "include_colab_link": true
    },
    "kernelspec": {
      "name": "python3",
      "display_name": "Python 3"
    },
    "language_info": {
      "name": "python"
    }
  },
  "cells": [
    {
      "cell_type": "markdown",
      "metadata": {
        "id": "view-in-github",
        "colab_type": "text"
      },
      "source": [
        "<a href=\"https://colab.research.google.com/github/simi12345/Sentiment-Analysis/blob/main/Copy_of_sentiment_analysis.ipynb\" target=\"_parent\"><img src=\"https://colab.research.google.com/assets/colab-badge.svg\" alt=\"Open In Colab\"/></a>"
      ]
    },
    {
      "cell_type": "code",
      "metadata": {
        "colab": {
          "base_uri": "https://localhost:8080/"
        },
        "id": "FXiG_LwaaIsb",
        "outputId": "6df4ee1e-e0ff-4568-ed89-8b7f280bb561"
      },
      "source": [
        "!pip install snscrape"
      ],
      "execution_count": null,
      "outputs": [
        {
          "output_type": "stream",
          "text": [
            "Collecting snscrape\n",
            "  Downloading https://files.pythonhosted.org/packages/81/dd/4a4ec9eedd8cc85ced7c5a6a23853965195203aec825ef3f7778a0c3b69e/snscrape-0.3.4-py3-none-any.whl\n",
            "Requirement already satisfied: beautifulsoup4 in /usr/local/lib/python3.7/dist-packages (from snscrape) (4.6.3)\n",
            "Requirement already satisfied: lxml in /usr/local/lib/python3.7/dist-packages (from snscrape) (4.2.6)\n",
            "Requirement already satisfied: requests[socks] in /usr/local/lib/python3.7/dist-packages (from snscrape) (2.23.0)\n",
            "Requirement already satisfied: certifi>=2017.4.17 in /usr/local/lib/python3.7/dist-packages (from requests[socks]->snscrape) (2020.12.5)\n",
            "Requirement already satisfied: chardet<4,>=3.0.2 in /usr/local/lib/python3.7/dist-packages (from requests[socks]->snscrape) (3.0.4)\n",
            "Requirement already satisfied: idna<3,>=2.5 in /usr/local/lib/python3.7/dist-packages (from requests[socks]->snscrape) (2.10)\n",
            "Requirement already satisfied: urllib3!=1.25.0,!=1.25.1,<1.26,>=1.21.1 in /usr/local/lib/python3.7/dist-packages (from requests[socks]->snscrape) (1.24.3)\n",
            "Requirement already satisfied: PySocks!=1.5.7,>=1.5.6; extra == \"socks\" in /usr/local/lib/python3.7/dist-packages (from requests[socks]->snscrape) (1.7.1)\n",
            "Installing collected packages: snscrape\n",
            "Successfully installed snscrape-0.3.4\n"
          ],
          "name": "stdout"
        }
      ]
    },
    {
      "cell_type": "code",
      "metadata": {
        "colab": {
          "base_uri": "https://localhost:8080/",
          "height": 700
        },
        "id": "1VazL-7_aiRX",
        "outputId": "7fdfafd6-0daa-4402-8a0e-cdc510e33da7"
      },
      "source": [
        "!pip install nlp-id"
      ],
      "execution_count": null,
      "outputs": [
        {
          "output_type": "stream",
          "text": [
            "Collecting nlp-id\n",
            "\u001b[?25l  Downloading https://files.pythonhosted.org/packages/18/e2/ac581b0701856411bd86a7fc0eac4d23d83e956eda8eff60c88cabc4abb6/nlp_id-0.1.10.0.tar.gz (7.5MB)\n",
            "\u001b[K     |████████████████████████████████| 7.5MB 8.3MB/s \n",
            "\u001b[?25hCollecting scikit-learn==0.22\n",
            "\u001b[?25l  Downloading https://files.pythonhosted.org/packages/19/96/8034e350d4550748277e514d0d6d91bdd36be19e6c5f40b8af0d74cb0c84/scikit_learn-0.22-cp37-cp37m-manylinux1_x86_64.whl (7.0MB)\n",
            "\u001b[K     |████████████████████████████████| 7.0MB 15.5MB/s \n",
            "\u001b[?25hCollecting nltk==3.4.5\n",
            "\u001b[?25l  Downloading https://files.pythonhosted.org/packages/f6/1d/d925cfb4f324ede997f6d47bea4d9babba51b49e87a767c170b77005889d/nltk-3.4.5.zip (1.5MB)\n",
            "\u001b[K     |████████████████████████████████| 1.5MB 53.7MB/s \n",
            "\u001b[?25hCollecting wget==3.2\n",
            "  Downloading https://files.pythonhosted.org/packages/47/6a/62e288da7bcda82b935ff0c6cfe542970f04e29c756b0e147251b2fb251f/wget-3.2.zip\n",
            "Requirement already satisfied: joblib>=0.11 in /usr/local/lib/python3.7/dist-packages (from scikit-learn==0.22->nlp-id) (1.0.1)\n",
            "Requirement already satisfied: scipy>=0.17.0 in /usr/local/lib/python3.7/dist-packages (from scikit-learn==0.22->nlp-id) (1.4.1)\n",
            "Requirement already satisfied: numpy>=1.11.0 in /usr/local/lib/python3.7/dist-packages (from scikit-learn==0.22->nlp-id) (1.19.5)\n",
            "Requirement already satisfied: six in /usr/local/lib/python3.7/dist-packages (from nltk==3.4.5->nlp-id) (1.15.0)\n",
            "Building wheels for collected packages: nlp-id, nltk, wget\n",
            "  Building wheel for nlp-id (setup.py) ... \u001b[?25l\u001b[?25hdone\n",
            "  Created wheel for nlp-id: filename=nlp_id-0.1.10.0-cp37-none-any.whl size=7723175 sha256=f4c667fa12e8a688e16340dfc6e0efc6a3792dbf2e6fcee5ad34184f8e0ad8ae\n",
            "  Stored in directory: /root/.cache/pip/wheels/a5/b6/2b/146e3f2a36d470240782b5b54021d994c974aaefeee5561e77\n",
            "  Building wheel for nltk (setup.py) ... \u001b[?25l\u001b[?25hdone\n",
            "  Created wheel for nltk: filename=nltk-3.4.5-cp37-none-any.whl size=1449907 sha256=551e2d91b33aeb4e3e2c86795d43a898f2662fdfc4debf84ff2bcbbfadbb5c37\n",
            "  Stored in directory: /root/.cache/pip/wheels/96/86/f6/68ab24c23f207c0077381a5e3904b2815136b879538a24b483\n",
            "  Building wheel for wget (setup.py) ... \u001b[?25l\u001b[?25hdone\n",
            "  Created wheel for wget: filename=wget-3.2-cp37-none-any.whl size=9681 sha256=0c934d177ac45b4cdae7b1f0f60bbbd9bcdb081e69868b8d519235d86bf260b5\n",
            "  Stored in directory: /root/.cache/pip/wheels/40/15/30/7d8f7cea2902b4db79e3fea550d7d7b85ecb27ef992b618f3f\n",
            "Successfully built nlp-id nltk wget\n",
            "Installing collected packages: scikit-learn, nltk, wget, nlp-id\n",
            "  Found existing installation: scikit-learn 0.22.2.post1\n",
            "    Uninstalling scikit-learn-0.22.2.post1:\n",
            "      Successfully uninstalled scikit-learn-0.22.2.post1\n",
            "  Found existing installation: nltk 3.2.5\n",
            "    Uninstalling nltk-3.2.5:\n",
            "      Successfully uninstalled nltk-3.2.5\n",
            "Successfully installed nlp-id-0.1.10.0 nltk-3.4.5 scikit-learn-0.22 wget-3.2\n"
          ],
          "name": "stdout"
        },
        {
          "output_type": "display_data",
          "data": {
            "application/vnd.colab-display-data+json": {
              "pip_warning": {
                "packages": [
                  "nltk",
                  "sklearn"
                ]
              }
            }
          },
          "metadata": {
            "tags": []
          }
        }
      ]
    },
    {
      "cell_type": "code",
      "metadata": {
        "colab": {
          "base_uri": "https://localhost:8080/"
        },
        "id": "dA7J5SwhfU1C",
        "outputId": "c8723e6a-acf7-4e5f-bd00-adf496db794a"
      },
      "source": [
        "!pip install emoji"
      ],
      "execution_count": null,
      "outputs": [
        {
          "output_type": "stream",
          "text": [
            "Collecting emoji\n",
            "\u001b[?25l  Downloading https://files.pythonhosted.org/packages/24/fa/b3368f41b95a286f8d300e323449ab4e86b85334c2e0b477e94422b8ed0f/emoji-1.2.0-py3-none-any.whl (131kB)\n",
            "\u001b[K     |████████████████████████████████| 133kB 9.0MB/s \n",
            "\u001b[?25hInstalling collected packages: emoji\n",
            "Successfully installed emoji-1.2.0\n"
          ],
          "name": "stdout"
        }
      ]
    },
    {
      "cell_type": "code",
      "metadata": {
        "colab": {
          "base_uri": "https://localhost:8080/"
        },
        "id": "2L4-Yvb_hLyB",
        "outputId": "08075204-2c15-42a1-b5ca-a28d4701ea3c"
      },
      "source": [
        "!pip install PySastrawi"
      ],
      "execution_count": null,
      "outputs": [
        {
          "output_type": "stream",
          "text": [
            "Collecting PySastrawi\n",
            "\u001b[?25l  Downloading https://files.pythonhosted.org/packages/61/84/b0a5454a040f81e81e6a95a5d5635f20ad43cc0c288f8b4966b339084962/PySastrawi-1.2.0-py2.py3-none-any.whl (210kB)\n",
            "\r\u001b[K     |█▋                              | 10kB 14.6MB/s eta 0:00:01\r\u001b[K     |███▏                            | 20kB 20.9MB/s eta 0:00:01\r\u001b[K     |████▊                           | 30kB 14.2MB/s eta 0:00:01\r\u001b[K     |██████▎                         | 40kB 9.5MB/s eta 0:00:01\r\u001b[K     |███████▉                        | 51kB 8.2MB/s eta 0:00:01\r\u001b[K     |█████████▍                      | 61kB 7.9MB/s eta 0:00:01\r\u001b[K     |███████████                     | 71kB 7.9MB/s eta 0:00:01\r\u001b[K     |████████████▌                   | 81kB 8.7MB/s eta 0:00:01\r\u001b[K     |██████████████                  | 92kB 8.4MB/s eta 0:00:01\r\u001b[K     |███████████████▋                | 102kB 9.0MB/s eta 0:00:01\r\u001b[K     |█████████████████▏              | 112kB 9.0MB/s eta 0:00:01\r\u001b[K     |██████████████████▊             | 122kB 9.0MB/s eta 0:00:01\r\u001b[K     |████████████████████▎           | 133kB 9.0MB/s eta 0:00:01\r\u001b[K     |█████████████████████▉          | 143kB 9.0MB/s eta 0:00:01\r\u001b[K     |███████████████████████▍        | 153kB 9.0MB/s eta 0:00:01\r\u001b[K     |█████████████████████████       | 163kB 9.0MB/s eta 0:00:01\r\u001b[K     |██████████████████████████▌     | 174kB 9.0MB/s eta 0:00:01\r\u001b[K     |████████████████████████████    | 184kB 9.0MB/s eta 0:00:01\r\u001b[K     |█████████████████████████████▋  | 194kB 9.0MB/s eta 0:00:01\r\u001b[K     |███████████████████████████████▏| 204kB 9.0MB/s eta 0:00:01\r\u001b[K     |████████████████████████████████| 215kB 9.0MB/s \n",
            "\u001b[?25hInstalling collected packages: PySastrawi\n",
            "Successfully installed PySastrawi-1.2.0\n"
          ],
          "name": "stdout"
        }
      ]
    },
    {
      "cell_type": "code",
      "metadata": {
        "id": "UKjKBGcbi8Su"
      },
      "source": [
        "import nltk\n",
        "import random\n",
        "from sklearn.model_selection import train_test_split\n",
        "from nltk.classify.scikitlearn import SklearnClassifier\n",
        "import pickle\n",
        "from sklearn.naive_bayes import MultinomialNB, BernoulliNB\n",
        "from sklearn.linear_model import LogisticRegression, SGDClassifier\n",
        "from sklearn.svm import SVC, LinearSVC, NuSVC\n",
        "from nltk.classify import ClassifierI\n",
        "from statistics import mode\n",
        "from nltk.tokenize import word_tokenize\n",
        "import re\n",
        "import csv\n",
        "from nltk.corpus import stopwords\n",
        "import string\n",
        "import emoji\n",
        "import pandas as pd\n"
      ],
      "execution_count": null,
      "outputs": []
    },
    {
      "cell_type": "code",
      "metadata": {
        "id": "j2YO54vil8Z0"
      },
      "source": [
        "import numpy as np\n",
        "import matplotlib.pyplot as plt\n",
        "from Sastrawi.Stemmer.StemmerFactory import StemmerFactory\n",
        "from sklearn import  model_selection\n",
        "from sklearn.model_selection import GridSearchCV\n",
        "from sklearn.preprocessing import LabelEncoder\n",
        "from sklearn.feature_extraction.text import TfidfVectorizer\n",
        "from sklearn.metrics import accuracy_score, precision_score, recall_score, f1_score\n",
        "from sklearn.svm import SVC\n",
        "from sklearn.linear_model import LogisticRegression"
      ],
      "execution_count": null,
      "outputs": []
    },
    {
      "cell_type": "code",
      "metadata": {
        "id": "Jvk8gu9X6mu7"
      },
      "source": [
        "with open('dataset/dataset_tweet_sentimen_tayangan_tv.csv', 'r',\n",
        "          encoding=\"utf8\") as nodecsv: # Buka file\n",
        "    csvreader = csv.reader(nodecsv) # membaca data\n",
        "    # Menyusun data dalam list dan menghilangkan header data\n",
        "    csv = [n for n in csvreader][1:]"
      ],
      "execution_count": null,
      "outputs": []
    },
    {
      "cell_type": "code",
      "metadata": {
        "id": "ZwCzD-pAHzpq"
      },
      "source": [
        "print(csv[10:])"
      ],
      "execution_count": null,
      "outputs": []
    },
    {
      "cell_type": "code",
      "metadata": {
        "colab": {
          "base_uri": "https://localhost:8080/",
          "height": 204
        },
        "id": "aewb6WgwNvoK",
        "outputId": "a7f74c71-4235-44d0-c466-d21fe12fd574"
      },
      "source": [
        "data = pd.read_csv ('dataset/dataset_tweet_sentimen_tayangan_tv.csv', encoding='latin-1')\n",
        "\n",
        "data.head(5)"
      ],
      "execution_count": null,
      "outputs": [
        {
          "output_type": "execute_result",
          "data": {
            "text/html": [
              "<div>\n",
              "<style scoped>\n",
              "    .dataframe tbody tr th:only-of-type {\n",
              "        vertical-align: middle;\n",
              "    }\n",
              "\n",
              "    .dataframe tbody tr th {\n",
              "        vertical-align: top;\n",
              "    }\n",
              "\n",
              "    .dataframe thead th {\n",
              "        text-align: right;\n",
              "    }\n",
              "</style>\n",
              "<table border=\"1\" class=\"dataframe\">\n",
              "  <thead>\n",
              "    <tr style=\"text-align: right;\">\n",
              "      <th></th>\n",
              "      <th>ï»¿Id</th>\n",
              "      <th>Sentiment</th>\n",
              "      <th>Acara TV</th>\n",
              "      <th>Jumlah Retweet</th>\n",
              "      <th>Text Tweet</th>\n",
              "    </tr>\n",
              "  </thead>\n",
              "  <tbody>\n",
              "    <tr>\n",
              "      <th>0</th>\n",
              "      <td>1</td>\n",
              "      <td>positive</td>\n",
              "      <td>HitamPutihTransTV</td>\n",
              "      <td>12</td>\n",
              "      <td>Undang @N_ShaniJKT48 ke hitamputih, pemenang S...</td>\n",
              "    </tr>\n",
              "    <tr>\n",
              "      <th>1</th>\n",
              "      <td>2</td>\n",
              "      <td>positive</td>\n",
              "      <td>HitamPutihTransTV</td>\n",
              "      <td>6</td>\n",
              "      <td>Selamat berbuka puasa Semoga amal ibadah hari ...</td>\n",
              "    </tr>\n",
              "    <tr>\n",
              "      <th>2</th>\n",
              "      <td>3</td>\n",
              "      <td>positive</td>\n",
              "      <td>HitamPutihTransTV</td>\n",
              "      <td>9</td>\n",
              "      <td>Ada nih di trans7 hitam putih, dia dpt penghar...</td>\n",
              "    </tr>\n",
              "    <tr>\n",
              "      <th>3</th>\n",
              "      <td>4</td>\n",
              "      <td>positive</td>\n",
              "      <td>HitamPutihTransTV</td>\n",
              "      <td>2</td>\n",
              "      <td>selamat ya mas @adietaufan masuk hitamputih</td>\n",
              "    </tr>\n",
              "    <tr>\n",
              "      <th>4</th>\n",
              "      <td>5</td>\n",
              "      <td>positive</td>\n",
              "      <td>HitamPutihTransTV</td>\n",
              "      <td>1</td>\n",
              "      <td>Asiknya nonton Hitam Putih Trans7</td>\n",
              "    </tr>\n",
              "  </tbody>\n",
              "</table>\n",
              "</div>"
            ],
            "text/plain": [
              "   ï»¿Id  ...                                         Text Tweet\n",
              "0      1  ...  Undang @N_ShaniJKT48 ke hitamputih, pemenang S...\n",
              "1      2  ...  Selamat berbuka puasa Semoga amal ibadah hari ...\n",
              "2      3  ...  Ada nih di trans7 hitam putih, dia dpt penghar...\n",
              "3      4  ...        selamat ya mas @adietaufan masuk hitamputih\n",
              "4      5  ...                  Asiknya nonton Hitam Putih Trans7\n",
              "\n",
              "[5 rows x 5 columns]"
            ]
          },
          "metadata": {
            "tags": []
          },
          "execution_count": 9
        }
      ]
    },
    {
      "cell_type": "code",
      "metadata": {
        "colab": {
          "base_uri": "https://localhost:8080/"
        },
        "id": "RM0HIuSERCgd",
        "outputId": "a9d2be9f-1fac-439d-8122-742cc327bede"
      },
      "source": [
        "data.Sentiment.value_counts()"
      ],
      "execution_count": null,
      "outputs": [
        {
          "output_type": "execute_result",
          "data": {
            "text/plain": [
              "negative    200\n",
              "positive    200\n",
              "Name: Sentiment, dtype: int64"
            ]
          },
          "metadata": {
            "tags": []
          },
          "execution_count": 10
        }
      ]
    },
    {
      "cell_type": "code",
      "metadata": {
        "colab": {
          "base_uri": "https://localhost:8080/",
          "height": 204
        },
        "id": "7bYmKflQdhAL",
        "outputId": "1465917c-c357-4b03-a9d5-37b90a095af5"
      },
      "source": [
        "df= data [['Text Tweet','Sentiment']]\n",
        "df.head()"
      ],
      "execution_count": null,
      "outputs": [
        {
          "output_type": "execute_result",
          "data": {
            "text/html": [
              "<div>\n",
              "<style scoped>\n",
              "    .dataframe tbody tr th:only-of-type {\n",
              "        vertical-align: middle;\n",
              "    }\n",
              "\n",
              "    .dataframe tbody tr th {\n",
              "        vertical-align: top;\n",
              "    }\n",
              "\n",
              "    .dataframe thead th {\n",
              "        text-align: right;\n",
              "    }\n",
              "</style>\n",
              "<table border=\"1\" class=\"dataframe\">\n",
              "  <thead>\n",
              "    <tr style=\"text-align: right;\">\n",
              "      <th></th>\n",
              "      <th>Text Tweet</th>\n",
              "      <th>Sentiment</th>\n",
              "    </tr>\n",
              "  </thead>\n",
              "  <tbody>\n",
              "    <tr>\n",
              "      <th>0</th>\n",
              "      <td>Undang @N_ShaniJKT48 ke hitamputih, pemenang S...</td>\n",
              "      <td>positive</td>\n",
              "    </tr>\n",
              "    <tr>\n",
              "      <th>1</th>\n",
              "      <td>Selamat berbuka puasa Semoga amal ibadah hari ...</td>\n",
              "      <td>positive</td>\n",
              "    </tr>\n",
              "    <tr>\n",
              "      <th>2</th>\n",
              "      <td>Ada nih di trans7 hitam putih, dia dpt penghar...</td>\n",
              "      <td>positive</td>\n",
              "    </tr>\n",
              "    <tr>\n",
              "      <th>3</th>\n",
              "      <td>selamat ya mas @adietaufan masuk hitamputih</td>\n",
              "      <td>positive</td>\n",
              "    </tr>\n",
              "    <tr>\n",
              "      <th>4</th>\n",
              "      <td>Asiknya nonton Hitam Putih Trans7</td>\n",
              "      <td>positive</td>\n",
              "    </tr>\n",
              "  </tbody>\n",
              "</table>\n",
              "</div>"
            ],
            "text/plain": [
              "                                          Text Tweet Sentiment\n",
              "0  Undang @N_ShaniJKT48 ke hitamputih, pemenang S...  positive\n",
              "1  Selamat berbuka puasa Semoga amal ibadah hari ...  positive\n",
              "2  Ada nih di trans7 hitam putih, dia dpt penghar...  positive\n",
              "3        selamat ya mas @adietaufan masuk hitamputih  positive\n",
              "4                  Asiknya nonton Hitam Putih Trans7  positive"
            ]
          },
          "metadata": {
            "tags": []
          },
          "execution_count": 11
        }
      ]
    },
    {
      "cell_type": "code",
      "metadata": {
        "id": "79igI1MW8Nz_"
      },
      "source": [
        "emoticons_str = r\"\"\"\n",
        "  (?:\n",
        "      [:=;] # Eyes\n",
        "      [oO\\-]? # Nose (optional) [D\\)\\]\\(\\]/\\\\OpP] # Mouth\n",
        "  )\"\"\"\n",
        "regex_str = []\n",
        "regex_str.append(emoticons_str)\n",
        "regex_str.append(r'<[^>]+>')# HTML tags\n",
        "regex_str.append(r'(?:@[\\w_]+)')# @-mentions\n",
        "regex_str.append(r'(?:&[\\w_]+)')\n",
        "regex_str.append(r\"(?:\\#+[\\w_]+[\\w\\'_\\-]*[\\w_]+)\") # hash-tags\n",
        "regex_str.append(r'http[s]?://(?:[a-z]|[0-9]|[$-_@.&amp;+]|[!*\\(\\),]|(?:%[0-9a-f][0-9a-f]))+') # URLs\n",
        "regex_str.append(r'(?:(?:\\d+,?)+(?:\\.?\\d+)?)') # numbers\n",
        "regex_str.append(r\"(?:[a-z][a-z'\\-_]+[a-z])\") # words with - and '\n",
        "regex_str.append(r'(?:[\\w_]+)') # other words\n",
        "regex_str.append(r'(?:\\S)') # anything else\n",
        "\n",
        "tokens_re = re.compile(r'('+'|'.join(regex_str)+')', re.VERBOSE | re.IGNORECASE)\n",
        "emoticon_re = re.compile(r'^'+emoticons_str+'$', re.VERBOSE | re.IGNORECASE)"
      ],
      "execution_count": null,
      "outputs": []
    },
    {
      "cell_type": "code",
      "metadata": {
        "colab": {
          "base_uri": "https://localhost:8080/"
        },
        "id": "fwv3z6ahGdhE",
        "outputId": "92757c3f-187b-42fa-beed-b35a7a80fa17"
      },
      "source": [
        "nltk.download('punkt')\n",
        "from nlp_id.stopword import StopWord\n",
        "stopword = StopWord()\n",
        "\n",
        "punctuation = list(string.punctuation)\n",
        "stop = stopword.get_stopword() + punctuation + ['rt', 'via', '…','•','“']\n"
      ],
      "execution_count": null,
      "outputs": [
        {
          "output_type": "stream",
          "text": [
            "[nltk_data] Downloading package punkt to /root/nltk_data...\n",
            "[nltk_data]   Package punkt is already up-to-date!\n"
          ],
          "name": "stdout"
        }
      ]
    },
    {
      "cell_type": "code",
      "metadata": {
        "id": "nfGPk5PHJ4rP"
      },
      "source": [
        "from nlp_id.stopword import StopWord #stopword B.indo\n",
        "stopword = StopWord()"
      ],
      "execution_count": null,
      "outputs": []
    },
    {
      "cell_type": "code",
      "metadata": {
        "colab": {
          "base_uri": "https://localhost:8080/"
        },
        "id": "E6lunie4JgJh",
        "outputId": "48cf8ca3-af16-4b37-b4f3-3321a21f7fa7"
      },
      "source": [
        "nltk.download('stopwords')"
      ],
      "execution_count": null,
      "outputs": [
        {
          "output_type": "stream",
          "text": [
            "[nltk_data] Downloading package stopwords to /root/nltk_data...\n",
            "[nltk_data]   Package stopwords is already up-to-date!\n"
          ],
          "name": "stdout"
        },
        {
          "output_type": "execute_result",
          "data": {
            "text/plain": [
              "True"
            ]
          },
          "metadata": {
            "tags": []
          },
          "execution_count": 58
        }
      ]
    },
    {
      "cell_type": "code",
      "metadata": {
        "id": "pXm3aXRtPhmU"
      },
      "source": [
        "def tokenize(s):\n",
        "  tokens = tokens_re.findall(s)\n",
        "  return tokens\n",
        "\n",
        "def cleanTweet(token,regex):\n",
        "    terms_all = [emoji.demojize(term) for term in token if term.lower() not in stop and not regex.match(term)]\n",
        "    return terms_all"
      ],
      "execution_count": null,
      "outputs": []
    },
    {
      "cell_type": "code",
      "metadata": {
        "id": "7wQuHopAQrvg"
      },
      "source": [
        "import operator\n",
        "\n",
        "exclude_str = []\n",
        "exclude_str.append(emoticons_str)\n",
        "exclude_str.append(r'<[^>]+>')# HTML tags\n",
        "exclude_str.append(r'(?:@[\\w_]+)')# @-mentions\n",
        "exclude_str.append(r'(?:&[\\w_]+)')\n",
        "exclude_str.append(r\"(?:\\#+[\\w_]+[\\w\\'_\\-]*[\\w_]+)\") # hash-tags\n",
        "exclude_str.append(r'http[s]?://(?:[a-z]|[0-9]|[$-_@.&amp;+]|[!*\\(\\),]|(?:%[0-9a-f][0-9a-f]))+') # URLs\n",
        "exclude_str.append(r'(?:(?:\\d+,?)+(?:\\.?\\d+)?)') # numbers\n",
        "\n",
        "exclude_re = re.compile(r'('+'|'.join(exclude_str)+')', re.VERBOSE | re.IGNORECASE)"
      ],
      "execution_count": null,
      "outputs": []
    },
    {
      "cell_type": "code",
      "metadata": {
        "id": "yUM41BssfF_l"
      },
      "source": [
        "def stemming (text):\n",
        "  return stemmer.stem(text)"
      ],
      "execution_count": null,
      "outputs": []
    },
    {
      "cell_type": "code",
      "metadata": {
        "id": "R02yw2oDfvVY"
      },
      "source": [
        "factory = StemmerFactory()\n",
        "stemmer = factory.create_stemmer()\n",
        "data['Text Tweet'] = data ['Text Tweet'].apply(stemming)"
      ],
      "execution_count": null,
      "outputs": []
    },
    {
      "cell_type": "code",
      "metadata": {
        "id": "hRQVM-DylBS7"
      },
      "source": [
        "Train_X, Test_X, Train_Y, Test_Y = model_selection.train_test_split(df['Text Tweet'],df['Sentiment'],test_size=0.2)"
      ],
      "execution_count": null,
      "outputs": []
    },
    {
      "cell_type": "code",
      "metadata": {
        "id": "YuUAQ_ZSmUWn"
      },
      "source": [
        "Encoder = LabelEncoder()\n",
        "Train_Y = Encoder.fit_transform(Train_Y)\n",
        "Test_Y = Encoder.fit_transform(Test_Y)"
      ],
      "execution_count": null,
      "outputs": []
    },
    {
      "cell_type": "code",
      "metadata": {
        "id": "PUTs2LMRnuOw"
      },
      "source": [
        "Tfidf_vect = TfidfVectorizer()\n",
        "Tfidf_vect.fit(df['Text Tweet'])\n",
        "\n",
        "Train_X_Tfidf = Tfidf_vect.transform(Train_X)\n",
        "Test_X_Tfidf = Tfidf_vect.transform(Test_X)"
      ],
      "execution_count": null,
      "outputs": []
    },
    {
      "cell_type": "code",
      "metadata": {
        "colab": {
          "base_uri": "https://localhost:8080/"
        },
        "id": "Y7Tzu1hfpPIF",
        "outputId": "8d0cfcad-6f5d-46e2-9fa2-71d4b8150db2"
      },
      "source": [
        "Train_X_Tfidf.shape"
      ],
      "execution_count": null,
      "outputs": [
        {
          "output_type": "execute_result",
          "data": {
            "text/plain": [
              "(320, 1755)"
            ]
          },
          "metadata": {
            "tags": []
          },
          "execution_count": 26
        }
      ]
    },
    {
      "cell_type": "code",
      "metadata": {
        "colab": {
          "base_uri": "https://localhost:8080/"
        },
        "id": "RJdZJTeteroU",
        "outputId": "f0fd6fbe-d732-4561-fbc4-5cc22274fb26"
      },
      "source": [
        "Train_Y.shape"
      ],
      "execution_count": null,
      "outputs": [
        {
          "output_type": "execute_result",
          "data": {
            "text/plain": [
              "(320,)"
            ]
          },
          "metadata": {
            "tags": []
          },
          "execution_count": 27
        }
      ]
    },
    {
      "cell_type": "code",
      "metadata": {
        "id": "J3nhuRIQjiMy"
      },
      "source": [
        "import nltk.classify\n",
        "from sklearn.svm import LinearSVC"
      ],
      "execution_count": null,
      "outputs": []
    },
    {
      "cell_type": "code",
      "metadata": {
        "colab": {
          "base_uri": "https://localhost:8080/"
        },
        "id": "YXtxT_XDe5El",
        "outputId": "59501814-af49-43d3-ced8-2ae3e6bb52dc"
      },
      "source": [
        "SVM = SVC()\n",
        "SVM.fit(Train_X_Tfidf,Train_Y)\n",
        "\n",
        "predictions_SVM = SVM.predict(Test_X_Tfidf) #preditc pada data test\n",
        "\n",
        "print(\"SVM Accuracy Score --> \", accuracy_score(predictions_SVM, Test_Y)*100 )\n",
        "print(\"SVM Recall Score --> \", recall_score(predictions_SVM, Test_Y)*100 )\n",
        "print(\"SVM Precision Score --> \", precision_score(predictions_SVM, Test_Y)*100 )\n",
        "print(\"SVM f1 Score --> \", f1_score(predictions_SVM, Test_Y)*100 )"
      ],
      "execution_count": null,
      "outputs": [
        {
          "output_type": "stream",
          "text": [
            "SVM Accuracy Score -->  87.5\n",
            "SVM Recall Score -->  88.88888888888889\n",
            "SVM Precision Score -->  84.21052631578947\n",
            "SVM f1 Score -->  86.48648648648648\n"
          ],
          "name": "stdout"
        }
      ]
    },
    {
      "cell_type": "code",
      "metadata": {
        "id": "2YIJecIxKYVU"
      },
      "source": [
        "import sklearn.metrics as metrics"
      ],
      "execution_count": null,
      "outputs": []
    },
    {
      "cell_type": "code",
      "metadata": {
        "colab": {
          "base_uri": "https://localhost:8080/"
        },
        "id": "VucyraH2GyPo",
        "outputId": "0a44289f-015e-400a-8609-11b93c31dd2f"
      },
      "source": [
        "lr_model=LogisticRegression(C=0.7,random_state=42)\n",
        "lr_model.fit(Train_X_Tfidf,Train_Y.ravel())\n",
        "lr_predict_test = lr_model.predict(Test_X_Tfidf)\n",
        "\n",
        "# training metrics\n",
        "print(\"Accuracy:{0:.4f}\".format(metrics.accuracy_score(Test_Y,lr_predict_test)))\n",
        "print()\n",
        "\n",
        "#print(metrics.confusion_matrix(Test_Y,lr_predict_test))\n",
        "#print()\n",
        "print(\"Classification Report\")\n",
        "print(metrics.classification_report(Test_Y,lr_predict_test))"
      ],
      "execution_count": null,
      "outputs": [
        {
          "output_type": "stream",
          "text": [
            "Accuracy:0.8750\n",
            "\n",
            "Classification Report\n",
            "              precision    recall  f1-score   support\n",
            "\n",
            "           0       0.92      0.83      0.88        42\n",
            "           1       0.83      0.92      0.88        38\n",
            "\n",
            "    accuracy                           0.88        80\n",
            "   macro avg       0.88      0.88      0.88        80\n",
            "weighted avg       0.88      0.88      0.88        80\n",
            "\n"
          ],
          "name": "stdout"
        }
      ]
    },
    {
      "cell_type": "code",
      "metadata": {
        "id": "jVSba-pSKcaZ"
      },
      "source": [
        "punctuation = list(string.punctuation)\n",
        "stop = stopword.get_stopword() + punctuation + ['rt', 'via', '…','•','“']"
      ],
      "execution_count": null,
      "outputs": []
    },
    {
      "cell_type": "code",
      "metadata": {
        "colab": {
          "base_uri": "https://localhost:8080/"
        },
        "id": "tWvrk-P_QGuZ",
        "outputId": "d9581096-4c68-4aa6-b6f5-6a1169d2f2c6"
      },
      "source": [
        "tokens = []\n",
        "for c in csv:\n",
        "  tokens.append(tokenize(c[4]))\n",
        "\n",
        "print(tokens[:5])"
      ],
      "execution_count": null,
      "outputs": [
        {
          "output_type": "stream",
          "text": [
            "[['Undang', '@N_ShaniJKT48', 'ke', 'hitamputih', ',', 'pemenang', 'SSK', 'JKT', '48', 'harusnya', 'mJKT', '48', 'ini', 'lebih', 'Layak', 'di', 'Undang', 'karena', 'prestasinya'], ['Selamat', 'berbuka', 'puasa', 'Semoga', 'amal', 'ibadah', 'hari', 'ni', 'diterima', 'Allah', '#hitamputih'], ['Ada', 'nih', 'di', 'trans', '7', 'hitam', 'putih', ',', 'dia', 'dpt', 'penghargaan', 'juga', 'di', 'norwegia', '#hitamputih'], ['selamat', 'ya', 'mas', '@adietaufan', 'masuk', 'hitamputih'], ['Asiknya', 'nonton', 'Hitam', 'Putih', 'Trans', '7']]\n"
          ],
          "name": "stdout"
        }
      ]
    },
    {
      "cell_type": "code",
      "metadata": {
        "colab": {
          "base_uri": "https://localhost:8080/"
        },
        "id": "dGmFF2S4UnFb",
        "outputId": "b75a8d26-5847-4bb6-dbc4-5717b49d6a63"
      },
      "source": [
        "all_word=[]\n",
        "from collections import Counter\n",
        "count_all = Counter()\n",
        "for token in tokens:\n",
        "  cleanToken = cleanTweet(token,exclude_re)\n",
        "  terms_all = [term.lower() for term in cleanToken]\n",
        "  count_all.update(terms_all)\n",
        "  for w in terms_all:\n",
        "      all_word.append(w)\n",
        "print(count_all.most_common(100))"
      ],
      "execution_count": null,
      "outputs": [
        {
          "output_type": "stream",
          "text": [
            "[('mata', 61), ('najwa', 60), ('hitam', 40), ('putih', 39), ('acara', 32), ('nonton', 29), ('keren', 29), ('orang', 29), ('ga', 28), ('tv', 25), ('indonesia', 21), ('ahok', 19), ('trans', 18), ('metro', 18), ('malam', 15), ('tdk', 15), ('anak', 14), ('ilc', 14), ('semoga', 13), ('menginspirasi', 13), ('andy', 13), ('seru', 11), ('suka', 10), ('liat', 10), ('miris', 10), ('tp', 10), ('gak', 10), ('tvone', 10), ('salut', 10), ('kick', 10), ('nih', 9), ('kalo', 9), ('org', 9), ('bikin', 8), ('hukum', 8), ('dg', 8), ('bapak', 8), ('debat', 8), ('anis', 8), ('undang', 7), ('hati', 7), ('kasih', 7), ('lihat', 7), ('pake', 7), ('hidup', 7), ('tak', 7), ('ngomong', 7), ('lawyers', 7), ('club', 7), ('selamat', 6), ('terima', 6), ('utk', 6), ('setuju', 6), ('lg', 6), ('dgn', 6), ('sbg', 6), ('klo', 6), ('memalukan', 6), ('mati', 6), ('bs', 6), ('kalah', 6), ('krn', 6), ('sakit', 6), ('anies', 6), ('hitamputih', 5), ('masuk', 5), ('menarik', 5), ('inspiratif', 5), ('cinta', 5), ('tamu', 5), ('kayak', 5), ('hebat', 5), ('diundang', 5), ('salah', 5), ('gini', 5), ('pemimpin', 5), ('langsung', 5), ('belajar', 5), ('mantap', 5), ('semangat', 5), ('jokowi', 5), ('jaga', 5), ('islam', 5), ('bilang', 5), ('bodoh', 5), ('agung', 5), ('jd', 5), ('istri', 5), ('coba', 5), ('metrotv', 5), ('ni', 4), ('lu', 4), ('bagus', 4), ('tayang', 4), ('menunggu', 4), ('dedy', 4), ('live', 4), ('yuk', 4), ('mendengar', 4), ('dr', 4)]\n"
          ],
          "name": "stdout"
        }
      ]
    },
    {
      "cell_type": "code",
      "metadata": {
        "colab": {
          "base_uri": "https://localhost:8080/"
        },
        "id": "18s6KYuEWamU",
        "outputId": "e77a6f89-1000-40b8-c636-1984929b6433"
      },
      "source": [
        "len(all_word)"
      ],
      "execution_count": null,
      "outputs": [
        {
          "output_type": "execute_result",
          "data": {
            "text/plain": [
              "2660"
            ]
          },
          "metadata": {
            "tags": []
          },
          "execution_count": 18
        }
      ]
    },
    {
      "cell_type": "code",
      "metadata": {
        "colab": {
          "base_uri": "https://localhost:8080/"
        },
        "id": "F0ic0X8xWjUo",
        "outputId": "e1806359-7111-49f8-81b7-cf0345174b78"
      },
      "source": [
        "#inisialisasi lematizer dan postagger\n",
        "from nlp_id.postag import PosTag\n",
        "postagger = PosTag()"
      ],
      "execution_count": null,
      "outputs": [
        {
          "output_type": "stream",
          "text": [
            "/usr/local/lib/python3.7/dist-packages/sklearn/base.py:318: UserWarning: Trying to unpickle estimator DictVectorizer from version 0.22 when using version 0.22.2.post1. This might lead to breaking code or invalid results. Use at your own risk.\n",
            "  UserWarning)\n",
            "/usr/local/lib/python3.7/dist-packages/sklearn/base.py:318: UserWarning: Trying to unpickle estimator DecisionTreeClassifier from version 0.22 when using version 0.22.2.post1. This might lead to breaking code or invalid results. Use at your own risk.\n",
            "  UserWarning)\n",
            "/usr/local/lib/python3.7/dist-packages/sklearn/base.py:318: UserWarning: Trying to unpickle estimator RandomForestClassifier from version 0.22 when using version 0.22.2.post1. This might lead to breaking code or invalid results. Use at your own risk.\n",
            "  UserWarning)\n",
            "/usr/local/lib/python3.7/dist-packages/sklearn/base.py:318: UserWarning: Trying to unpickle estimator Pipeline from version 0.22 when using version 0.22.2.post1. This might lead to breaking code or invalid results. Use at your own risk.\n",
            "  UserWarning)\n"
          ],
          "name": "stderr"
        }
      ]
    },
    {
      "cell_type": "code",
      "metadata": {
        "id": "Yh7tJFL7XHAe"
      },
      "source": [
        "from nlp_id.lemmatizer import Lemmatizer\n",
        "lemmatizer = Lemmatizer() #mendapatkan kata dasar"
      ],
      "execution_count": null,
      "outputs": []
    },
    {
      "cell_type": "code",
      "metadata": {
        "id": "jxhnWFM8Xk2Q"
      },
      "source": [
        "all_stmword = [lemmatizer.lemmatize(w) for w in all_word]"
      ],
      "execution_count": null,
      "outputs": []
    },
    {
      "cell_type": "code",
      "metadata": {
        "colab": {
          "base_uri": "https://localhost:8080/"
        },
        "id": "QwYTzx_IXsji",
        "outputId": "b4443760-474f-474b-9962-7932ab0561a9"
      },
      "source": [
        "print(all_stmword[:20])"
      ],
      "execution_count": null,
      "outputs": [
        {
          "output_type": "stream",
          "text": [
            "['undang', 'hitamputih', 'menang', 'ssk', 'jkt', 'mjkt', 'layak', 'undang', 'prestasi', 'selamat', 'buka', 'puasa', 'moga', 'amal', 'ibadah', 'ni', 'terima', 'allah', 'nih', 'trans']\n"
          ],
          "name": "stdout"
        }
      ]
    },
    {
      "cell_type": "code",
      "metadata": {
        "id": "N_chKuIRYT7C"
      },
      "source": [
        "pos = [postagger.get_pos_tag(w)[0] for w in all_stmword] #memberi label"
      ],
      "execution_count": null,
      "outputs": []
    },
    {
      "cell_type": "code",
      "metadata": {
        "colab": {
          "base_uri": "https://localhost:8080/"
        },
        "id": "tmspaP2sYUp-",
        "outputId": "5c1049f7-5d78-4729-d5c5-9da1e52249e9"
      },
      "source": [
        "print(pos[:10])"
      ],
      "execution_count": null,
      "outputs": [
        {
          "output_type": "stream",
          "text": [
            "[('undang', 'NN'), ('hitamputih', 'VB'), ('menang', 'VB'), ('ssk', 'NN'), ('jkt', 'NN'), ('mjkt', 'NN'), ('layak', 'JJ'), ('undang', 'NN'), ('prestasi', 'NN'), ('selamat', 'JJ')]\n"
          ],
          "name": "stdout"
        }
      ]
    },
    {
      "cell_type": "code",
      "metadata": {
        "id": "mSZLCsQEfPOr"
      },
      "source": [
        "allowed_word_types = [\"ADV\",\"JJ\",\"ADJP\",\"VB\"]\n",
        "allowed_words=[w[0] for w in pos if w[1] in allowed_word_types]"
      ],
      "execution_count": null,
      "outputs": []
    },
    {
      "cell_type": "code",
      "metadata": {
        "colab": {
          "base_uri": "https://localhost:8080/"
        },
        "id": "Z_aKAT_cfzGy",
        "outputId": "5f0fab0c-3e71-40cd-a3d6-eac5029c8e25"
      },
      "source": [
        "print(allowed_words[:20])"
      ],
      "execution_count": null,
      "outputs": [
        {
          "output_type": "stream",
          "text": [
            "['hitamputih', 'menang', 'layak', 'selamat', 'buka', 'ni', 'terima', 'hitam', 'putih', 'selamat', 'masuk', 'hitamputih', 'nonton', 'hitam', 'putih', 'hitam', 'putih', 'hitam', 'putih', 'hitam']\n"
          ],
          "name": "stdout"
        }
      ]
    },
    {
      "cell_type": "code",
      "metadata": {
        "colab": {
          "base_uri": "https://localhost:8080/"
        },
        "id": "i5Ni6kXVgG-h",
        "outputId": "50a066a3-0517-4ce9-9c70-77e96e939b9d"
      },
      "source": [
        "#Menyusun distribusi kata berdasarkan kemunculannya\n",
        "allwords = nltk.FreqDist(allowed_words)\n",
        "\n",
        "#Mengambil 5000 pertama dari distribusi kata berdasarkan frekwensi kemunculannya\n",
        "tuple_features = list(allwords.most_common())[:500]\n",
        "word_features = [k for (k,v) in tuple_features]\n",
        "#Memeriksa word_features\n",
        "print(word_features[:100])"
      ],
      "execution_count": null,
      "outputs": [
        {
          "output_type": "stream",
          "text": [
            "['hitam', 'putih', 'nonton', 'seru', 'hidup', 'tp', 'terima', 'bikin', 'rusak', 'kalah', 'lihat', 'tunggu', 'ngomong', 'bilang', 'coba', 'selamat', 'mati', 'pimpin', 'pilih', 'bicara', 'jaga', 'hitamputih', 'masuk', 'bagus', 'tayang', 'hebat', 'dengar', 'salah', 'langsung', 'mantap', 'bangga', 'dukung', 'pikir', 'tua', 'metrotv', 'lawan', 'buka', 'ni', 'pribadi', 'beda', 'kaya', 'mimpi', 'muncul', 'butuh', 'tindak', 'cerdas', 'lucu', 'besar', 'pulang', 'bawa', 'ubah', 'miskin', 'menang', 'bantu', 'baik', 'bahas', 'jujur', 'ikut', 'takut', 'sesuai', 'lupa', 'bayar', 'kagum', 'sejuk', 'milik', 'kuat', 'jadi', 'berani', 'dki', 'uji', 'malas', 'didik', 'tai', 'lancar', 'nyanyi', 'hibur', 'ustadz', 'asli', 'ucap', 'berat', 'aneh', 'sedih', 'sulit', 'parah', 'muda', 'hendak', 'paksa', 'trus', 'ketawa', 'pergi', 'mbak', 'toleransi', 'buruk', 'medsos', 'dijalanin', 'dipikirin', 'taksi', 'pasrah', 'darurat', 'kucing']\n"
          ],
          "name": "stdout"
        }
      ]
    },
    {
      "cell_type": "code",
      "metadata": {
        "id": "VklJTCzfhDRA"
      },
      "source": [
        "document=[]\n",
        "for w in csv:\n",
        "\n",
        "  document.append((w[4],w[1])) #w4 full text, w1 sentimen"
      ],
      "execution_count": null,
      "outputs": []
    },
    {
      "cell_type": "code",
      "metadata": {
        "id": "nVfzM9Fzipr_"
      },
      "source": [
        "def find_features(document):\n",
        "  words = word_tokenize(document)\n",
        "  features = {}\n",
        "  for w in word_features:\n",
        "    features[w] = (w in words)\n",
        "  return features"
      ],
      "execution_count": null,
      "outputs": []
    },
    {
      "cell_type": "code",
      "metadata": {
        "colab": {
          "base_uri": "https://localhost:8080/"
        },
        "id": "DjCgcod4jFQi",
        "outputId": "5b34eb72-9bc8-468f-9bfd-831e48a384c2"
      },
      "source": [
        "nltk.download('punkt')\n",
        "featuresets = [(find_features(rev), category) for (rev, category) in document]"
      ],
      "execution_count": null,
      "outputs": [
        {
          "output_type": "stream",
          "text": [
            "[nltk_data] Downloading package punkt to /root/nltk_data...\n",
            "[nltk_data]   Package punkt is already up-to-date!\n"
          ],
          "name": "stdout"
        }
      ]
    },
    {
      "cell_type": "code",
      "metadata": {
        "colab": {
          "base_uri": "https://localhost:8080/"
        },
        "id": "rR8rl5vVjPEY",
        "outputId": "9eea764a-d8ef-4f35-fbed-3e892af7a9fe"
      },
      "source": [
        "print(featuresets[:5])"
      ],
      "execution_count": null,
      "outputs": [
        {
          "output_type": "stream",
          "text": [
            "[({'hitam': False, 'putih': False, 'nonton': False, 'seru': False, 'hidup': False, 'tp': False, 'terima': False, 'bikin': False, 'rusak': False, 'kalah': False, 'lihat': False, 'tunggu': False, 'ngomong': False, 'bilang': False, 'coba': False, 'selamat': False, 'mati': False, 'pimpin': False, 'pilih': False, 'bicara': False, 'jaga': False, 'hitamputih': True, 'masuk': False, 'bagus': False, 'tayang': False, 'hebat': False, 'dengar': False, 'salah': False, 'langsung': False, 'mantap': False, 'bangga': False, 'dukung': False, 'pikir': False, 'tua': False, 'metrotv': False, 'lawan': False, 'buka': False, 'ni': False, 'pribadi': False, 'beda': False, 'kaya': False, 'mimpi': False, 'muncul': False, 'butuh': False, 'tindak': False, 'cerdas': False, 'lucu': False, 'besar': False, 'pulang': False, 'bawa': False, 'ubah': False, 'miskin': False, 'menang': False, 'bantu': False, 'baik': False, 'bahas': False, 'jujur': False, 'ikut': False, 'takut': False, 'sesuai': False, 'lupa': False, 'bayar': False, 'kagum': False, 'sejuk': False, 'milik': False, 'kuat': False, 'jadi': False, 'berani': False, 'dki': False, 'uji': False, 'malas': False, 'didik': False, 'tai': False, 'lancar': False, 'nyanyi': False, 'hibur': False, 'ustadz': False, 'asli': False, 'ucap': False, 'berat': False, 'aneh': False, 'sedih': False, 'sulit': False, 'parah': False, 'muda': False, 'hendak': False, 'paksa': False, 'trus': False, 'ketawa': False, 'pergi': False, 'mbak': False, 'toleransi': False, 'buruk': False, 'medsos': False, 'dijalanin': False, 'dipikirin': False, 'taksi': False, 'pasrah': False, 'darurat': False, 'kucing': False, 'syafii': False, 'damai': False, 'indah': False, 'diketawain': False, 'dingin': False, 'dapat': False, 'teroris': False, 'nyata': False, 'sibuk': False, 'lemah': False, 'radikal': False, 'padat': False, 'selesai': False, 'cepat': False, 'benar': False, 'rajut': False, 'bebas': False, 'betawi': False, 'gampang': False, 'kasi': False, 'benci': False, 'seram': False, 'kpi': False, 'nkri': False, 'gila': False, 'daki': False, 'cari': False, 'berfikir': False, 'kosti': False, 'bahagia': False, 'malang': False, 'bersih': False, 'henti': False, 'urus': False, 'bocor': False, 'lulus': False, 'sempurna': False, 'kecewa': False, 'favorit': False, 'rugi': False, 'tampil': False, 'atur': False, 'sederhana': False, 'mui': False, 'sandi': False, 'layak': False, 'silaturahmi': False, 'academi': False, 'ganda': False, 'biru': False, 'naik': False, 'cantik': False, 'maju': False, 'biar': False, 'tunjuk': False, 'terang': False, 'nyaman': False, 'asing': False, 'mentang': False, 'umum': False, 'arti': False, 'teguh': False, 'ditindes': False, 'bentak': False, 'diajakin': False, 'tuh': False, 'baru': False, 'topi': False, 'tunduk': False, 'mbah': False, 'terap': False, 'serang': False, 'buk': False, 'harap': False, 'tegas': False, 'bermusyawara': False, 'enak': False, 'mahal': False, 'aman': False, 'sekitar': False, 'tambah': False, 'ikhlas': False, 'lepas': False, 'pecah': False, 'belah': False, 'musnah': False, 'tinggal': False, 'saji': False, 'obyektif': False, 'tuntas': False, 'sabar': False, 'serap': False, 'jelas': False, 'kapolri': False, 'mari': False, 'sampe': False, 'merem': False, 'dhani': False, 'muzadi': False, 'menentramkan': False, 'kompak': False, 'soleh': False, 'cerah': False, 'melek': False, 'semga': False, 'cocok': False, 'jarak': False, 'metromini': False, 'provokatif': False, 'ulang': False, 'puji': False, 'lari': False, 'gagal': False, 'dapet': False, 'lempar': False, 'fahri': False, 'neng': False, 'superbodi': False, 'tebang': False, 'mengatasnama': False, 'cat': False, 'safi': False, 'bijak': False, 'hadap': False, 'argumentasi': False, 'abi': False, 'gerak': False, 'menghimbau': False, 'pantik': False, 'teduh': False, 'mendung': False, 'penting': False, 'suriah': False, 'sadar': False, 'peci': False, 'merah': False, 'dikeluarin': False, 'amat': False, 'merkids': False, 'musisi': False, 'tertawa': False, 'jatuh': False, 'bangkit': False, 'hindar': False, 'dewasa': False, 'membiyayai': False, 'sawah': False, 'persis': False, 'percaya': False, 'selip': False, 'disabilitas': False, 'tembus': False, 'turun': False, 'gelap': False, 'asuh': False, 'beli': False, 'mampu': False, 'ngantri': False, 'busuk': False, 'kaku': False, 'formal': False, 'ttp': False, 'susah': False, 'peduli': False, 'merinding': False, 'adil': False, 'melempem': False, 'juang': False, 'lelah': False, 'capek': False, 'ambil': False, 'metro': False, 'dialog': False, 'lewat': False, 'tentram': False, 'tajam': False, 'puas': False, 'sama': False, 'edukatif': False, 'islami': False, 'nambah': False, 'mengkerdilkan': False, 'basri': False, 'santai': False, 'rendah': False, 'tiru': False, 'bjh': False, 'mending': False, 'lapor': False, 'ngerti': False, 'sopan': False, 'ganti': False, 'masakan': False, 'melayu': False, 'bantai': False, 'dicontreng': False, 'sering': False, 'diapa-apain': False, 'keluar': False, 'haram': False, 'gali': False, 'basuki': False, 'serak': False, 'sial': False, 'jelek': False, 'jual': False, 'adu': False, 'putar': False, 'palsu': False, 'rekam': False, 'simpan': False, 'loh': False, 'sendri': False, 'biasa': False, 'kunjung': False, 'pssi': False, 'nurani': False, 'comal': False, 'langgar': False, 'seragam': False, 'mendongrak': False, 'kokoh': False, 'udh': False, 'mencak': False, 'sangka': False, 'pungut': False, 'liar': False}, 'positive'), ({'hitam': False, 'putih': False, 'nonton': False, 'seru': False, 'hidup': False, 'tp': False, 'terima': False, 'bikin': False, 'rusak': False, 'kalah': False, 'lihat': False, 'tunggu': False, 'ngomong': False, 'bilang': False, 'coba': False, 'selamat': False, 'mati': False, 'pimpin': False, 'pilih': False, 'bicara': False, 'jaga': False, 'hitamputih': True, 'masuk': False, 'bagus': False, 'tayang': False, 'hebat': False, 'dengar': False, 'salah': False, 'langsung': False, 'mantap': False, 'bangga': False, 'dukung': False, 'pikir': False, 'tua': False, 'metrotv': False, 'lawan': False, 'buka': False, 'ni': True, 'pribadi': False, 'beda': False, 'kaya': False, 'mimpi': False, 'muncul': False, 'butuh': False, 'tindak': False, 'cerdas': False, 'lucu': False, 'besar': False, 'pulang': False, 'bawa': False, 'ubah': False, 'miskin': False, 'menang': False, 'bantu': False, 'baik': False, 'bahas': False, 'jujur': False, 'ikut': False, 'takut': False, 'sesuai': False, 'lupa': False, 'bayar': False, 'kagum': False, 'sejuk': False, 'milik': False, 'kuat': False, 'jadi': False, 'berani': False, 'dki': False, 'uji': False, 'malas': False, 'didik': False, 'tai': False, 'lancar': False, 'nyanyi': False, 'hibur': False, 'ustadz': False, 'asli': False, 'ucap': False, 'berat': False, 'aneh': False, 'sedih': False, 'sulit': False, 'parah': False, 'muda': False, 'hendak': False, 'paksa': False, 'trus': False, 'ketawa': False, 'pergi': False, 'mbak': False, 'toleransi': False, 'buruk': False, 'medsos': False, 'dijalanin': False, 'dipikirin': False, 'taksi': False, 'pasrah': False, 'darurat': False, 'kucing': False, 'syafii': False, 'damai': False, 'indah': False, 'diketawain': False, 'dingin': False, 'dapat': False, 'teroris': False, 'nyata': False, 'sibuk': False, 'lemah': False, 'radikal': False, 'padat': False, 'selesai': False, 'cepat': False, 'benar': False, 'rajut': False, 'bebas': False, 'betawi': False, 'gampang': False, 'kasi': False, 'benci': False, 'seram': False, 'kpi': False, 'nkri': False, 'gila': False, 'daki': False, 'cari': False, 'berfikir': False, 'kosti': False, 'bahagia': False, 'malang': False, 'bersih': False, 'henti': False, 'urus': False, 'bocor': False, 'lulus': False, 'sempurna': False, 'kecewa': False, 'favorit': False, 'rugi': False, 'tampil': False, 'atur': False, 'sederhana': False, 'mui': False, 'sandi': False, 'layak': False, 'silaturahmi': False, 'academi': False, 'ganda': False, 'biru': False, 'naik': False, 'cantik': False, 'maju': False, 'biar': False, 'tunjuk': False, 'terang': False, 'nyaman': False, 'asing': False, 'mentang': False, 'umum': False, 'arti': False, 'teguh': False, 'ditindes': False, 'bentak': False, 'diajakin': False, 'tuh': False, 'baru': False, 'topi': False, 'tunduk': False, 'mbah': False, 'terap': False, 'serang': False, 'buk': False, 'harap': False, 'tegas': False, 'bermusyawara': False, 'enak': False, 'mahal': False, 'aman': False, 'sekitar': False, 'tambah': False, 'ikhlas': False, 'lepas': False, 'pecah': False, 'belah': False, 'musnah': False, 'tinggal': False, 'saji': False, 'obyektif': False, 'tuntas': False, 'sabar': False, 'serap': False, 'jelas': False, 'kapolri': False, 'mari': False, 'sampe': False, 'merem': False, 'dhani': False, 'muzadi': False, 'menentramkan': False, 'kompak': False, 'soleh': False, 'cerah': False, 'melek': False, 'semga': False, 'cocok': False, 'jarak': False, 'metromini': False, 'provokatif': False, 'ulang': False, 'puji': False, 'lari': False, 'gagal': False, 'dapet': False, 'lempar': False, 'fahri': False, 'neng': False, 'superbodi': False, 'tebang': False, 'mengatasnama': False, 'cat': False, 'safi': False, 'bijak': False, 'hadap': False, 'argumentasi': False, 'abi': False, 'gerak': False, 'menghimbau': False, 'pantik': False, 'teduh': False, 'mendung': False, 'penting': False, 'suriah': False, 'sadar': False, 'peci': False, 'merah': False, 'dikeluarin': False, 'amat': False, 'merkids': False, 'musisi': False, 'tertawa': False, 'jatuh': False, 'bangkit': False, 'hindar': False, 'dewasa': False, 'membiyayai': False, 'sawah': False, 'persis': False, 'percaya': False, 'selip': False, 'disabilitas': False, 'tembus': False, 'turun': False, 'gelap': False, 'asuh': False, 'beli': False, 'mampu': False, 'ngantri': False, 'busuk': False, 'kaku': False, 'formal': False, 'ttp': False, 'susah': False, 'peduli': False, 'merinding': False, 'adil': False, 'melempem': False, 'juang': False, 'lelah': False, 'capek': False, 'ambil': False, 'metro': False, 'dialog': False, 'lewat': False, 'tentram': False, 'tajam': False, 'puas': False, 'sama': False, 'edukatif': False, 'islami': False, 'nambah': False, 'mengkerdilkan': False, 'basri': False, 'santai': False, 'rendah': False, 'tiru': False, 'bjh': False, 'mending': False, 'lapor': False, 'ngerti': False, 'sopan': False, 'ganti': False, 'masakan': False, 'melayu': False, 'bantai': False, 'dicontreng': False, 'sering': False, 'diapa-apain': False, 'keluar': False, 'haram': False, 'gali': False, 'basuki': False, 'serak': False, 'sial': False, 'jelek': False, 'jual': False, 'adu': False, 'putar': False, 'palsu': False, 'rekam': False, 'simpan': False, 'loh': False, 'sendri': False, 'biasa': False, 'kunjung': False, 'pssi': False, 'nurani': False, 'comal': False, 'langgar': False, 'seragam': False, 'mendongrak': False, 'kokoh': False, 'udh': False, 'mencak': False, 'sangka': False, 'pungut': False, 'liar': False}, 'positive'), ({'hitam': True, 'putih': True, 'nonton': False, 'seru': False, 'hidup': False, 'tp': False, 'terima': False, 'bikin': False, 'rusak': False, 'kalah': False, 'lihat': False, 'tunggu': False, 'ngomong': False, 'bilang': False, 'coba': False, 'selamat': False, 'mati': False, 'pimpin': False, 'pilih': False, 'bicara': False, 'jaga': False, 'hitamputih': True, 'masuk': False, 'bagus': False, 'tayang': False, 'hebat': False, 'dengar': False, 'salah': False, 'langsung': False, 'mantap': False, 'bangga': False, 'dukung': False, 'pikir': False, 'tua': False, 'metrotv': False, 'lawan': False, 'buka': False, 'ni': False, 'pribadi': False, 'beda': False, 'kaya': False, 'mimpi': False, 'muncul': False, 'butuh': False, 'tindak': False, 'cerdas': False, 'lucu': False, 'besar': False, 'pulang': False, 'bawa': False, 'ubah': False, 'miskin': False, 'menang': False, 'bantu': False, 'baik': False, 'bahas': False, 'jujur': False, 'ikut': False, 'takut': False, 'sesuai': False, 'lupa': False, 'bayar': False, 'kagum': False, 'sejuk': False, 'milik': False, 'kuat': False, 'jadi': False, 'berani': False, 'dki': False, 'uji': False, 'malas': False, 'didik': False, 'tai': False, 'lancar': False, 'nyanyi': False, 'hibur': False, 'ustadz': False, 'asli': False, 'ucap': False, 'berat': False, 'aneh': False, 'sedih': False, 'sulit': False, 'parah': False, 'muda': False, 'hendak': False, 'paksa': False, 'trus': False, 'ketawa': False, 'pergi': False, 'mbak': False, 'toleransi': False, 'buruk': False, 'medsos': False, 'dijalanin': False, 'dipikirin': False, 'taksi': False, 'pasrah': False, 'darurat': False, 'kucing': False, 'syafii': False, 'damai': False, 'indah': False, 'diketawain': False, 'dingin': False, 'dapat': False, 'teroris': False, 'nyata': False, 'sibuk': False, 'lemah': False, 'radikal': False, 'padat': False, 'selesai': False, 'cepat': False, 'benar': False, 'rajut': False, 'bebas': False, 'betawi': False, 'gampang': False, 'kasi': False, 'benci': False, 'seram': False, 'kpi': False, 'nkri': False, 'gila': False, 'daki': False, 'cari': False, 'berfikir': False, 'kosti': False, 'bahagia': False, 'malang': False, 'bersih': False, 'henti': False, 'urus': False, 'bocor': False, 'lulus': False, 'sempurna': False, 'kecewa': False, 'favorit': False, 'rugi': False, 'tampil': False, 'atur': False, 'sederhana': False, 'mui': False, 'sandi': False, 'layak': False, 'silaturahmi': False, 'academi': False, 'ganda': False, 'biru': False, 'naik': False, 'cantik': False, 'maju': False, 'biar': False, 'tunjuk': False, 'terang': False, 'nyaman': False, 'asing': False, 'mentang': False, 'umum': False, 'arti': False, 'teguh': False, 'ditindes': False, 'bentak': False, 'diajakin': False, 'tuh': False, 'baru': False, 'topi': False, 'tunduk': False, 'mbah': False, 'terap': False, 'serang': False, 'buk': False, 'harap': False, 'tegas': False, 'bermusyawara': False, 'enak': False, 'mahal': False, 'aman': False, 'sekitar': False, 'tambah': False, 'ikhlas': False, 'lepas': False, 'pecah': False, 'belah': False, 'musnah': False, 'tinggal': False, 'saji': False, 'obyektif': False, 'tuntas': False, 'sabar': False, 'serap': False, 'jelas': False, 'kapolri': False, 'mari': False, 'sampe': False, 'merem': False, 'dhani': False, 'muzadi': False, 'menentramkan': False, 'kompak': False, 'soleh': False, 'cerah': False, 'melek': False, 'semga': False, 'cocok': False, 'jarak': False, 'metromini': False, 'provokatif': False, 'ulang': False, 'puji': False, 'lari': False, 'gagal': False, 'dapet': False, 'lempar': False, 'fahri': False, 'neng': False, 'superbodi': False, 'tebang': False, 'mengatasnama': False, 'cat': False, 'safi': False, 'bijak': False, 'hadap': False, 'argumentasi': False, 'abi': False, 'gerak': False, 'menghimbau': False, 'pantik': False, 'teduh': False, 'mendung': False, 'penting': False, 'suriah': False, 'sadar': False, 'peci': False, 'merah': False, 'dikeluarin': False, 'amat': False, 'merkids': False, 'musisi': False, 'tertawa': False, 'jatuh': False, 'bangkit': False, 'hindar': False, 'dewasa': False, 'membiyayai': False, 'sawah': False, 'persis': False, 'percaya': False, 'selip': False, 'disabilitas': False, 'tembus': False, 'turun': False, 'gelap': False, 'asuh': False, 'beli': False, 'mampu': False, 'ngantri': False, 'busuk': False, 'kaku': False, 'formal': False, 'ttp': False, 'susah': False, 'peduli': False, 'merinding': False, 'adil': False, 'melempem': False, 'juang': False, 'lelah': False, 'capek': False, 'ambil': False, 'metro': False, 'dialog': False, 'lewat': False, 'tentram': False, 'tajam': False, 'puas': False, 'sama': False, 'edukatif': False, 'islami': False, 'nambah': False, 'mengkerdilkan': False, 'basri': False, 'santai': False, 'rendah': False, 'tiru': False, 'bjh': False, 'mending': False, 'lapor': False, 'ngerti': False, 'sopan': False, 'ganti': False, 'masakan': False, 'melayu': False, 'bantai': False, 'dicontreng': False, 'sering': False, 'diapa-apain': False, 'keluar': False, 'haram': False, 'gali': False, 'basuki': False, 'serak': False, 'sial': False, 'jelek': False, 'jual': False, 'adu': False, 'putar': False, 'palsu': False, 'rekam': False, 'simpan': False, 'loh': False, 'sendri': False, 'biasa': False, 'kunjung': False, 'pssi': False, 'nurani': False, 'comal': False, 'langgar': False, 'seragam': False, 'mendongrak': False, 'kokoh': False, 'udh': False, 'mencak': False, 'sangka': False, 'pungut': False, 'liar': False}, 'positive'), ({'hitam': False, 'putih': False, 'nonton': False, 'seru': False, 'hidup': False, 'tp': False, 'terima': False, 'bikin': False, 'rusak': False, 'kalah': False, 'lihat': False, 'tunggu': False, 'ngomong': False, 'bilang': False, 'coba': False, 'selamat': True, 'mati': False, 'pimpin': False, 'pilih': False, 'bicara': False, 'jaga': False, 'hitamputih': True, 'masuk': True, 'bagus': False, 'tayang': False, 'hebat': False, 'dengar': False, 'salah': False, 'langsung': False, 'mantap': False, 'bangga': False, 'dukung': False, 'pikir': False, 'tua': False, 'metrotv': False, 'lawan': False, 'buka': False, 'ni': False, 'pribadi': False, 'beda': False, 'kaya': False, 'mimpi': False, 'muncul': False, 'butuh': False, 'tindak': False, 'cerdas': False, 'lucu': False, 'besar': False, 'pulang': False, 'bawa': False, 'ubah': False, 'miskin': False, 'menang': False, 'bantu': False, 'baik': False, 'bahas': False, 'jujur': False, 'ikut': False, 'takut': False, 'sesuai': False, 'lupa': False, 'bayar': False, 'kagum': False, 'sejuk': False, 'milik': False, 'kuat': False, 'jadi': False, 'berani': False, 'dki': False, 'uji': False, 'malas': False, 'didik': False, 'tai': False, 'lancar': False, 'nyanyi': False, 'hibur': False, 'ustadz': False, 'asli': False, 'ucap': False, 'berat': False, 'aneh': False, 'sedih': False, 'sulit': False, 'parah': False, 'muda': False, 'hendak': False, 'paksa': False, 'trus': False, 'ketawa': False, 'pergi': False, 'mbak': False, 'toleransi': False, 'buruk': False, 'medsos': False, 'dijalanin': False, 'dipikirin': False, 'taksi': False, 'pasrah': False, 'darurat': False, 'kucing': False, 'syafii': False, 'damai': False, 'indah': False, 'diketawain': False, 'dingin': False, 'dapat': False, 'teroris': False, 'nyata': False, 'sibuk': False, 'lemah': False, 'radikal': False, 'padat': False, 'selesai': False, 'cepat': False, 'benar': False, 'rajut': False, 'bebas': False, 'betawi': False, 'gampang': False, 'kasi': False, 'benci': False, 'seram': False, 'kpi': False, 'nkri': False, 'gila': False, 'daki': False, 'cari': False, 'berfikir': False, 'kosti': False, 'bahagia': False, 'malang': False, 'bersih': False, 'henti': False, 'urus': False, 'bocor': False, 'lulus': False, 'sempurna': False, 'kecewa': False, 'favorit': False, 'rugi': False, 'tampil': False, 'atur': False, 'sederhana': False, 'mui': False, 'sandi': False, 'layak': False, 'silaturahmi': False, 'academi': False, 'ganda': False, 'biru': False, 'naik': False, 'cantik': False, 'maju': False, 'biar': False, 'tunjuk': False, 'terang': False, 'nyaman': False, 'asing': False, 'mentang': False, 'umum': False, 'arti': False, 'teguh': False, 'ditindes': False, 'bentak': False, 'diajakin': False, 'tuh': False, 'baru': False, 'topi': False, 'tunduk': False, 'mbah': False, 'terap': False, 'serang': False, 'buk': False, 'harap': False, 'tegas': False, 'bermusyawara': False, 'enak': False, 'mahal': False, 'aman': False, 'sekitar': False, 'tambah': False, 'ikhlas': False, 'lepas': False, 'pecah': False, 'belah': False, 'musnah': False, 'tinggal': False, 'saji': False, 'obyektif': False, 'tuntas': False, 'sabar': False, 'serap': False, 'jelas': False, 'kapolri': False, 'mari': False, 'sampe': False, 'merem': False, 'dhani': False, 'muzadi': False, 'menentramkan': False, 'kompak': False, 'soleh': False, 'cerah': False, 'melek': False, 'semga': False, 'cocok': False, 'jarak': False, 'metromini': False, 'provokatif': False, 'ulang': False, 'puji': False, 'lari': False, 'gagal': False, 'dapet': False, 'lempar': False, 'fahri': False, 'neng': False, 'superbodi': False, 'tebang': False, 'mengatasnama': False, 'cat': False, 'safi': False, 'bijak': False, 'hadap': False, 'argumentasi': False, 'abi': False, 'gerak': False, 'menghimbau': False, 'pantik': False, 'teduh': False, 'mendung': False, 'penting': False, 'suriah': False, 'sadar': False, 'peci': False, 'merah': False, 'dikeluarin': False, 'amat': False, 'merkids': False, 'musisi': False, 'tertawa': False, 'jatuh': False, 'bangkit': False, 'hindar': False, 'dewasa': False, 'membiyayai': False, 'sawah': False, 'persis': False, 'percaya': False, 'selip': False, 'disabilitas': False, 'tembus': False, 'turun': False, 'gelap': False, 'asuh': False, 'beli': False, 'mampu': False, 'ngantri': False, 'busuk': False, 'kaku': False, 'formal': False, 'ttp': False, 'susah': False, 'peduli': False, 'merinding': False, 'adil': False, 'melempem': False, 'juang': False, 'lelah': False, 'capek': False, 'ambil': False, 'metro': False, 'dialog': False, 'lewat': False, 'tentram': False, 'tajam': False, 'puas': False, 'sama': False, 'edukatif': False, 'islami': False, 'nambah': False, 'mengkerdilkan': False, 'basri': False, 'santai': False, 'rendah': False, 'tiru': False, 'bjh': False, 'mending': False, 'lapor': False, 'ngerti': False, 'sopan': False, 'ganti': False, 'masakan': False, 'melayu': False, 'bantai': False, 'dicontreng': False, 'sering': False, 'diapa-apain': False, 'keluar': False, 'haram': False, 'gali': False, 'basuki': False, 'serak': False, 'sial': False, 'jelek': False, 'jual': False, 'adu': False, 'putar': False, 'palsu': False, 'rekam': False, 'simpan': False, 'loh': False, 'sendri': False, 'biasa': False, 'kunjung': False, 'pssi': False, 'nurani': False, 'comal': False, 'langgar': False, 'seragam': False, 'mendongrak': False, 'kokoh': False, 'udh': False, 'mencak': False, 'sangka': False, 'pungut': False, 'liar': False}, 'positive'), ({'hitam': False, 'putih': False, 'nonton': True, 'seru': False, 'hidup': False, 'tp': False, 'terima': False, 'bikin': False, 'rusak': False, 'kalah': False, 'lihat': False, 'tunggu': False, 'ngomong': False, 'bilang': False, 'coba': False, 'selamat': False, 'mati': False, 'pimpin': False, 'pilih': False, 'bicara': False, 'jaga': False, 'hitamputih': False, 'masuk': False, 'bagus': False, 'tayang': False, 'hebat': False, 'dengar': False, 'salah': False, 'langsung': False, 'mantap': False, 'bangga': False, 'dukung': False, 'pikir': False, 'tua': False, 'metrotv': False, 'lawan': False, 'buka': False, 'ni': False, 'pribadi': False, 'beda': False, 'kaya': False, 'mimpi': False, 'muncul': False, 'butuh': False, 'tindak': False, 'cerdas': False, 'lucu': False, 'besar': False, 'pulang': False, 'bawa': False, 'ubah': False, 'miskin': False, 'menang': False, 'bantu': False, 'baik': False, 'bahas': False, 'jujur': False, 'ikut': False, 'takut': False, 'sesuai': False, 'lupa': False, 'bayar': False, 'kagum': False, 'sejuk': False, 'milik': False, 'kuat': False, 'jadi': False, 'berani': False, 'dki': False, 'uji': False, 'malas': False, 'didik': False, 'tai': False, 'lancar': False, 'nyanyi': False, 'hibur': False, 'ustadz': False, 'asli': False, 'ucap': False, 'berat': False, 'aneh': False, 'sedih': False, 'sulit': False, 'parah': False, 'muda': False, 'hendak': False, 'paksa': False, 'trus': False, 'ketawa': False, 'pergi': False, 'mbak': False, 'toleransi': False, 'buruk': False, 'medsos': False, 'dijalanin': False, 'dipikirin': False, 'taksi': False, 'pasrah': False, 'darurat': False, 'kucing': False, 'syafii': False, 'damai': False, 'indah': False, 'diketawain': False, 'dingin': False, 'dapat': False, 'teroris': False, 'nyata': False, 'sibuk': False, 'lemah': False, 'radikal': False, 'padat': False, 'selesai': False, 'cepat': False, 'benar': False, 'rajut': False, 'bebas': False, 'betawi': False, 'gampang': False, 'kasi': False, 'benci': False, 'seram': False, 'kpi': False, 'nkri': False, 'gila': False, 'daki': False, 'cari': False, 'berfikir': False, 'kosti': False, 'bahagia': False, 'malang': False, 'bersih': False, 'henti': False, 'urus': False, 'bocor': False, 'lulus': False, 'sempurna': False, 'kecewa': False, 'favorit': False, 'rugi': False, 'tampil': False, 'atur': False, 'sederhana': False, 'mui': False, 'sandi': False, 'layak': False, 'silaturahmi': False, 'academi': False, 'ganda': False, 'biru': False, 'naik': False, 'cantik': False, 'maju': False, 'biar': False, 'tunjuk': False, 'terang': False, 'nyaman': False, 'asing': False, 'mentang': False, 'umum': False, 'arti': False, 'teguh': False, 'ditindes': False, 'bentak': False, 'diajakin': False, 'tuh': False, 'baru': False, 'topi': False, 'tunduk': False, 'mbah': False, 'terap': False, 'serang': False, 'buk': False, 'harap': False, 'tegas': False, 'bermusyawara': False, 'enak': False, 'mahal': False, 'aman': False, 'sekitar': False, 'tambah': False, 'ikhlas': False, 'lepas': False, 'pecah': False, 'belah': False, 'musnah': False, 'tinggal': False, 'saji': False, 'obyektif': False, 'tuntas': False, 'sabar': False, 'serap': False, 'jelas': False, 'kapolri': False, 'mari': False, 'sampe': False, 'merem': False, 'dhani': False, 'muzadi': False, 'menentramkan': False, 'kompak': False, 'soleh': False, 'cerah': False, 'melek': False, 'semga': False, 'cocok': False, 'jarak': False, 'metromini': False, 'provokatif': False, 'ulang': False, 'puji': False, 'lari': False, 'gagal': False, 'dapet': False, 'lempar': False, 'fahri': False, 'neng': False, 'superbodi': False, 'tebang': False, 'mengatasnama': False, 'cat': False, 'safi': False, 'bijak': False, 'hadap': False, 'argumentasi': False, 'abi': False, 'gerak': False, 'menghimbau': False, 'pantik': False, 'teduh': False, 'mendung': False, 'penting': False, 'suriah': False, 'sadar': False, 'peci': False, 'merah': False, 'dikeluarin': False, 'amat': False, 'merkids': False, 'musisi': False, 'tertawa': False, 'jatuh': False, 'bangkit': False, 'hindar': False, 'dewasa': False, 'membiyayai': False, 'sawah': False, 'persis': False, 'percaya': False, 'selip': False, 'disabilitas': False, 'tembus': False, 'turun': False, 'gelap': False, 'asuh': False, 'beli': False, 'mampu': False, 'ngantri': False, 'busuk': False, 'kaku': False, 'formal': False, 'ttp': False, 'susah': False, 'peduli': False, 'merinding': False, 'adil': False, 'melempem': False, 'juang': False, 'lelah': False, 'capek': False, 'ambil': False, 'metro': False, 'dialog': False, 'lewat': False, 'tentram': False, 'tajam': False, 'puas': False, 'sama': False, 'edukatif': False, 'islami': False, 'nambah': False, 'mengkerdilkan': False, 'basri': False, 'santai': False, 'rendah': False, 'tiru': False, 'bjh': False, 'mending': False, 'lapor': False, 'ngerti': False, 'sopan': False, 'ganti': False, 'masakan': False, 'melayu': False, 'bantai': False, 'dicontreng': False, 'sering': False, 'diapa-apain': False, 'keluar': False, 'haram': False, 'gali': False, 'basuki': False, 'serak': False, 'sial': False, 'jelek': False, 'jual': False, 'adu': False, 'putar': False, 'palsu': False, 'rekam': False, 'simpan': False, 'loh': False, 'sendri': False, 'biasa': False, 'kunjung': False, 'pssi': False, 'nurani': False, 'comal': False, 'langgar': False, 'seragam': False, 'mendongrak': False, 'kokoh': False, 'udh': False, 'mencak': False, 'sangka': False, 'pungut': False, 'liar': False}, 'positive')]\n"
          ],
          "name": "stdout"
        }
      ]
    },
    {
      "cell_type": "code",
      "metadata": {
        "id": "HD7L3YExjvor"
      },
      "source": [
        "# menyusun data training dan testing menguji model\n",
        "trainsize = round(len(featuresets)*0.7)\n",
        "\n",
        "random.shuffle(featuresets)\n",
        "training_set = featuresets[:trainsize]\n",
        "testing_set = featuresets[trainsize:]"
      ],
      "execution_count": null,
      "outputs": []
    },
    {
      "cell_type": "code",
      "metadata": {
        "colab": {
          "base_uri": "https://localhost:8080/"
        },
        "id": "vzU1JWgPUgaZ",
        "outputId": "e80d6e64-39da-41c8-f50a-edc60af42164"
      },
      "source": [
        "print(testing_set[:5])"
      ],
      "execution_count": null,
      "outputs": [
        {
          "output_type": "stream",
          "text": [
            "[({'hitam': False, 'putih': False, 'nonton': False, 'seru': False, 'hidup': False, 'tp': False, 'terima': False, 'bikin': False, 'rusak': False, 'kalah': False, 'lihat': False, 'tunggu': False, 'ngomong': False, 'bilang': False, 'coba': False, 'selamat': False, 'mati': False, 'pimpin': False, 'pilih': False, 'bicara': False, 'jaga': False, 'hitamputih': False, 'masuk': False, 'bagus': False, 'tayang': False, 'hebat': False, 'dengar': False, 'salah': False, 'langsung': False, 'mantap': False, 'bangga': False, 'dukung': False, 'pikir': False, 'tua': False, 'metrotv': False, 'lawan': False, 'buka': False, 'ni': False, 'pribadi': False, 'beda': False, 'kaya': False, 'mimpi': False, 'muncul': False, 'butuh': False, 'tindak': False, 'cerdas': False, 'lucu': False, 'besar': False, 'pulang': False, 'bawa': False, 'ubah': False, 'miskin': False, 'menang': False, 'bantu': False, 'baik': False, 'bahas': False, 'jujur': False, 'ikut': False, 'takut': False, 'sesuai': False, 'lupa': False, 'bayar': False, 'kagum': False, 'sejuk': False, 'milik': False, 'kuat': False, 'jadi': True, 'berani': False, 'dki': False, 'uji': False, 'malas': False, 'didik': False, 'tai': False, 'lancar': False, 'nyanyi': False, 'hibur': False, 'ustadz': False, 'asli': False, 'ucap': False, 'berat': False, 'aneh': False, 'sedih': False, 'sulit': False, 'parah': False, 'muda': False, 'hendak': False, 'paksa': False, 'trus': False, 'ketawa': False, 'pergi': False, 'mbak': False, 'toleransi': False, 'buruk': False, 'medsos': False, 'dijalanin': False, 'dipikirin': False, 'taksi': False, 'pasrah': False, 'darurat': False, 'kucing': False, 'syafii': False, 'damai': False, 'indah': False, 'diketawain': False, 'dingin': False, 'dapat': False, 'teroris': False, 'nyata': False, 'sibuk': False, 'lemah': False, 'radikal': False, 'padat': False, 'selesai': False, 'cepat': False, 'benar': False, 'rajut': False, 'bebas': False, 'betawi': False, 'gampang': False, 'kasi': False, 'benci': False, 'seram': False, 'kpi': False, 'nkri': False, 'gila': False, 'daki': False, 'cari': False, 'berfikir': False, 'kosti': False, 'bahagia': False, 'malang': False, 'bersih': False, 'henti': False, 'urus': False, 'bocor': False, 'lulus': False, 'sempurna': False, 'kecewa': False, 'favorit': False, 'rugi': False, 'tampil': False, 'atur': False, 'sederhana': False, 'mui': False, 'sandi': False, 'layak': False, 'silaturahmi': False, 'academi': False, 'ganda': False, 'biru': False, 'naik': False, 'cantik': False, 'maju': False, 'biar': False, 'tunjuk': False, 'terang': False, 'nyaman': False, 'asing': False, 'mentang': False, 'umum': False, 'arti': False, 'teguh': False, 'ditindes': False, 'bentak': False, 'diajakin': False, 'tuh': False, 'baru': False, 'topi': False, 'tunduk': False, 'mbah': False, 'terap': False, 'serang': False, 'buk': False, 'harap': False, 'tegas': False, 'bermusyawara': False, 'enak': False, 'mahal': False, 'aman': False, 'sekitar': False, 'tambah': False, 'ikhlas': False, 'lepas': False, 'pecah': False, 'belah': False, 'musnah': False, 'tinggal': False, 'saji': False, 'obyektif': False, 'tuntas': False, 'sabar': False, 'serap': False, 'jelas': False, 'kapolri': False, 'mari': False, 'sampe': False, 'merem': False, 'dhani': False, 'muzadi': False, 'menentramkan': False, 'kompak': False, 'soleh': False, 'cerah': False, 'melek': False, 'semga': False, 'cocok': False, 'jarak': False, 'metromini': False, 'provokatif': False, 'ulang': False, 'puji': False, 'lari': False, 'gagal': False, 'dapet': False, 'lempar': False, 'fahri': False, 'neng': False, 'superbodi': False, 'tebang': False, 'mengatasnama': False, 'cat': False, 'safi': False, 'bijak': False, 'hadap': False, 'argumentasi': False, 'abi': False, 'gerak': False, 'menghimbau': False, 'pantik': False, 'teduh': False, 'mendung': False, 'penting': False, 'suriah': False, 'sadar': False, 'peci': False, 'merah': False, 'dikeluarin': False, 'amat': False, 'merkids': False, 'musisi': False, 'tertawa': False, 'jatuh': False, 'bangkit': False, 'hindar': False, 'dewasa': False, 'membiyayai': False, 'sawah': False, 'persis': False, 'percaya': False, 'selip': False, 'disabilitas': False, 'tembus': False, 'turun': False, 'gelap': False, 'asuh': False, 'beli': False, 'mampu': False, 'ngantri': False, 'busuk': False, 'kaku': False, 'formal': False, 'ttp': False, 'susah': False, 'peduli': False, 'merinding': False, 'adil': False, 'melempem': False, 'juang': False, 'lelah': False, 'capek': False, 'ambil': False, 'metro': False, 'dialog': False, 'lewat': False, 'tentram': False, 'tajam': False, 'puas': False, 'sama': False, 'edukatif': False, 'islami': False, 'nambah': False, 'mengkerdilkan': False, 'basri': False, 'santai': False, 'rendah': False, 'tiru': False, 'bjh': False, 'mending': False, 'lapor': False, 'ngerti': False, 'sopan': False, 'ganti': False, 'masakan': False, 'melayu': False, 'bantai': False, 'dicontreng': False, 'sering': False, 'diapa-apain': False, 'keluar': False, 'haram': False, 'gali': False, 'basuki': False, 'serak': False, 'sial': False, 'jelek': False, 'jual': False, 'adu': False, 'putar': False, 'palsu': False, 'rekam': False, 'simpan': False, 'loh': False, 'sendri': False, 'biasa': False, 'kunjung': False, 'pssi': False, 'nurani': False, 'comal': False, 'langgar': False, 'seragam': False, 'mendongrak': False, 'kokoh': False, 'udh': False, 'mencak': False, 'sangka': False, 'pungut': False, 'liar': False}, 'negative'), ({'hitam': False, 'putih': False, 'nonton': False, 'seru': False, 'hidup': False, 'tp': False, 'terima': False, 'bikin': False, 'rusak': False, 'kalah': False, 'lihat': False, 'tunggu': False, 'ngomong': False, 'bilang': False, 'coba': False, 'selamat': False, 'mati': False, 'pimpin': False, 'pilih': False, 'bicara': False, 'jaga': False, 'hitamputih': False, 'masuk': False, 'bagus': False, 'tayang': False, 'hebat': False, 'dengar': False, 'salah': False, 'langsung': False, 'mantap': False, 'bangga': False, 'dukung': False, 'pikir': False, 'tua': False, 'metrotv': False, 'lawan': False, 'buka': False, 'ni': False, 'pribadi': False, 'beda': False, 'kaya': False, 'mimpi': False, 'muncul': False, 'butuh': False, 'tindak': False, 'cerdas': False, 'lucu': False, 'besar': False, 'pulang': False, 'bawa': False, 'ubah': False, 'miskin': False, 'menang': False, 'bantu': False, 'baik': False, 'bahas': False, 'jujur': False, 'ikut': False, 'takut': False, 'sesuai': False, 'lupa': False, 'bayar': False, 'kagum': False, 'sejuk': False, 'milik': False, 'kuat': False, 'jadi': False, 'berani': False, 'dki': False, 'uji': False, 'malas': False, 'didik': False, 'tai': False, 'lancar': False, 'nyanyi': False, 'hibur': False, 'ustadz': False, 'asli': False, 'ucap': False, 'berat': False, 'aneh': False, 'sedih': False, 'sulit': False, 'parah': False, 'muda': False, 'hendak': False, 'paksa': False, 'trus': False, 'ketawa': False, 'pergi': False, 'mbak': False, 'toleransi': False, 'buruk': False, 'medsos': False, 'dijalanin': False, 'dipikirin': False, 'taksi': False, 'pasrah': False, 'darurat': False, 'kucing': False, 'syafii': False, 'damai': False, 'indah': False, 'diketawain': False, 'dingin': False, 'dapat': False, 'teroris': False, 'nyata': False, 'sibuk': False, 'lemah': False, 'radikal': False, 'padat': False, 'selesai': False, 'cepat': False, 'benar': False, 'rajut': False, 'bebas': False, 'betawi': False, 'gampang': False, 'kasi': False, 'benci': False, 'seram': False, 'kpi': False, 'nkri': False, 'gila': False, 'daki': False, 'cari': False, 'berfikir': False, 'kosti': False, 'bahagia': False, 'malang': False, 'bersih': False, 'henti': False, 'urus': False, 'bocor': False, 'lulus': False, 'sempurna': False, 'kecewa': False, 'favorit': False, 'rugi': False, 'tampil': False, 'atur': False, 'sederhana': False, 'mui': False, 'sandi': False, 'layak': False, 'silaturahmi': False, 'academi': False, 'ganda': False, 'biru': False, 'naik': False, 'cantik': False, 'maju': False, 'biar': False, 'tunjuk': False, 'terang': False, 'nyaman': False, 'asing': False, 'mentang': False, 'umum': False, 'arti': False, 'teguh': False, 'ditindes': False, 'bentak': False, 'diajakin': False, 'tuh': False, 'baru': False, 'topi': False, 'tunduk': False, 'mbah': False, 'terap': False, 'serang': False, 'buk': False, 'harap': False, 'tegas': False, 'bermusyawara': False, 'enak': False, 'mahal': False, 'aman': False, 'sekitar': False, 'tambah': False, 'ikhlas': False, 'lepas': False, 'pecah': False, 'belah': False, 'musnah': False, 'tinggal': False, 'saji': False, 'obyektif': False, 'tuntas': False, 'sabar': False, 'serap': False, 'jelas': False, 'kapolri': False, 'mari': False, 'sampe': False, 'merem': False, 'dhani': False, 'muzadi': False, 'menentramkan': False, 'kompak': False, 'soleh': False, 'cerah': False, 'melek': False, 'semga': False, 'cocok': False, 'jarak': False, 'metromini': False, 'provokatif': False, 'ulang': False, 'puji': False, 'lari': False, 'gagal': False, 'dapet': False, 'lempar': False, 'fahri': False, 'neng': False, 'superbodi': False, 'tebang': False, 'mengatasnama': False, 'cat': False, 'safi': False, 'bijak': False, 'hadap': False, 'argumentasi': False, 'abi': False, 'gerak': False, 'menghimbau': False, 'pantik': False, 'teduh': False, 'mendung': False, 'penting': False, 'suriah': False, 'sadar': False, 'peci': False, 'merah': False, 'dikeluarin': False, 'amat': False, 'merkids': False, 'musisi': False, 'tertawa': False, 'jatuh': False, 'bangkit': False, 'hindar': False, 'dewasa': False, 'membiyayai': False, 'sawah': False, 'persis': False, 'percaya': False, 'selip': False, 'disabilitas': False, 'tembus': False, 'turun': False, 'gelap': False, 'asuh': False, 'beli': False, 'mampu': False, 'ngantri': False, 'busuk': False, 'kaku': False, 'formal': False, 'ttp': False, 'susah': False, 'peduli': False, 'merinding': False, 'adil': False, 'melempem': False, 'juang': False, 'lelah': False, 'capek': False, 'ambil': False, 'metro': False, 'dialog': False, 'lewat': False, 'tentram': False, 'tajam': False, 'puas': False, 'sama': False, 'edukatif': False, 'islami': False, 'nambah': False, 'mengkerdilkan': False, 'basri': False, 'santai': False, 'rendah': False, 'tiru': False, 'bjh': False, 'mending': False, 'lapor': False, 'ngerti': False, 'sopan': False, 'ganti': False, 'masakan': False, 'melayu': False, 'bantai': False, 'dicontreng': False, 'sering': False, 'diapa-apain': False, 'keluar': False, 'haram': False, 'gali': False, 'basuki': False, 'serak': False, 'sial': False, 'jelek': False, 'jual': False, 'adu': False, 'putar': False, 'palsu': False, 'rekam': False, 'simpan': False, 'loh': False, 'sendri': False, 'biasa': False, 'kunjung': False, 'pssi': False, 'nurani': False, 'comal': False, 'langgar': False, 'seragam': False, 'mendongrak': False, 'kokoh': False, 'udh': False, 'mencak': False, 'sangka': False, 'pungut': False, 'liar': False}, 'positive'), ({'hitam': False, 'putih': False, 'nonton': False, 'seru': False, 'hidup': False, 'tp': False, 'terima': False, 'bikin': False, 'rusak': False, 'kalah': False, 'lihat': False, 'tunggu': False, 'ngomong': False, 'bilang': False, 'coba': False, 'selamat': False, 'mati': False, 'pimpin': False, 'pilih': False, 'bicara': False, 'jaga': False, 'hitamputih': False, 'masuk': False, 'bagus': False, 'tayang': False, 'hebat': False, 'dengar': False, 'salah': False, 'langsung': False, 'mantap': False, 'bangga': False, 'dukung': False, 'pikir': False, 'tua': False, 'metrotv': False, 'lawan': False, 'buka': False, 'ni': False, 'pribadi': False, 'beda': False, 'kaya': False, 'mimpi': False, 'muncul': False, 'butuh': False, 'tindak': False, 'cerdas': False, 'lucu': False, 'besar': False, 'pulang': False, 'bawa': False, 'ubah': False, 'miskin': False, 'menang': False, 'bantu': False, 'baik': False, 'bahas': False, 'jujur': False, 'ikut': False, 'takut': False, 'sesuai': False, 'lupa': False, 'bayar': False, 'kagum': False, 'sejuk': False, 'milik': False, 'kuat': False, 'jadi': False, 'berani': True, 'dki': False, 'uji': False, 'malas': False, 'didik': False, 'tai': False, 'lancar': False, 'nyanyi': False, 'hibur': False, 'ustadz': False, 'asli': False, 'ucap': False, 'berat': False, 'aneh': False, 'sedih': False, 'sulit': False, 'parah': False, 'muda': False, 'hendak': False, 'paksa': False, 'trus': False, 'ketawa': False, 'pergi': False, 'mbak': False, 'toleransi': False, 'buruk': False, 'medsos': False, 'dijalanin': False, 'dipikirin': False, 'taksi': False, 'pasrah': False, 'darurat': False, 'kucing': False, 'syafii': False, 'damai': False, 'indah': False, 'diketawain': False, 'dingin': False, 'dapat': False, 'teroris': False, 'nyata': False, 'sibuk': False, 'lemah': False, 'radikal': False, 'padat': False, 'selesai': False, 'cepat': False, 'benar': False, 'rajut': False, 'bebas': False, 'betawi': False, 'gampang': False, 'kasi': False, 'benci': False, 'seram': False, 'kpi': False, 'nkri': False, 'gila': False, 'daki': False, 'cari': False, 'berfikir': False, 'kosti': False, 'bahagia': False, 'malang': False, 'bersih': True, 'henti': False, 'urus': False, 'bocor': False, 'lulus': False, 'sempurna': False, 'kecewa': False, 'favorit': False, 'rugi': False, 'tampil': False, 'atur': False, 'sederhana': False, 'mui': False, 'sandi': False, 'layak': False, 'silaturahmi': False, 'academi': False, 'ganda': False, 'biru': False, 'naik': False, 'cantik': False, 'maju': False, 'biar': False, 'tunjuk': False, 'terang': False, 'nyaman': False, 'asing': False, 'mentang': False, 'umum': False, 'arti': False, 'teguh': False, 'ditindes': False, 'bentak': False, 'diajakin': False, 'tuh': False, 'baru': False, 'topi': False, 'tunduk': False, 'mbah': False, 'terap': False, 'serang': False, 'buk': False, 'harap': False, 'tegas': False, 'bermusyawara': False, 'enak': False, 'mahal': False, 'aman': False, 'sekitar': False, 'tambah': False, 'ikhlas': False, 'lepas': False, 'pecah': False, 'belah': False, 'musnah': False, 'tinggal': False, 'saji': False, 'obyektif': False, 'tuntas': False, 'sabar': False, 'serap': False, 'jelas': False, 'kapolri': False, 'mari': False, 'sampe': False, 'merem': False, 'dhani': False, 'muzadi': False, 'menentramkan': False, 'kompak': False, 'soleh': False, 'cerah': False, 'melek': False, 'semga': False, 'cocok': False, 'jarak': False, 'metromini': False, 'provokatif': False, 'ulang': False, 'puji': False, 'lari': False, 'gagal': False, 'dapet': False, 'lempar': False, 'fahri': False, 'neng': False, 'superbodi': False, 'tebang': False, 'mengatasnama': False, 'cat': False, 'safi': False, 'bijak': False, 'hadap': False, 'argumentasi': False, 'abi': False, 'gerak': False, 'menghimbau': False, 'pantik': False, 'teduh': False, 'mendung': False, 'penting': False, 'suriah': False, 'sadar': False, 'peci': False, 'merah': False, 'dikeluarin': False, 'amat': False, 'merkids': False, 'musisi': False, 'tertawa': False, 'jatuh': False, 'bangkit': False, 'hindar': False, 'dewasa': False, 'membiyayai': False, 'sawah': False, 'persis': False, 'percaya': False, 'selip': False, 'disabilitas': False, 'tembus': False, 'turun': False, 'gelap': False, 'asuh': False, 'beli': False, 'mampu': False, 'ngantri': False, 'busuk': False, 'kaku': False, 'formal': False, 'ttp': False, 'susah': False, 'peduli': False, 'merinding': False, 'adil': False, 'melempem': False, 'juang': False, 'lelah': False, 'capek': False, 'ambil': False, 'metro': False, 'dialog': False, 'lewat': False, 'tentram': False, 'tajam': False, 'puas': False, 'sama': False, 'edukatif': False, 'islami': False, 'nambah': False, 'mengkerdilkan': False, 'basri': False, 'santai': False, 'rendah': False, 'tiru': False, 'bjh': False, 'mending': False, 'lapor': False, 'ngerti': False, 'sopan': False, 'ganti': False, 'masakan': False, 'melayu': False, 'bantai': False, 'dicontreng': False, 'sering': False, 'diapa-apain': False, 'keluar': False, 'haram': False, 'gali': False, 'basuki': False, 'serak': False, 'sial': False, 'jelek': False, 'jual': False, 'adu': False, 'putar': False, 'palsu': False, 'rekam': False, 'simpan': False, 'loh': False, 'sendri': False, 'biasa': False, 'kunjung': False, 'pssi': False, 'nurani': False, 'comal': False, 'langgar': False, 'seragam': False, 'mendongrak': False, 'kokoh': False, 'udh': False, 'mencak': False, 'sangka': False, 'pungut': False, 'liar': False}, 'positive'), ({'hitam': False, 'putih': False, 'nonton': False, 'seru': False, 'hidup': False, 'tp': False, 'terima': False, 'bikin': False, 'rusak': False, 'kalah': False, 'lihat': False, 'tunggu': False, 'ngomong': False, 'bilang': False, 'coba': False, 'selamat': True, 'mati': False, 'pimpin': False, 'pilih': False, 'bicara': False, 'jaga': False, 'hitamputih': True, 'masuk': True, 'bagus': False, 'tayang': False, 'hebat': False, 'dengar': False, 'salah': False, 'langsung': False, 'mantap': False, 'bangga': False, 'dukung': False, 'pikir': False, 'tua': False, 'metrotv': False, 'lawan': False, 'buka': False, 'ni': False, 'pribadi': False, 'beda': False, 'kaya': False, 'mimpi': False, 'muncul': False, 'butuh': False, 'tindak': False, 'cerdas': False, 'lucu': False, 'besar': False, 'pulang': False, 'bawa': False, 'ubah': False, 'miskin': False, 'menang': False, 'bantu': False, 'baik': False, 'bahas': False, 'jujur': False, 'ikut': False, 'takut': False, 'sesuai': False, 'lupa': False, 'bayar': False, 'kagum': False, 'sejuk': False, 'milik': False, 'kuat': False, 'jadi': False, 'berani': False, 'dki': False, 'uji': False, 'malas': False, 'didik': False, 'tai': False, 'lancar': False, 'nyanyi': False, 'hibur': False, 'ustadz': False, 'asli': False, 'ucap': False, 'berat': False, 'aneh': False, 'sedih': False, 'sulit': False, 'parah': False, 'muda': False, 'hendak': False, 'paksa': False, 'trus': False, 'ketawa': False, 'pergi': False, 'mbak': False, 'toleransi': False, 'buruk': False, 'medsos': False, 'dijalanin': False, 'dipikirin': False, 'taksi': False, 'pasrah': False, 'darurat': False, 'kucing': False, 'syafii': False, 'damai': False, 'indah': False, 'diketawain': False, 'dingin': False, 'dapat': False, 'teroris': False, 'nyata': False, 'sibuk': False, 'lemah': False, 'radikal': False, 'padat': False, 'selesai': False, 'cepat': False, 'benar': False, 'rajut': False, 'bebas': False, 'betawi': False, 'gampang': False, 'kasi': False, 'benci': False, 'seram': False, 'kpi': False, 'nkri': False, 'gila': False, 'daki': False, 'cari': False, 'berfikir': False, 'kosti': False, 'bahagia': False, 'malang': False, 'bersih': False, 'henti': False, 'urus': False, 'bocor': False, 'lulus': False, 'sempurna': False, 'kecewa': False, 'favorit': False, 'rugi': False, 'tampil': False, 'atur': False, 'sederhana': False, 'mui': False, 'sandi': False, 'layak': False, 'silaturahmi': False, 'academi': False, 'ganda': False, 'biru': False, 'naik': False, 'cantik': False, 'maju': False, 'biar': False, 'tunjuk': False, 'terang': False, 'nyaman': False, 'asing': False, 'mentang': False, 'umum': False, 'arti': False, 'teguh': False, 'ditindes': False, 'bentak': False, 'diajakin': False, 'tuh': False, 'baru': False, 'topi': False, 'tunduk': False, 'mbah': False, 'terap': False, 'serang': False, 'buk': False, 'harap': False, 'tegas': False, 'bermusyawara': False, 'enak': False, 'mahal': False, 'aman': False, 'sekitar': False, 'tambah': False, 'ikhlas': False, 'lepas': False, 'pecah': False, 'belah': False, 'musnah': False, 'tinggal': False, 'saji': False, 'obyektif': False, 'tuntas': False, 'sabar': False, 'serap': False, 'jelas': False, 'kapolri': False, 'mari': False, 'sampe': False, 'merem': False, 'dhani': False, 'muzadi': False, 'menentramkan': False, 'kompak': False, 'soleh': False, 'cerah': False, 'melek': False, 'semga': False, 'cocok': False, 'jarak': False, 'metromini': False, 'provokatif': False, 'ulang': False, 'puji': False, 'lari': False, 'gagal': False, 'dapet': False, 'lempar': False, 'fahri': False, 'neng': False, 'superbodi': False, 'tebang': False, 'mengatasnama': False, 'cat': False, 'safi': False, 'bijak': False, 'hadap': False, 'argumentasi': False, 'abi': False, 'gerak': False, 'menghimbau': False, 'pantik': False, 'teduh': False, 'mendung': False, 'penting': False, 'suriah': False, 'sadar': False, 'peci': False, 'merah': False, 'dikeluarin': False, 'amat': False, 'merkids': False, 'musisi': False, 'tertawa': False, 'jatuh': False, 'bangkit': False, 'hindar': False, 'dewasa': False, 'membiyayai': False, 'sawah': False, 'persis': False, 'percaya': False, 'selip': False, 'disabilitas': False, 'tembus': False, 'turun': False, 'gelap': False, 'asuh': False, 'beli': False, 'mampu': False, 'ngantri': False, 'busuk': False, 'kaku': False, 'formal': False, 'ttp': False, 'susah': False, 'peduli': False, 'merinding': False, 'adil': False, 'melempem': False, 'juang': False, 'lelah': False, 'capek': False, 'ambil': False, 'metro': False, 'dialog': False, 'lewat': False, 'tentram': False, 'tajam': False, 'puas': False, 'sama': False, 'edukatif': False, 'islami': False, 'nambah': False, 'mengkerdilkan': False, 'basri': False, 'santai': False, 'rendah': False, 'tiru': False, 'bjh': False, 'mending': False, 'lapor': False, 'ngerti': False, 'sopan': False, 'ganti': False, 'masakan': False, 'melayu': False, 'bantai': False, 'dicontreng': False, 'sering': False, 'diapa-apain': False, 'keluar': False, 'haram': False, 'gali': False, 'basuki': False, 'serak': False, 'sial': False, 'jelek': False, 'jual': False, 'adu': False, 'putar': False, 'palsu': False, 'rekam': False, 'simpan': False, 'loh': False, 'sendri': False, 'biasa': False, 'kunjung': False, 'pssi': False, 'nurani': False, 'comal': False, 'langgar': False, 'seragam': False, 'mendongrak': False, 'kokoh': False, 'udh': False, 'mencak': False, 'sangka': False, 'pungut': False, 'liar': False}, 'positive'), ({'hitam': True, 'putih': False, 'nonton': False, 'seru': False, 'hidup': False, 'tp': False, 'terima': False, 'bikin': False, 'rusak': False, 'kalah': False, 'lihat': False, 'tunggu': False, 'ngomong': False, 'bilang': False, 'coba': False, 'selamat': False, 'mati': False, 'pimpin': False, 'pilih': False, 'bicara': False, 'jaga': False, 'hitamputih': False, 'masuk': False, 'bagus': False, 'tayang': False, 'hebat': False, 'dengar': False, 'salah': False, 'langsung': False, 'mantap': False, 'bangga': False, 'dukung': False, 'pikir': False, 'tua': False, 'metrotv': False, 'lawan': False, 'buka': False, 'ni': False, 'pribadi': False, 'beda': False, 'kaya': False, 'mimpi': False, 'muncul': False, 'butuh': False, 'tindak': False, 'cerdas': False, 'lucu': False, 'besar': False, 'pulang': False, 'bawa': False, 'ubah': False, 'miskin': False, 'menang': False, 'bantu': False, 'baik': False, 'bahas': False, 'jujur': False, 'ikut': False, 'takut': False, 'sesuai': False, 'lupa': False, 'bayar': False, 'kagum': False, 'sejuk': False, 'milik': False, 'kuat': False, 'jadi': False, 'berani': False, 'dki': False, 'uji': False, 'malas': False, 'didik': False, 'tai': False, 'lancar': False, 'nyanyi': False, 'hibur': False, 'ustadz': False, 'asli': False, 'ucap': False, 'berat': False, 'aneh': False, 'sedih': False, 'sulit': False, 'parah': False, 'muda': False, 'hendak': False, 'paksa': False, 'trus': False, 'ketawa': False, 'pergi': False, 'mbak': False, 'toleransi': False, 'buruk': False, 'medsos': False, 'dijalanin': False, 'dipikirin': False, 'taksi': False, 'pasrah': False, 'darurat': False, 'kucing': False, 'syafii': False, 'damai': False, 'indah': False, 'diketawain': False, 'dingin': False, 'dapat': False, 'teroris': False, 'nyata': False, 'sibuk': False, 'lemah': False, 'radikal': False, 'padat': False, 'selesai': False, 'cepat': False, 'benar': False, 'rajut': False, 'bebas': False, 'betawi': False, 'gampang': False, 'kasi': False, 'benci': False, 'seram': False, 'kpi': False, 'nkri': False, 'gila': False, 'daki': False, 'cari': False, 'berfikir': False, 'kosti': False, 'bahagia': False, 'malang': False, 'bersih': False, 'henti': False, 'urus': False, 'bocor': False, 'lulus': False, 'sempurna': False, 'kecewa': False, 'favorit': False, 'rugi': False, 'tampil': False, 'atur': False, 'sederhana': False, 'mui': False, 'sandi': False, 'layak': False, 'silaturahmi': False, 'academi': False, 'ganda': False, 'biru': False, 'naik': False, 'cantik': False, 'maju': False, 'biar': False, 'tunjuk': False, 'terang': False, 'nyaman': False, 'asing': False, 'mentang': False, 'umum': False, 'arti': False, 'teguh': False, 'ditindes': False, 'bentak': False, 'diajakin': False, 'tuh': True, 'baru': False, 'topi': False, 'tunduk': False, 'mbah': False, 'terap': False, 'serang': False, 'buk': False, 'harap': False, 'tegas': False, 'bermusyawara': False, 'enak': False, 'mahal': False, 'aman': False, 'sekitar': False, 'tambah': False, 'ikhlas': False, 'lepas': False, 'pecah': False, 'belah': False, 'musnah': False, 'tinggal': False, 'saji': False, 'obyektif': False, 'tuntas': False, 'sabar': False, 'serap': False, 'jelas': False, 'kapolri': False, 'mari': False, 'sampe': False, 'merem': False, 'dhani': False, 'muzadi': False, 'menentramkan': False, 'kompak': False, 'soleh': False, 'cerah': False, 'melek': False, 'semga': False, 'cocok': False, 'jarak': False, 'metromini': False, 'provokatif': False, 'ulang': False, 'puji': False, 'lari': False, 'gagal': False, 'dapet': False, 'lempar': False, 'fahri': False, 'neng': False, 'superbodi': False, 'tebang': False, 'mengatasnama': False, 'cat': False, 'safi': False, 'bijak': False, 'hadap': False, 'argumentasi': False, 'abi': False, 'gerak': False, 'menghimbau': False, 'pantik': False, 'teduh': False, 'mendung': False, 'penting': False, 'suriah': False, 'sadar': False, 'peci': False, 'merah': False, 'dikeluarin': False, 'amat': False, 'merkids': False, 'musisi': False, 'tertawa': False, 'jatuh': False, 'bangkit': False, 'hindar': False, 'dewasa': False, 'membiyayai': False, 'sawah': False, 'persis': False, 'percaya': False, 'selip': False, 'disabilitas': False, 'tembus': False, 'turun': False, 'gelap': False, 'asuh': False, 'beli': False, 'mampu': False, 'ngantri': False, 'busuk': False, 'kaku': False, 'formal': False, 'ttp': False, 'susah': False, 'peduli': False, 'merinding': False, 'adil': False, 'melempem': False, 'juang': False, 'lelah': False, 'capek': False, 'ambil': False, 'metro': False, 'dialog': False, 'lewat': False, 'tentram': False, 'tajam': False, 'puas': False, 'sama': False, 'edukatif': False, 'islami': False, 'nambah': False, 'mengkerdilkan': False, 'basri': False, 'santai': False, 'rendah': False, 'tiru': False, 'bjh': False, 'mending': False, 'lapor': False, 'ngerti': False, 'sopan': False, 'ganti': False, 'masakan': False, 'melayu': False, 'bantai': False, 'dicontreng': False, 'sering': False, 'diapa-apain': False, 'keluar': False, 'haram': False, 'gali': False, 'basuki': False, 'serak': False, 'sial': False, 'jelek': False, 'jual': False, 'adu': False, 'putar': False, 'palsu': False, 'rekam': False, 'simpan': False, 'loh': False, 'sendri': False, 'biasa': False, 'kunjung': False, 'pssi': False, 'nurani': False, 'comal': False, 'langgar': False, 'seragam': False, 'mendongrak': False, 'kokoh': False, 'udh': False, 'mencak': False, 'sangka': False, 'pungut': False, 'liar': False}, 'negative')]\n"
          ],
          "name": "stdout"
        }
      ]
    },
    {
      "cell_type": "code",
      "metadata": {
        "colab": {
          "base_uri": "https://localhost:8080/"
        },
        "id": "iJALwdehlQ60",
        "outputId": "394df694-6d2f-4113-c564-78e0ee9132b8"
      },
      "source": [
        "classifier = nltk.NaiveBayesClassifier.train(training_set)\n",
        "\n",
        "print(\"Classifier accuracy percent:\",(nltk.classify.accuracy(classifier, testing_set))*100)\n",
        "classifier.show_most_informative_features(25)"
      ],
      "execution_count": null,
      "outputs": [
        {
          "output_type": "stream",
          "text": [
            "Classifier accuracy percent: 59.166666666666664\n",
            "Most Informative Features\n",
            "                   hitam = True           positi : negati =     11.3 : 1.0\n",
            "                   putih = True           positi : negati =      6.4 : 1.0\n",
            "              hitamputih = True           positi : negati =      2.4 : 1.0\n",
            "                   jelas = True           negati : positi =      2.3 : 1.0\n",
            "                    baik = True           negati : positi =      2.3 : 1.0\n",
            "                   salah = True           negati : positi =      2.3 : 1.0\n",
            "                 ngomong = True           negati : positi =      2.3 : 1.0\n",
            "                  nonton = True           positi : negati =      1.8 : 1.0\n",
            "                   metro = True           negati : positi =      1.7 : 1.0\n",
            "                   hidup = True           positi : negati =      1.7 : 1.0\n",
            "                  tayang = True           positi : negati =      1.7 : 1.0\n",
            "                   tegas = True           positi : negati =      1.7 : 1.0\n",
            "                   mampu = True           positi : negati =      1.7 : 1.0\n",
            "                langsung = True           negati : positi =      1.6 : 1.0\n",
            "                   masuk = True           negati : positi =      1.6 : 1.0\n",
            "                   lihat = True           negati : positi =      1.6 : 1.0\n",
            "                    sama = True           negati : positi =      1.4 : 1.0\n",
            "                   hitam = False          negati : positi =      1.1 : 1.0\n",
            "                   putih = False          negati : positi =      1.1 : 1.0\n",
            "                    seru = False          negati : positi =      1.1 : 1.0\n",
            "                      tp = False          positi : negati =      1.1 : 1.0\n",
            "                   kalah = False          positi : negati =      1.0 : 1.0\n",
            "                    mati = False          positi : negati =      1.0 : 1.0\n",
            "                  nonton = False          negati : positi =      1.0 : 1.0\n",
            "                berfikir = True           positi : negati =      1.0 : 1.0\n"
          ],
          "name": "stdout"
        }
      ]
    },
    {
      "cell_type": "code",
      "metadata": {
        "id": "e0umUs7QB9b3"
      },
      "source": [
        "import nltk.classify\n",
        "from sklearn.svm import LinearSVC"
      ],
      "execution_count": null,
      "outputs": []
    },
    {
      "cell_type": "code",
      "metadata": {
        "colab": {
          "base_uri": "https://localhost:8080/"
        },
        "id": "7x1VcdGul3YX",
        "outputId": "e5e3974b-768b-40d8-d632-ed1a31a4ee50"
      },
      "source": [
        "from nltk.metrics.scores import (precision, recall, f_measure)\n",
        "import collections\n",
        "\n",
        "refsets = collections.defaultdict(set)\n",
        "testsets = collections.defaultdict(set)\n",
        "\n",
        "for i, (feats, label) in enumerate(testing_set):\n",
        "  refsets[label].add(i)\n",
        "  observed = classifier.classify(feats)\n",
        "  testsets[observed].add(i)\n",
        "\n",
        "\n",
        "print('Recall:', recall(refsets['positive'], testsets['positive'])) #jumlah positive yg berhasil ditebak\n",
        "print('Precision:', precision(refsets['positive'], testsets['positive'])) #brp tebakan positve yg benar dari seluruh tebakan positive\n",
        "print('f1:', f_measure(refsets['positive'], testsets['positive'],alpha=0.5))"
      ],
      "execution_count": null,
      "outputs": [
        {
          "output_type": "stream",
          "text": [
            "Recall: 0.8870967741935484\n",
            "Precision: 0.5670103092783505\n",
            "f1: 0.6918238993710693\n"
          ],
          "name": "stdout"
        }
      ]
    },
    {
      "cell_type": "code",
      "metadata": {
        "id": "yyl560GBowGK"
      },
      "source": [
        "#menyimpan model yang telah ditrainning ke file sav\n",
        "filename = 'nb_model.sav'\n",
        "pickle.dump(classifier, open(filename, 'wb'))"
      ],
      "execution_count": null,
      "outputs": []
    },
    {
      "cell_type": "code",
      "metadata": {
        "id": "qjqr39QapiPg"
      },
      "source": [
        "#load model classifier nb dari file\n",
        "loaded_model = pickle.load(open(filename, 'rb'))"
      ],
      "execution_count": null,
      "outputs": []
    },
    {
      "cell_type": "code",
      "metadata": {
        "id": "BY5SEubvpkXp"
      },
      "source": [
        "#melakukan klasifikasi menggunakan model classifier nb yang telah diload\n",
        "lsPrediksi = []\n",
        "for (rev, category) in document[trainsize:]:\n",
        "  result=loaded_model.classify(find_features(rev))\n",
        "  lsPrediksi.append([rev, result, category])"
      ],
      "execution_count": null,
      "outputs": []
    },
    {
      "cell_type": "code",
      "metadata": {
        "colab": {
          "base_uri": "https://localhost:8080/"
        },
        "id": "n88SgZ6_puef",
        "outputId": "fefd19a8-baec-41f8-f278-5f57d92d93e5"
      },
      "source": [
        "print(lsPrediksi[:10])"
      ],
      "execution_count": null,
      "outputs": [
        {
          "output_type": "stream",
          "text": [
            "[['Orang Belanda aja peduli sama orang2 indonesia yg berada d daerah terisolir, gimana dg pemerintah indonesia? Zhonk kickandyMetroTV', 'negative'], ['Merinding deh nonton #KickAndyMetroTV', 'positive'], ['Indonesia2. Bahkan kita dididik untuk menjadi rusak.. #kickandymetrotv', 'positive'], ['Parahnya kualitas pendidikan di Indonesia  #kickandymetrotv', 'positive'], ['demi apapun ya kick andy sekarang botak?  #kickandymetrotv', 'positive'], ['jadi merasa malu krn kalah dari org yg tdk sempurna tapi mempunyai yg lebih dari org sempurna #kickandymetrotv', 'negative'], ['Hukum di Indonesia masih jauh dari kata ADIL #KickAndyMetroTV', 'positive'], ['aku kira makin tua makin keladi, malah jd macan ompong. Melempem. kecewa liat amin rais di @kickandymetrotv', 'negative'], ['#kickAndyMetroTV MEDIA harus mengisi lebih banyak ttg kisah sukses di TV, bukan gosip, berita rusuh & acara2 GG JELAS, tai kucing!! #CATET', 'negative'], ['#kickAndyMetroTV jika ingin dihargai orang, hargailah orang lain juga', 'positive']]\n"
          ],
          "name": "stdout"
        }
      ]
    }
  ]
}