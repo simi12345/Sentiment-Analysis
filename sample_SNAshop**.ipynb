{
  "nbformat": 4,
  "nbformat_minor": 0,
  "metadata": {
    "colab": {
      "provenance": [],
      "include_colab_link": true
    },
    "kernelspec": {
      "name": "python3",
      "display_name": "Python 3"
    },
    "language_info": {
      "name": "python"
    }
  },
  "cells": [
    {
      "cell_type": "markdown",
      "metadata": {
        "id": "view-in-github",
        "colab_type": "text"
      },
      "source": [
        "<a href=\"https://colab.research.google.com/github/simi12345/Sentiment-Analysis/blob/main/sample_SNAshop**.ipynb\" target=\"_parent\"><img src=\"https://colab.research.google.com/assets/colab-badge.svg\" alt=\"Open In Colab\"/></a>"
      ]
    },
    {
      "cell_type": "code",
      "metadata": {
        "colab": {
          "base_uri": "https://localhost:8080/"
        },
        "id": "oPNEoVNYgJ7v",
        "outputId": "86cad993-72c8-4ce7-ac8a-354891c2ae9a"
      },
      "source": [
        "!pip install nlp-id"
      ],
      "execution_count": null,
      "outputs": [
        {
          "output_type": "stream",
          "text": [
            "Requirement already satisfied: nlp-id in /usr/local/lib/python3.7/dist-packages (0.1.10.0)\n",
            "Requirement already satisfied: wget==3.2 in /usr/local/lib/python3.7/dist-packages (from nlp-id) (3.2)\n",
            "Requirement already satisfied: scikit-learn==0.22 in /usr/local/lib/python3.7/dist-packages (from nlp-id) (0.22)\n",
            "Requirement already satisfied: nltk==3.4.5 in /usr/local/lib/python3.7/dist-packages (from nlp-id) (3.4.5)\n",
            "Requirement already satisfied: scipy>=0.17.0 in /usr/local/lib/python3.7/dist-packages (from scikit-learn==0.22->nlp-id) (1.4.1)\n",
            "Requirement already satisfied: numpy>=1.11.0 in /usr/local/lib/python3.7/dist-packages (from scikit-learn==0.22->nlp-id) (1.19.5)\n",
            "Requirement already satisfied: joblib>=0.11 in /usr/local/lib/python3.7/dist-packages (from scikit-learn==0.22->nlp-id) (1.0.1)\n",
            "Requirement already satisfied: six in /usr/local/lib/python3.7/dist-packages (from nltk==3.4.5->nlp-id) (1.15.0)\n"
          ],
          "name": "stdout"
        }
      ]
    },
    {
      "cell_type": "code",
      "metadata": {
        "colab": {
          "base_uri": "https://localhost:8080/"
        },
        "id": "lGuQge4slDfX",
        "outputId": "8e9e42a0-c9be-45a0-f912-0f2cf64c9333"
      },
      "source": [
        "!pip install emoji"
      ],
      "execution_count": null,
      "outputs": [
        {
          "output_type": "stream",
          "text": [
            "Requirement already satisfied: emoji in /usr/local/lib/python3.7/dist-packages (1.2.0)\n"
          ],
          "name": "stdout"
        }
      ]
    },
    {
      "cell_type": "markdown",
      "metadata": {
        "id": "TkaEEJUzgqD1"
      },
      "source": []
    },
    {
      "cell_type": "code",
      "metadata": {
        "id": "8X5IyE8vlOpb"
      },
      "source": [
        "import nltk\n",
        "import random\n",
        "from sklearn.model_selection import train_test_split\n",
        "from nltk.classify.scikitlearn import SklearnClassifier\n",
        "import pickle\n",
        "from sklearn.naive_bayes import MultinomialNB, BernoulliNB\n",
        "from sklearn.linear_model import LogisticRegression, SGDClassifier\n",
        "from sklearn.svm import SVC, LinearSVC, NuSVC\n",
        "from nltk.classify import ClassifierI\n",
        "from statistics import mode\n",
        "from nltk.tokenize import word_tokenize\n",
        "import re\n",
        "import csv\n",
        "from nltk.corpus import stopwords\n",
        "import string\n",
        "import emoji"
      ],
      "execution_count": null,
      "outputs": []
    },
    {
      "cell_type": "code",
      "metadata": {
        "colab": {
          "base_uri": "https://localhost:8080/"
        },
        "id": "gF82aI0Slb2o",
        "outputId": "4fc3e1ae-5d17-4ce8-ec7b-3b6d32216776"
      },
      "source": [
        "nltk.download('punkt')"
      ],
      "execution_count": null,
      "outputs": [
        {
          "output_type": "stream",
          "text": [
            "[nltk_data] Downloading package punkt to /root/nltk_data...\n",
            "[nltk_data]   Package punkt is already up-to-date!\n"
          ],
          "name": "stderr"
        },
        {
          "output_type": "execute_result",
          "data": {
            "text/plain": [
              "True"
            ]
          },
          "metadata": {
            "tags": []
          },
          "execution_count": 18
        }
      ]
    },
    {
      "cell_type": "code",
      "metadata": {
        "id": "gTWbIuVbqAX_"
      },
      "source": [
        "with open('dataset/dataset_lazada.csv', 'r', encoding=\"utf8\") as nodecsv: # Buka file\n",
        "    csvreader = csv.reader(nodecsv) # membaca data\n",
        "    # Menyusun data dalam list dan menghilangkan header data\n",
        "    csv = [n for n in csvreader][1:]"
      ],
      "execution_count": null,
      "outputs": []
    },
    {
      "cell_type": "code",
      "metadata": {
        "colab": {
          "base_uri": "https://localhost:8080/"
        },
        "id": "jd8YKNdpqc8l",
        "outputId": "36ea365a-2705-40b9-dbdb-5c7cf66fcac2"
      },
      "source": [
        "print(csv[:10])"
      ],
      "execution_count": null,
      "outputs": [
        {
          "output_type": "stream",
          "text": [
            "[['ZM Zaskia Mecca - Jakarta Scarf Kerudung Segi Empat', 'Jilbab, warna deni m uku', 'negative', 'kesesuaian'], ['ZM Zaskia Mecca - Makassar Scarf Kerudung Segi Empat Wangi Water Splash', 'yg ini jga bgus bnget slalu puas blnja dsni dbanyakin promo ny y', 'positive', 'bagus'], ['ZM Zaskia Mecca - Cendana Scarf Kerudung Segi Empat Ultra Sonic - Romansa Khatulistiwa', 'Motifnya bagus banget. Sesuai real yang ada di gambar. bahan adem dan lembut. Terimakasih ZM. Next order lagi', 'positive', 'bagus'], ['ZM Zaskia Mecca - Izy Hijab Kerudung Bergo', 'bagus kerudungnyaa...sesuailah yaa....sama harganyaa.real pict pokonyyaaa.????', 'positive', 'bagus'], ['ZM Zaskia Mecca X Marsha Natika - Kyomi Pashmina', 'baRang sesuai pesanan cuma pengemasan Lama mgkn kRna bday juga x ea...Q Lebih suka ma yg kLavy,kyomi aga kaku bahan\" y mgkn kaRna pLiskate...ini jiLbab k 7 daRi ZM sisa 3 masih otewe ceunah pokoke bagus2 semua Respon penjuaL Ramah', 'negative', 'late'], ['ZM Zaskia Mecca - Ezio Pants - Jelita Indonesia - Edisi Kelimutu', 'celananya juga keren... bahannya enak dipakai, coraknya manis banget... serasi dgn tunik nya... ZM bagus2 bajunya thx ya', 'positive', 'bagus'], ['ZM Zaskia Mecca - Guntur Garut Scarf Kerudung Segi Empat Ultra Sonic', 'Halus bangettttttttttttt. Jempol', 'positive', 'bagus'], ['ZM Zaskia Mecca X Marsha Natika - Eiko Pashmina', 'suka bangett... bikin muka jadi cantik', 'positive', 'bagus'], ['ZM Zaskia Mecca - Edelweish Scarf Kerudung Segi Empat Ultra Sonic', 'Alhamdulillah paketnya sudah datang dan rapih bungkusnya pula, kerudung nya bagus, terima kasih banyak. thanks to lazada dan kurirnya juga....', 'positive', 'bagus'], ['ZM Zaskia Mecca - Hijab Syari Bellsa Kerudung Segi Empat', 'Alhamdulillah, kerudungnya bagus, halus, pengemasan rapi, kurir sopan', 'positive', 'bagus']]\n"
          ],
          "name": "stdout"
        }
      ]
    },
    {
      "cell_type": "code",
      "metadata": {
        "id": "rUID60DQqstb"
      },
      "source": [
        "emoticons_str = r\"\"\"\n",
        "    (?:\n",
        "        [:=;] # Eyes\n",
        "        [oO\\-]? # Nose (optional)\n",
        "        [D\\)\\]\\(\\]/\\\\OpP] # Mouth\n",
        "    )\"\"\"\n",
        "regex_str = []\n",
        "regex_str.append(emoticons_str)\n",
        "regex_str.append(r'<[^>]+>')# HTML tags\n",
        "regex_str.append(r'(?:@[\\w_]+)')# @-mentions\n",
        "regex_str.append(r'(?:&[\\w_]+)')\n",
        "regex_str.append(r\"(?:\\#+[\\w_]+[\\w\\'_\\-]*[\\w_]+)\") # hash-tags\n",
        "regex_str.append(r'http[s]?://(?:[a-z]|[0-9]|[$-_@.&amp;+]|[!*\\(\\),]|(?:%[0-9a-f][0-9a-f]))+') # URLs\n",
        "regex_str.append(r'(?:(?:\\d+,?)+(?:\\.?\\d+)?)') # numbers\n",
        "regex_str.append(r\"(?:[a-z][a-z'\\-_]+[a-z])\") # words with - and '\n",
        "regex_str.append(r'(?:[\\w_]+)') # other words\n",
        "regex_str.append(r'(?:\\S)') # anything else\n",
        "\n",
        "tokens_re = re.compile(r'('+'|'.join(regex_str)+')', re.VERBOSE | re.IGNORECASE)\n",
        "emoticon_re = re.compile(r'^'+emoticons_str+'$', re.VERBOSE | re.IGNORECASE)"
      ],
      "execution_count": null,
      "outputs": []
    },
    {
      "cell_type": "code",
      "metadata": {
        "colab": {
          "base_uri": "https://localhost:8080/"
        },
        "id": "FAcU_faoqwBQ",
        "outputId": "66d67af2-1dc4-4ee2-909d-6509ea9ffe57"
      },
      "source": [
        "nltk.download('stopwords')"
      ],
      "execution_count": null,
      "outputs": [
        {
          "output_type": "stream",
          "text": [
            "[nltk_data] Downloading package stopwords to /root/nltk_data...\n",
            "[nltk_data]   Unzipping corpora/stopwords.zip.\n"
          ],
          "name": "stderr"
        },
        {
          "output_type": "execute_result",
          "data": {
            "text/plain": [
              "True"
            ]
          },
          "metadata": {
            "tags": []
          },
          "execution_count": 23
        }
      ]
    },
    {
      "cell_type": "code",
      "metadata": {
        "id": "QLPbP-o2xzHf"
      },
      "source": [
        "from nlp_id.stopword import StopWord\n",
        "stopword = StopWord()"
      ],
      "execution_count": null,
      "outputs": []
    },
    {
      "cell_type": "code",
      "metadata": {
        "id": "iYQWhGLhxiXy"
      },
      "source": [
        "punctuation = list(string.punctuation)\n",
        "stop = stopword.get_stopword() + punctuation + ['rt', 'via', '…','•','“']"
      ],
      "execution_count": null,
      "outputs": []
    },
    {
      "cell_type": "code",
      "metadata": {
        "id": "GHPFJFfEx-ie"
      },
      "source": [
        "def tokenize(s):\n",
        "    tokens = tokens_re.findall(s)\n",
        "    return tokens\n",
        "\n",
        "def cleanTweet(token,regex):\n",
        "    terms_all = [emoji.demojize(term) for term in token if term.lower() not in stop and not regex.match(term)]\n",
        "    return terms_all"
      ],
      "execution_count": null,
      "outputs": []
    },
    {
      "cell_type": "code",
      "metadata": {
        "colab": {
          "base_uri": "https://localhost:8080/"
        },
        "id": "5RmzdQAfyGp7",
        "outputId": "93b566b4-08b4-4ec6-ed7f-4e65fe88dddd"
      },
      "source": [
        "tokens = []\n",
        "for c in csv:\n",
        "    tokens.append(tokenize(c[1]))\n",
        "\n",
        "print(tokens[:5])"
      ],
      "execution_count": null,
      "outputs": [
        {
          "output_type": "stream",
          "text": [
            "[['Jilbab', ',', 'warna', 'deni', 'm', 'uku'], ['yg', 'ini', 'jga', 'bgus', 'bnget', 'slalu', 'puas', 'blnja', 'dsni', 'dbanyakin', 'promo', 'ny', 'y'], ['Motifnya', 'bagus', 'banget', '.', 'Sesuai', 'real', 'yang', 'ada', 'di', 'gambar', '.', 'bahan', 'adem', 'dan', 'lembut', '.', 'Terimakasih', 'ZM', '.', 'Next', 'order', 'lagi'], ['bagus', 'kerudungnyaa', '.', '.', '.', 'sesuailah', 'yaa', '.', '.', '.', '.', 'sama', 'harganyaa', '.', 'real', 'pict', 'pokonyyaaa', '.', '?', '?', '?', '?'], ['baRang', 'sesuai', 'pesanan', 'cuma', 'pengemasan', 'Lama', 'mgkn', 'kRna', 'bday', 'juga', 'x', 'ea', '.', '.', '.', 'Q', 'Lebih', 'suka', 'ma', 'yg', 'kLavy', ',', 'kyomi', 'aga', 'kaku', 'bahan', '\"', 'y', 'mgkn', 'kaRna', 'pLiskate', '.', '.', '.', 'ini', 'jiLbab', 'k', '7', 'daRi', 'ZM', 'sisa', '3', 'masih', 'otewe', 'ceunah', 'pokoke', 'bagus', '2', 'semua', 'Respon', 'penjuaL', 'Ramah']]\n"
          ],
          "name": "stdout"
        }
      ]
    },
    {
      "cell_type": "code",
      "metadata": {
        "id": "8ScdIRJLaeg0"
      },
      "source": [
        "import operator\n",
        "\n",
        "exclude_str = []\n",
        "exclude_str.append(emoticons_str)\n",
        "exclude_str.append(r'<[^>]+>')# HTML tags\n",
        "exclude_str.append(r'(?:@[\\w_]+)')# @-mentions\n",
        "exclude_str.append(r'(?:&[\\w_]+)')\n",
        "exclude_str.append(r\"(?:\\#+[\\w_]+[\\w\\'_\\-]*[\\w_]+)\") # hash-tags\n",
        "exclude_str.append(r'http[s]?://(?:[a-z]|[0-9]|[$-_@.&amp;+]|[!*\\(\\),]|(?:%[0-9a-f][0-9a-f]))+') # URLs\n",
        "exclude_str.append(r'(?:(?:\\d+,?)+(?:\\.?\\d+)?)') # numbers\n",
        "\n",
        "exclude_re = re.compile(r'('+'|'.join(exclude_str)+')', re.VERBOSE | re.IGNORECASE)"
      ],
      "execution_count": null,
      "outputs": []
    },
    {
      "cell_type": "code",
      "metadata": {
        "colab": {
          "base_uri": "https://localhost:8080/"
        },
        "id": "2ELLqXEIaitR",
        "outputId": "ce058545-c0d7-437f-87f4-1b1ed4de6702"
      },
      "source": [
        "all_word=[]\n",
        "from collections import Counter\n",
        "count_all = Counter()\n",
        "for token in tokens:\n",
        "    cleanToken = cleanTweet(token,exclude_re)\n",
        "    terms_all = [term.lower() for term in cleanToken]\n",
        "    count_all.update(terms_all)\n",
        "    for w in terms_all:\n",
        "        all_word.append(w)\n",
        "print(count_all.most_common(100))"
      ],
      "execution_count": null,
      "outputs": [
        {
          "output_type": "stream",
          "text": [
            "[('bagus', 58), ('zm', 29), ('lazada', 28), ('sesuai', 24), ('kurir', 21), ('suka', 19), ('bahan', 17), ('barang', 15), ('wangi', 15), ('seller', 15), ('warna', 14), ('bahannya', 14), ('adem', 13), ('pesanan', 12), ('gambar', 11), ('order', 11), ('ramah', 11), ('kasih', 11), ('harga', 11), ('ny', 10), ('pengiriman', 10), ('beli', 10), ('kerudung', 9), ('terima', 9), ('lg', 9), ('d', 9), ('terimakasih', 8), ('kurirnya', 8), ('kerudungnya', 8), ('lembut', 7), ('enak', 7), ('paketnya', 7), ('deh', 7), ('cocok', 7), ('n', 7), ('tp', 7), ('puas', 6), ('halus', 6), ('jd', 6), ('ga', 6), ('hijab', 6), ('warnanya', 6), ('gelap', 6), ('bgt', 6), ('next', 5), ('dipakai', 5), ('rapih', 5), ('thanks', 5), ('rapi', 5), ('realpict', 5), ('pesen', 5), ('coba', 5), ('semoga', 5), ('produk', 5), ('mksh', 5), ('beda', 5), ('cepat', 5), ('lumayan', 5), ('mantap', 5), ('ok', 5), ('udh', 5), ('jilbab', 4), ('slalu', 4), ('promo', 4), ('y', 4), ('real', 4), ('x', 4), ('to', 4), ('ciput', 4), ('abang', 4), ('dah', 4), ('sukses', 4), ('jilbabnya', 4), ('pake', 4), ('paket', 4), ('kesekian', 4), ('rekomended', 4), ('nyaman', 4), ('diterima', 4), ('nyampe', 4), ('langganan', 4), ('mksih', 4), ('bgus', 3), ('kyomi', 3), ('karna', 3), ('keren', 3), ('bajunya', 3), ('thx', 3), ('bungkusnya', 3), ('mantul', 3), ('gak', 3), ('ciputnya', 3), ('krn', 3), ('sm', 3), ('jg', 3), ('cepet', 3), ('sampe', 3), ('maaf', 3), ('tipis', 3), ('kualitas', 3)]\n"
          ],
          "name": "stdout"
        }
      ]
    },
    {
      "cell_type": "code",
      "metadata": {
        "colab": {
          "base_uri": "https://localhost:8080/"
        },
        "id": "BKNahtLAgC_Y",
        "outputId": "8708fdf7-58a5-4cce-e995-521086f1a615"
      },
      "source": [
        "len(all_word)"
      ],
      "execution_count": null,
      "outputs": [
        {
          "output_type": "execute_result",
          "data": {
            "text/plain": [
              "1306"
            ]
          },
          "metadata": {
            "tags": []
          },
          "execution_count": 30
        }
      ]
    },
    {
      "cell_type": "code",
      "metadata": {
        "id": "jeBPXUorarii",
        "colab": {
          "base_uri": "https://localhost:8080/"
        },
        "outputId": "3391a393-1c0e-4d49-f0d4-9aec69d2a3c8"
      },
      "source": [
        "from nlp_id.postag import PosTag\n",
        "postagger = PosTag()"
      ],
      "execution_count": null,
      "outputs": [
        {
          "output_type": "stream",
          "text": [
            "No model removed\n"
          ],
          "name": "stdout"
        },
        {
          "output_type": "stream",
          "text": [
            "/usr/local/lib/python3.7/dist-packages/nlp_id/postag.py:39: UserWarning: Downloading model ..\n",
            "  warnings.warn(\"Downloading model ..\")\n"
          ],
          "name": "stderr"
        }
      ]
    },
    {
      "cell_type": "code",
      "metadata": {
        "id": "d3R1M8rSjAuA"
      },
      "source": [
        "from nlp_id.lemmatizer import Lemmatizer\n",
        "lemmatizer = Lemmatizer()"
      ],
      "execution_count": null,
      "outputs": []
    },
    {
      "cell_type": "code",
      "metadata": {
        "id": "dferDa2yjQqM"
      },
      "source": [
        "all_stmword = [lemmatizer.lemmatize(w) for w in all_word]"
      ],
      "execution_count": null,
      "outputs": []
    },
    {
      "cell_type": "code",
      "metadata": {
        "colab": {
          "base_uri": "https://localhost:8080/"
        },
        "id": "MvwOEI9dkHgZ",
        "outputId": "7039b081-d8a2-48c4-fcd7-5f362c48c2d9"
      },
      "source": [
        "print(all_stmword[:100])"
      ],
      "execution_count": null,
      "outputs": [
        {
          "output_type": "stream",
          "text": [
            "['jilbab', 'warna', 'den', 'm', 'uku', 'jga', 'bgus', 'bnget', 'slalu', 'puas', 'blnja', 'dsni', 'dbanyakin', 'promo', 'ny', 'y', 'motif', 'bagus', 'sesuai', 'real', 'gambar', 'bahan', 'adem', 'lembut', 'terimakasih', 'zm', 'next', 'order', 'bagus', 'kerudungnyaa', 'sesuai', 'yaa', 'harganyaa', 'real', 'pict', 'pokonyyaaa', 'barang', 'sesuai', 'pesan', 'kemas', 'mgkn', 'krna', 'bday', 'x', 'ea', 'q', 'suka', 'ma', 'klavy', 'kyomi', 'aga', 'kaku', 'bahan', 'y', 'mgkn', 'karna', 'pliskate', 'jilbab', 'k', 'zm', 'sisa', 'otewe', 'ceunah', 'pokoke', 'bagus', 'respon', 'jual', 'ramah', 'celana', 'keren', 'bahan', 'enak', 'pakai', 'corak', 'manis', 'serasi', 'dgn', 'tunik', 'zm', 'bagus', 'baju', 'thx', 'halus', 'bangettttttttttttt', 'jempol', 'suka', 'bangett', 'bikin', 'muka', 'cantik', 'paket', 'rapih', 'bungkus', 'kerudung', 'bagus', 'terima', 'kasih', 'thanks', 'to', 'lazada']\n"
          ],
          "name": "stdout"
        }
      ]
    },
    {
      "cell_type": "code",
      "metadata": {
        "id": "563___NHo0P0"
      },
      "source": [
        "pos = [postagger.get_pos_tag(w)[0] for w in all_stmword if len(postagger.get_pos_tag(w))>0]"
      ],
      "execution_count": null,
      "outputs": []
    },
    {
      "cell_type": "code",
      "metadata": {
        "colab": {
          "base_uri": "https://localhost:8080/"
        },
        "id": "9erizIZypKK_",
        "outputId": "07903c42-6e55-4a6a-ee99-f885360fef49"
      },
      "source": [
        "print(pos[:10])"
      ],
      "execution_count": null,
      "outputs": [
        {
          "output_type": "stream",
          "text": [
            "[('jilbab', 'NN'), ('warna', 'NN'), ('den', 'NN'), ('m', 'NN'), ('uku', 'NN'), ('jga', 'NN'), ('bgus', 'NN'), ('bnget', 'NN'), ('slalu', 'NN'), ('puas', 'JJ')]\n"
          ],
          "name": "stdout"
        }
      ]
    },
    {
      "cell_type": "code",
      "metadata": {
        "id": "QBM8LJfNphaX"
      },
      "source": [
        "allowed_word_types = [\"ADV\",\"JJ\",\"ADJP\",\"VB\"]\n",
        "allowed_words=[w[0] for w in pos if w[1] in allowed_word_types]"
      ],
      "execution_count": null,
      "outputs": []
    },
    {
      "cell_type": "code",
      "metadata": {
        "colab": {
          "base_uri": "https://localhost:8080/"
        },
        "id": "1kqj8_x_p40o",
        "outputId": "745562e3-c97c-453d-de39-96464db8cb47"
      },
      "source": [
        "print(allowed_words[:100])"
      ],
      "execution_count": null,
      "outputs": [
        {
          "output_type": "stream",
          "text": [
            "['puas', 'dsni', 'bagus', 'sesuai', 'lembut', 'bagus', 'sesuai', 'sesuai', 'kyomi', 'kaku', 'bagus', 'jual', 'ramah', 'enak', 'pakai', 'manis', 'tunik', 'bagus', 'halus', 'bikin', 'cantik', 'rapih', 'bagus', 'terima', 'bagus', 'halus', 'rapi', 'sopan', 'sesuai', 'bagus', 'kirim', 'bagus', 'tpi', 'lepas', 'bagus', 'kirim', 'sale', 'ulang', 'kirim', 'sampe', 'ramah', 'coba', 'psti', 'coba', 'mantaap', 'lembut', 'wangi', 'cocok', 'aman', 'sampe', 'terima', 'lebar', 'beli', 'ori', 'biar', 'tmbh', 'beli', 'bergonya', 'tipis', 'bagus', 'enak', 'dipke', 'wangi', 'terssa', 'rapih', 'enak', 'pakai', 'sesuai', 'bagus', 'rapi', 'bagus', 'bagus', 'bagus', 'bagus', 'murah', 'sale', 'tipis', 'licin', 'tebal', 'beda', 'beda', 'kirim', 'cepat', 'sesuai', 'bagus', 'halus', 'beli', 'kecewa', 'wangi', 'ramah', 'bagus', 'bagus', 'sesuai', 'ramah', 'sopan', 'makasiiiih', 'puas', 'rejeki', 'disni', 'hijabny']\n"
          ],
          "name": "stdout"
        }
      ]
    },
    {
      "cell_type": "code",
      "metadata": {
        "colab": {
          "base_uri": "https://localhost:8080/"
        },
        "id": "OiXyl9lrsA4i",
        "outputId": "47a6a112-a822-4841-b98a-b98f2fb2e3d8"
      },
      "source": [
        "#Menyusun distribusi kata berdasarkan kemunculannya\n",
        "allwords = nltk.FreqDist(allowed_words)\n",
        "\n",
        "#Mengambil 5000 pertama dari distribusi kata berdasarkan frekwensi kemunculannya\n",
        "tuple_features = list(allwords.most_common())[:1000]\n",
        "word_features = [k for (k,v) in tuple_features]\n",
        "#Memeriksa word_features\n",
        "print(word_features[:100])"
      ],
      "execution_count": null,
      "outputs": [
        {
          "output_type": "stream",
          "text": [
            "['bagus', 'sesuai', 'wangi', 'terima', 'kirim', 'ramah', 'beli', 'puas', 'lembut', 'enak', 'cocok', 'tp', 'pakai', 'halus', 'coba', 'gelap', 'rapih', 'rapi', 'beda', 'cepat', 'lumayan', 'mantap', 'udh', 'nyaman', 'mksih', 'kyomi', 'sampe', 'tipis', 'kecewa', 'mudah', 'mecca', 'lgi', 'dsni', 'tunik', 'cantik', 'sopan', 'sale', 'ori', 'licin', 'hijabny', 'lagiiii', 'langsung', 'atur', 'neng', 'ragu', 'tunggu', 'serum', 'muda', 'dipake', 'terracota', 'kaku', 'jual', 'manis', 'bikin', 'tpi', 'lepas', 'ulang', 'psti', 'mantaap', 'aman', 'lebar', 'biar', 'tmbh', 'bergonya', 'dipke', 'terssa', 'murah', 'tebal', 'makasiiiih', 'rejeki', 'disni', 'i', 'dic', 'ssuai', 'repot', 'klavi', 'hana', 'terang', 'dateng', 'khas', 'gampang', 'dipakenya', 'antar', 'diksh', 'tetep', 'memuaskn', 'mngcewakan', 'lucu', 'kena', 'asli', 'ingsallah', 'lengkap', 'bicara', 'mentawai', 'makasiii', 'bru', 'kli', 'tulisnnya', 'dikit', 'mkasih']\n"
          ],
          "name": "stdout"
        }
      ]
    },
    {
      "cell_type": "code",
      "metadata": {
        "id": "55ccM5iSsPhs"
      },
      "source": [
        "document=[]\n",
        "for w in csv:\n",
        "  document.append((w[1],w[2]))"
      ],
      "execution_count": null,
      "outputs": []
    },
    {
      "cell_type": "code",
      "metadata": {
        "id": "ehox-Si5svCq"
      },
      "source": [
        "def find_features(document):\n",
        "    words = word_tokenize(document)\n",
        "    features = {}\n",
        "    for w in word_features:\n",
        "        features[w] = (w in words)\n",
        "    return features"
      ],
      "execution_count": null,
      "outputs": []
    },
    {
      "cell_type": "code",
      "metadata": {
        "colab": {
          "base_uri": "https://localhost:8080/"
        },
        "id": "sP57NoPOszke",
        "outputId": "e1d3ac72-487a-478a-ece7-d51bb508d264"
      },
      "source": [
        "nltk.download('punkt')\n",
        "featuresets = [(find_features(rev), category) for (rev, category) in document]"
      ],
      "execution_count": null,
      "outputs": [
        {
          "output_type": "stream",
          "text": [
            "[nltk_data] Downloading package punkt to /root/nltk_data...\n",
            "[nltk_data]   Package punkt is already up-to-date!\n"
          ],
          "name": "stderr"
        }
      ]
    },
    {
      "cell_type": "code",
      "metadata": {
        "colab": {
          "base_uri": "https://localhost:8080/"
        },
        "id": "9Qoi4JVetAur",
        "outputId": "63aa0488-a983-470b-c1b5-f6f4e1882300"
      },
      "source": [
        "print(featuresets[:5])"
      ],
      "execution_count": null,
      "outputs": [
        {
          "output_type": "stream",
          "text": [
            "[({'bagus': False, 'sesuai': False, 'wangi': False, 'terima': False, 'kirim': False, 'ramah': False, 'beli': False, 'puas': False, 'lembut': False, 'enak': False, 'cocok': False, 'tp': False, 'pakai': False, 'halus': False, 'coba': False, 'gelap': False, 'rapih': False, 'rapi': False, 'beda': False, 'cepat': False, 'lumayan': False, 'mantap': False, 'udh': False, 'nyaman': False, 'mksih': False, 'kyomi': False, 'sampe': False, 'tipis': False, 'kecewa': False, 'mudah': False, 'mecca': False, 'lgi': False, 'dsni': False, 'tunik': False, 'cantik': False, 'sopan': False, 'sale': False, 'ori': False, 'licin': False, 'hijabny': False, 'lagiiii': False, 'langsung': False, 'atur': False, 'neng': False, 'ragu': False, 'tunggu': False, 'serum': False, 'muda': False, 'dipake': False, 'terracota': False, 'kaku': False, 'jual': False, 'manis': False, 'bikin': False, 'tpi': False, 'lepas': False, 'ulang': False, 'psti': False, 'mantaap': False, 'aman': False, 'lebar': False, 'biar': False, 'tmbh': False, 'bergonya': False, 'dipke': False, 'terssa': False, 'murah': False, 'tebal': False, 'makasiiiih': False, 'rejeki': False, 'disni': False, 'i': False, 'dic': False, 'ssuai': False, 'repot': False, 'klavi': False, 'hana': False, 'terang': False, 'dateng': False, 'khas': False, 'gampang': False, 'dipakenya': False, 'antar': False, 'diksh': False, 'tetep': False, 'memuaskn': False, 'mngcewakan': False, 'lucu': False, 'kena': False, 'asli': False, 'ingsallah': False, 'lengkap': False, 'bicara': False, 'mentawai': False, 'makasiii': False, 'bru': False, 'kli': False, 'tulisnnya': False, 'dikit': False, 'mkasih': False, 'tangung': False, 'teliti': False, 'laagiiii': False, 'mdh': False, 'nnti': False, 'cerah': False, 'teknya': False, 'baik': False, 'mahal': False, 'dapat': False, 'percaya': False, 'tuh': False, 'topp': False, 'tua': False, 'dapet': False, 'nyamain': False, 'memdarat': False, 'selamat': False, 'dtng': False, 'jaga': False, 'muraah': False, 'seruum': False}, 'negative'), ({'bagus': False, 'sesuai': False, 'wangi': False, 'terima': False, 'kirim': False, 'ramah': False, 'beli': False, 'puas': True, 'lembut': False, 'enak': False, 'cocok': False, 'tp': False, 'pakai': False, 'halus': False, 'coba': False, 'gelap': False, 'rapih': False, 'rapi': False, 'beda': False, 'cepat': False, 'lumayan': False, 'mantap': False, 'udh': False, 'nyaman': False, 'mksih': False, 'kyomi': False, 'sampe': False, 'tipis': False, 'kecewa': False, 'mudah': False, 'mecca': False, 'lgi': False, 'dsni': True, 'tunik': False, 'cantik': False, 'sopan': False, 'sale': False, 'ori': False, 'licin': False, 'hijabny': False, 'lagiiii': False, 'langsung': False, 'atur': False, 'neng': False, 'ragu': False, 'tunggu': False, 'serum': False, 'muda': False, 'dipake': False, 'terracota': False, 'kaku': False, 'jual': False, 'manis': False, 'bikin': False, 'tpi': False, 'lepas': False, 'ulang': False, 'psti': False, 'mantaap': False, 'aman': False, 'lebar': False, 'biar': False, 'tmbh': False, 'bergonya': False, 'dipke': False, 'terssa': False, 'murah': False, 'tebal': False, 'makasiiiih': False, 'rejeki': False, 'disni': False, 'i': False, 'dic': False, 'ssuai': False, 'repot': False, 'klavi': False, 'hana': False, 'terang': False, 'dateng': False, 'khas': False, 'gampang': False, 'dipakenya': False, 'antar': False, 'diksh': False, 'tetep': False, 'memuaskn': False, 'mngcewakan': False, 'lucu': False, 'kena': False, 'asli': False, 'ingsallah': False, 'lengkap': False, 'bicara': False, 'mentawai': False, 'makasiii': False, 'bru': False, 'kli': False, 'tulisnnya': False, 'dikit': False, 'mkasih': False, 'tangung': False, 'teliti': False, 'laagiiii': False, 'mdh': False, 'nnti': False, 'cerah': False, 'teknya': False, 'baik': False, 'mahal': False, 'dapat': False, 'percaya': False, 'tuh': False, 'topp': False, 'tua': False, 'dapet': False, 'nyamain': False, 'memdarat': False, 'selamat': False, 'dtng': False, 'jaga': False, 'muraah': False, 'seruum': False}, 'positive'), ({'bagus': True, 'sesuai': False, 'wangi': False, 'terima': False, 'kirim': False, 'ramah': False, 'beli': False, 'puas': False, 'lembut': True, 'enak': False, 'cocok': False, 'tp': False, 'pakai': False, 'halus': False, 'coba': False, 'gelap': False, 'rapih': False, 'rapi': False, 'beda': False, 'cepat': False, 'lumayan': False, 'mantap': False, 'udh': False, 'nyaman': False, 'mksih': False, 'kyomi': False, 'sampe': False, 'tipis': False, 'kecewa': False, 'mudah': False, 'mecca': False, 'lgi': False, 'dsni': False, 'tunik': False, 'cantik': False, 'sopan': False, 'sale': False, 'ori': False, 'licin': False, 'hijabny': False, 'lagiiii': False, 'langsung': False, 'atur': False, 'neng': False, 'ragu': False, 'tunggu': False, 'serum': False, 'muda': False, 'dipake': False, 'terracota': False, 'kaku': False, 'jual': False, 'manis': False, 'bikin': False, 'tpi': False, 'lepas': False, 'ulang': False, 'psti': False, 'mantaap': False, 'aman': False, 'lebar': False, 'biar': False, 'tmbh': False, 'bergonya': False, 'dipke': False, 'terssa': False, 'murah': False, 'tebal': False, 'makasiiiih': False, 'rejeki': False, 'disni': False, 'i': False, 'dic': False, 'ssuai': False, 'repot': False, 'klavi': False, 'hana': False, 'terang': False, 'dateng': False, 'khas': False, 'gampang': False, 'dipakenya': False, 'antar': False, 'diksh': False, 'tetep': False, 'memuaskn': False, 'mngcewakan': False, 'lucu': False, 'kena': False, 'asli': False, 'ingsallah': False, 'lengkap': False, 'bicara': False, 'mentawai': False, 'makasiii': False, 'bru': False, 'kli': False, 'tulisnnya': False, 'dikit': False, 'mkasih': False, 'tangung': False, 'teliti': False, 'laagiiii': False, 'mdh': False, 'nnti': False, 'cerah': False, 'teknya': False, 'baik': False, 'mahal': False, 'dapat': False, 'percaya': False, 'tuh': False, 'topp': False, 'tua': False, 'dapet': False, 'nyamain': False, 'memdarat': False, 'selamat': False, 'dtng': False, 'jaga': False, 'muraah': False, 'seruum': False}, 'positive'), ({'bagus': True, 'sesuai': False, 'wangi': False, 'terima': False, 'kirim': False, 'ramah': False, 'beli': False, 'puas': False, 'lembut': False, 'enak': False, 'cocok': False, 'tp': False, 'pakai': False, 'halus': False, 'coba': False, 'gelap': False, 'rapih': False, 'rapi': False, 'beda': False, 'cepat': False, 'lumayan': False, 'mantap': False, 'udh': False, 'nyaman': False, 'mksih': False, 'kyomi': False, 'sampe': False, 'tipis': False, 'kecewa': False, 'mudah': False, 'mecca': False, 'lgi': False, 'dsni': False, 'tunik': False, 'cantik': False, 'sopan': False, 'sale': False, 'ori': False, 'licin': False, 'hijabny': False, 'lagiiii': False, 'langsung': False, 'atur': False, 'neng': False, 'ragu': False, 'tunggu': False, 'serum': False, 'muda': False, 'dipake': False, 'terracota': False, 'kaku': False, 'jual': False, 'manis': False, 'bikin': False, 'tpi': False, 'lepas': False, 'ulang': False, 'psti': False, 'mantaap': False, 'aman': False, 'lebar': False, 'biar': False, 'tmbh': False, 'bergonya': False, 'dipke': False, 'terssa': False, 'murah': False, 'tebal': False, 'makasiiiih': False, 'rejeki': False, 'disni': False, 'i': False, 'dic': False, 'ssuai': False, 'repot': False, 'klavi': False, 'hana': False, 'terang': False, 'dateng': False, 'khas': False, 'gampang': False, 'dipakenya': False, 'antar': False, 'diksh': False, 'tetep': False, 'memuaskn': False, 'mngcewakan': False, 'lucu': False, 'kena': False, 'asli': False, 'ingsallah': False, 'lengkap': False, 'bicara': False, 'mentawai': False, 'makasiii': False, 'bru': False, 'kli': False, 'tulisnnya': False, 'dikit': False, 'mkasih': False, 'tangung': False, 'teliti': False, 'laagiiii': False, 'mdh': False, 'nnti': False, 'cerah': False, 'teknya': False, 'baik': False, 'mahal': False, 'dapat': False, 'percaya': False, 'tuh': False, 'topp': False, 'tua': False, 'dapet': False, 'nyamain': False, 'memdarat': False, 'selamat': False, 'dtng': False, 'jaga': False, 'muraah': False, 'seruum': False}, 'positive'), ({'bagus': False, 'sesuai': True, 'wangi': False, 'terima': False, 'kirim': False, 'ramah': False, 'beli': False, 'puas': False, 'lembut': False, 'enak': False, 'cocok': False, 'tp': False, 'pakai': False, 'halus': False, 'coba': False, 'gelap': False, 'rapih': False, 'rapi': False, 'beda': False, 'cepat': False, 'lumayan': False, 'mantap': False, 'udh': False, 'nyaman': False, 'mksih': False, 'kyomi': True, 'sampe': False, 'tipis': False, 'kecewa': False, 'mudah': False, 'mecca': False, 'lgi': False, 'dsni': False, 'tunik': False, 'cantik': False, 'sopan': False, 'sale': False, 'ori': False, 'licin': False, 'hijabny': False, 'lagiiii': False, 'langsung': False, 'atur': False, 'neng': False, 'ragu': False, 'tunggu': False, 'serum': False, 'muda': False, 'dipake': False, 'terracota': False, 'kaku': True, 'jual': False, 'manis': False, 'bikin': False, 'tpi': False, 'lepas': False, 'ulang': False, 'psti': False, 'mantaap': False, 'aman': False, 'lebar': False, 'biar': False, 'tmbh': False, 'bergonya': False, 'dipke': False, 'terssa': False, 'murah': False, 'tebal': False, 'makasiiiih': False, 'rejeki': False, 'disni': False, 'i': False, 'dic': False, 'ssuai': False, 'repot': False, 'klavi': False, 'hana': False, 'terang': False, 'dateng': False, 'khas': False, 'gampang': False, 'dipakenya': False, 'antar': False, 'diksh': False, 'tetep': False, 'memuaskn': False, 'mngcewakan': False, 'lucu': False, 'kena': False, 'asli': False, 'ingsallah': False, 'lengkap': False, 'bicara': False, 'mentawai': False, 'makasiii': False, 'bru': False, 'kli': False, 'tulisnnya': False, 'dikit': False, 'mkasih': False, 'tangung': False, 'teliti': False, 'laagiiii': False, 'mdh': False, 'nnti': False, 'cerah': False, 'teknya': False, 'baik': False, 'mahal': False, 'dapat': False, 'percaya': False, 'tuh': False, 'topp': False, 'tua': False, 'dapet': False, 'nyamain': False, 'memdarat': False, 'selamat': False, 'dtng': False, 'jaga': False, 'muraah': False, 'seruum': False}, 'negative')]\n"
          ],
          "name": "stdout"
        }
      ]
    },
    {
      "cell_type": "code",
      "metadata": {
        "id": "lwWP74-0tORc"
      },
      "source": [
        "# menyusun data training dan testing\n",
        "trainsize = round(len(featuresets)*0.7)\n",
        "\n",
        "random.shuffle(featuresets)\n",
        "training_set = featuresets[:trainsize]\n",
        "testing_set = featuresets[trainsize:]\n"
      ],
      "execution_count": null,
      "outputs": []
    },
    {
      "cell_type": "code",
      "metadata": {
        "colab": {
          "base_uri": "https://localhost:8080/"
        },
        "id": "tPwMTed6WwhU",
        "outputId": "4473a4ec-12a6-4fb8-e922-673c8fa2644e"
      },
      "source": [
        "print(*testing_set[:5], sep = \"\\n\")"
      ],
      "execution_count": null,
      "outputs": [
        {
          "output_type": "stream",
          "text": [
            "({'bagus': False, 'sesuai': False, 'wangi': True, 'terima': False, 'kirim': False, 'ramah': False, 'beli': False, 'puas': True, 'lembut': True, 'enak': False, 'cocok': False, 'tp': False, 'pakai': False, 'halus': False, 'coba': False, 'gelap': False, 'rapih': False, 'rapi': False, 'beda': False, 'cepat': False, 'lumayan': False, 'mantap': False, 'udh': False, 'nyaman': False, 'mksih': False, 'kyomi': False, 'sampe': False, 'tipis': False, 'kecewa': False, 'mudah': True, 'mecca': False, 'lgi': False, 'dsni': False, 'tunik': False, 'cantik': False, 'sopan': False, 'sale': False, 'ori': False, 'licin': False, 'hijabny': False, 'lagiiii': False, 'langsung': False, 'atur': False, 'neng': False, 'ragu': False, 'tunggu': False, 'serum': False, 'muda': False, 'dipake': False, 'terracota': False, 'kaku': False, 'jual': False, 'manis': False, 'bikin': False, 'tpi': False, 'lepas': False, 'ulang': False, 'psti': False, 'mantaap': False, 'aman': False, 'lebar': False, 'biar': False, 'tmbh': False, 'bergonya': False, 'dipke': False, 'terssa': False, 'murah': False, 'tebal': False, 'makasiiiih': False, 'rejeki': False, 'disni': False, 'i': False, 'dic': False, 'ssuai': False, 'repot': False, 'klavi': False, 'hana': False, 'terang': False, 'dateng': False, 'khas': False, 'gampang': False, 'dipakenya': True, 'antar': False, 'diksh': False, 'tetep': False, 'memuaskn': False, 'mngcewakan': False, 'lucu': False, 'kena': False, 'asli': False, 'ingsallah': False, 'lengkap': False, 'bicara': False, 'mentawai': False, 'makasiii': False, 'bru': False, 'kli': False, 'tulisnnya': False, 'dikit': False, 'mkasih': False, 'tangung': False, 'teliti': False, 'laagiiii': False, 'mdh': False, 'nnti': False, 'cerah': False, 'teknya': False, 'baik': False, 'mahal': False, 'dapat': False, 'percaya': False, 'tuh': False, 'topp': False, 'tua': False, 'dapet': False, 'nyamain': False, 'memdarat': False, 'selamat': False, 'dtng': False, 'jaga': False, 'muraah': False, 'seruum': False}, 'positive')\n",
            "({'bagus': False, 'sesuai': False, 'wangi': False, 'terima': False, 'kirim': False, 'ramah': False, 'beli': False, 'puas': False, 'lembut': False, 'enak': False, 'cocok': False, 'tp': False, 'pakai': False, 'halus': False, 'coba': False, 'gelap': False, 'rapih': False, 'rapi': False, 'beda': False, 'cepat': False, 'lumayan': False, 'mantap': False, 'udh': False, 'nyaman': False, 'mksih': False, 'kyomi': False, 'sampe': False, 'tipis': False, 'kecewa': False, 'mudah': False, 'mecca': False, 'lgi': False, 'dsni': False, 'tunik': False, 'cantik': False, 'sopan': False, 'sale': False, 'ori': False, 'licin': False, 'hijabny': False, 'lagiiii': False, 'langsung': False, 'atur': False, 'neng': False, 'ragu': False, 'tunggu': False, 'serum': False, 'muda': False, 'dipake': False, 'terracota': False, 'kaku': False, 'jual': False, 'manis': False, 'bikin': False, 'tpi': False, 'lepas': False, 'ulang': False, 'psti': False, 'mantaap': False, 'aman': False, 'lebar': False, 'biar': False, 'tmbh': False, 'bergonya': False, 'dipke': False, 'terssa': False, 'murah': False, 'tebal': False, 'makasiiiih': False, 'rejeki': False, 'disni': False, 'i': False, 'dic': False, 'ssuai': False, 'repot': False, 'klavi': False, 'hana': False, 'terang': False, 'dateng': False, 'khas': False, 'gampang': False, 'dipakenya': False, 'antar': False, 'diksh': False, 'tetep': False, 'memuaskn': False, 'mngcewakan': False, 'lucu': False, 'kena': False, 'asli': False, 'ingsallah': False, 'lengkap': False, 'bicara': False, 'mentawai': False, 'makasiii': False, 'bru': False, 'kli': False, 'tulisnnya': False, 'dikit': False, 'mkasih': False, 'tangung': False, 'teliti': False, 'laagiiii': False, 'mdh': False, 'nnti': False, 'cerah': False, 'teknya': False, 'baik': False, 'mahal': False, 'dapat': False, 'percaya': False, 'tuh': False, 'topp': False, 'tua': False, 'dapet': False, 'nyamain': False, 'memdarat': False, 'selamat': False, 'dtng': False, 'jaga': False, 'muraah': False, 'seruum': False}, 'positive')\n",
            "({'bagus': False, 'sesuai': False, 'wangi': False, 'terima': False, 'kirim': False, 'ramah': False, 'beli': False, 'puas': False, 'lembut': False, 'enak': False, 'cocok': True, 'tp': False, 'pakai': False, 'halus': False, 'coba': False, 'gelap': False, 'rapih': False, 'rapi': False, 'beda': False, 'cepat': False, 'lumayan': False, 'mantap': False, 'udh': False, 'nyaman': False, 'mksih': False, 'kyomi': False, 'sampe': False, 'tipis': False, 'kecewa': False, 'mudah': False, 'mecca': False, 'lgi': False, 'dsni': False, 'tunik': False, 'cantik': False, 'sopan': False, 'sale': False, 'ori': False, 'licin': False, 'hijabny': False, 'lagiiii': False, 'langsung': False, 'atur': False, 'neng': False, 'ragu': False, 'tunggu': False, 'serum': False, 'muda': False, 'dipake': False, 'terracota': False, 'kaku': False, 'jual': False, 'manis': False, 'bikin': False, 'tpi': False, 'lepas': False, 'ulang': False, 'psti': False, 'mantaap': False, 'aman': False, 'lebar': False, 'biar': False, 'tmbh': False, 'bergonya': False, 'dipke': False, 'terssa': False, 'murah': False, 'tebal': False, 'makasiiiih': False, 'rejeki': False, 'disni': False, 'i': False, 'dic': False, 'ssuai': False, 'repot': False, 'klavi': False, 'hana': False, 'terang': False, 'dateng': False, 'khas': False, 'gampang': False, 'dipakenya': False, 'antar': False, 'diksh': False, 'tetep': False, 'memuaskn': False, 'mngcewakan': False, 'lucu': False, 'kena': False, 'asli': False, 'ingsallah': False, 'lengkap': False, 'bicara': False, 'mentawai': False, 'makasiii': False, 'bru': False, 'kli': False, 'tulisnnya': False, 'dikit': False, 'mkasih': False, 'tangung': False, 'teliti': False, 'laagiiii': False, 'mdh': False, 'nnti': False, 'cerah': False, 'teknya': False, 'baik': False, 'mahal': False, 'dapat': False, 'percaya': False, 'tuh': False, 'topp': False, 'tua': False, 'dapet': False, 'nyamain': False, 'memdarat': False, 'selamat': False, 'dtng': False, 'jaga': False, 'muraah': False, 'seruum': False}, 'positive')\n",
            "({'bagus': False, 'sesuai': False, 'wangi': False, 'terima': False, 'kirim': False, 'ramah': True, 'beli': False, 'puas': False, 'lembut': False, 'enak': False, 'cocok': False, 'tp': False, 'pakai': False, 'halus': False, 'coba': False, 'gelap': False, 'rapih': False, 'rapi': True, 'beda': False, 'cepat': True, 'lumayan': True, 'mantap': False, 'udh': False, 'nyaman': False, 'mksih': False, 'kyomi': False, 'sampe': False, 'tipis': False, 'kecewa': False, 'mudah': False, 'mecca': False, 'lgi': False, 'dsni': False, 'tunik': False, 'cantik': False, 'sopan': False, 'sale': False, 'ori': True, 'licin': False, 'hijabny': False, 'lagiiii': False, 'langsung': False, 'atur': False, 'neng': False, 'ragu': False, 'tunggu': False, 'serum': False, 'muda': False, 'dipake': False, 'terracota': False, 'kaku': False, 'jual': False, 'manis': False, 'bikin': False, 'tpi': False, 'lepas': False, 'ulang': False, 'psti': False, 'mantaap': False, 'aman': False, 'lebar': False, 'biar': False, 'tmbh': False, 'bergonya': False, 'dipke': False, 'terssa': False, 'murah': False, 'tebal': False, 'makasiiiih': False, 'rejeki': False, 'disni': False, 'i': False, 'dic': False, 'ssuai': False, 'repot': False, 'klavi': False, 'hana': False, 'terang': False, 'dateng': False, 'khas': False, 'gampang': False, 'dipakenya': False, 'antar': False, 'diksh': False, 'tetep': False, 'memuaskn': False, 'mngcewakan': False, 'lucu': False, 'kena': False, 'asli': False, 'ingsallah': False, 'lengkap': False, 'bicara': False, 'mentawai': False, 'makasiii': False, 'bru': False, 'kli': False, 'tulisnnya': False, 'dikit': False, 'mkasih': False, 'tangung': False, 'teliti': False, 'laagiiii': False, 'mdh': False, 'nnti': False, 'cerah': False, 'teknya': False, 'baik': False, 'mahal': False, 'dapat': False, 'percaya': False, 'tuh': False, 'topp': False, 'tua': False, 'dapet': False, 'nyamain': False, 'memdarat': False, 'selamat': False, 'dtng': False, 'jaga': False, 'muraah': False, 'seruum': False}, 'positive')\n",
            "({'bagus': True, 'sesuai': False, 'wangi': False, 'terima': True, 'kirim': False, 'ramah': False, 'beli': False, 'puas': False, 'lembut': False, 'enak': False, 'cocok': False, 'tp': False, 'pakai': False, 'halus': False, 'coba': False, 'gelap': False, 'rapih': True, 'rapi': False, 'beda': False, 'cepat': False, 'lumayan': False, 'mantap': False, 'udh': False, 'nyaman': False, 'mksih': False, 'kyomi': False, 'sampe': False, 'tipis': False, 'kecewa': False, 'mudah': False, 'mecca': False, 'lgi': False, 'dsni': False, 'tunik': False, 'cantik': False, 'sopan': False, 'sale': False, 'ori': False, 'licin': False, 'hijabny': False, 'lagiiii': False, 'langsung': False, 'atur': False, 'neng': False, 'ragu': False, 'tunggu': False, 'serum': False, 'muda': False, 'dipake': False, 'terracota': False, 'kaku': False, 'jual': False, 'manis': False, 'bikin': False, 'tpi': False, 'lepas': False, 'ulang': False, 'psti': False, 'mantaap': False, 'aman': False, 'lebar': False, 'biar': False, 'tmbh': False, 'bergonya': False, 'dipke': False, 'terssa': False, 'murah': False, 'tebal': False, 'makasiiiih': False, 'rejeki': False, 'disni': False, 'i': False, 'dic': False, 'ssuai': False, 'repot': False, 'klavi': False, 'hana': False, 'terang': False, 'dateng': False, 'khas': False, 'gampang': False, 'dipakenya': False, 'antar': False, 'diksh': False, 'tetep': False, 'memuaskn': False, 'mngcewakan': False, 'lucu': False, 'kena': False, 'asli': False, 'ingsallah': False, 'lengkap': False, 'bicara': False, 'mentawai': False, 'makasiii': False, 'bru': False, 'kli': False, 'tulisnnya': False, 'dikit': False, 'mkasih': False, 'tangung': False, 'teliti': False, 'laagiiii': False, 'mdh': False, 'nnti': False, 'cerah': False, 'teknya': False, 'baik': False, 'mahal': False, 'dapat': False, 'percaya': False, 'tuh': False, 'topp': False, 'tua': False, 'dapet': False, 'nyamain': False, 'memdarat': False, 'selamat': False, 'dtng': False, 'jaga': False, 'muraah': False, 'seruum': False}, 'positive')\n"
          ],
          "name": "stdout"
        }
      ]
    },
    {
      "cell_type": "code",
      "metadata": {
        "colab": {
          "base_uri": "https://localhost:8080/"
        },
        "id": "gOOlSa5iSHtH",
        "outputId": "e91ee200-397e-49ef-e2e7-9f5894da92c7"
      },
      "source": [
        "print('\\n'.join(map(str, training_set[:5])))"
      ],
      "execution_count": null,
      "outputs": [
        {
          "output_type": "stream",
          "text": [
            "({'bagus': False, 'sesuai': False, 'wangi': False, 'terima': False, 'kirim': False, 'ramah': False, 'beli': False, 'puas': False, 'lembut': False, 'enak': False, 'cocok': False, 'tp': False, 'pakai': False, 'halus': False, 'coba': False, 'gelap': False, 'rapih': False, 'rapi': False, 'beda': False, 'cepat': False, 'lumayan': False, 'mantap': False, 'udh': False, 'nyaman': False, 'mksih': False, 'kyomi': False, 'sampe': False, 'tipis': False, 'kecewa': False, 'mudah': False, 'mecca': False, 'lgi': False, 'dsni': False, 'tunik': False, 'cantik': False, 'sopan': False, 'sale': False, 'ori': False, 'licin': False, 'hijabny': False, 'lagiiii': False, 'langsung': False, 'atur': False, 'neng': False, 'ragu': False, 'tunggu': False, 'serum': False, 'muda': False, 'dipake': False, 'terracota': False, 'kaku': False, 'jual': False, 'manis': False, 'bikin': False, 'tpi': False, 'lepas': False, 'ulang': False, 'psti': False, 'mantaap': False, 'aman': False, 'lebar': False, 'biar': False, 'tmbh': False, 'bergonya': False, 'dipke': False, 'terssa': False, 'murah': False, 'tebal': False, 'makasiiiih': False, 'rejeki': False, 'disni': False, 'i': False, 'dic': False, 'ssuai': False, 'repot': False, 'klavi': False, 'hana': False, 'terang': False, 'dateng': False, 'khas': False, 'gampang': False, 'dipakenya': False, 'antar': False, 'diksh': False, 'tetep': False, 'memuaskn': False, 'mngcewakan': False, 'lucu': False, 'kena': False, 'asli': False, 'ingsallah': False, 'lengkap': False, 'bicara': False, 'mentawai': False, 'makasiii': False, 'bru': False, 'kli': False, 'tulisnnya': False, 'dikit': False, 'mkasih': False, 'tangung': False, 'teliti': False, 'laagiiii': False, 'mdh': False, 'nnti': False, 'cerah': False, 'teknya': False, 'baik': False, 'mahal': False, 'dapat': False, 'percaya': False, 'tuh': False, 'topp': False, 'tua': False, 'dapet': False, 'nyamain': False, 'memdarat': False, 'selamat': False, 'dtng': False, 'jaga': False, 'muraah': False, 'seruum': False}, 'positive')\n",
            "({'bagus': False, 'sesuai': False, 'wangi': False, 'terima': False, 'kirim': False, 'ramah': False, 'beli': False, 'puas': False, 'lembut': False, 'enak': False, 'cocok': False, 'tp': False, 'pakai': False, 'halus': False, 'coba': False, 'gelap': False, 'rapih': False, 'rapi': False, 'beda': False, 'cepat': False, 'lumayan': False, 'mantap': False, 'udh': False, 'nyaman': False, 'mksih': False, 'kyomi': False, 'sampe': False, 'tipis': False, 'kecewa': False, 'mudah': False, 'mecca': False, 'lgi': False, 'dsni': False, 'tunik': False, 'cantik': False, 'sopan': False, 'sale': False, 'ori': False, 'licin': False, 'hijabny': False, 'lagiiii': False, 'langsung': False, 'atur': False, 'neng': False, 'ragu': False, 'tunggu': False, 'serum': False, 'muda': False, 'dipake': False, 'terracota': False, 'kaku': False, 'jual': False, 'manis': False, 'bikin': False, 'tpi': False, 'lepas': False, 'ulang': False, 'psti': False, 'mantaap': False, 'aman': False, 'lebar': False, 'biar': True, 'tmbh': True, 'bergonya': False, 'dipke': False, 'terssa': False, 'murah': False, 'tebal': False, 'makasiiiih': False, 'rejeki': False, 'disni': False, 'i': False, 'dic': False, 'ssuai': False, 'repot': False, 'klavi': False, 'hana': False, 'terang': False, 'dateng': False, 'khas': False, 'gampang': False, 'dipakenya': False, 'antar': False, 'diksh': False, 'tetep': False, 'memuaskn': False, 'mngcewakan': False, 'lucu': False, 'kena': False, 'asli': False, 'ingsallah': False, 'lengkap': False, 'bicara': False, 'mentawai': False, 'makasiii': False, 'bru': False, 'kli': False, 'tulisnnya': False, 'dikit': False, 'mkasih': False, 'tangung': False, 'teliti': False, 'laagiiii': False, 'mdh': False, 'nnti': False, 'cerah': False, 'teknya': False, 'baik': False, 'mahal': False, 'dapat': False, 'percaya': False, 'tuh': False, 'topp': False, 'tua': False, 'dapet': False, 'nyamain': False, 'memdarat': False, 'selamat': False, 'dtng': False, 'jaga': False, 'muraah': False, 'seruum': False}, 'positive')\n",
            "({'bagus': True, 'sesuai': True, 'wangi': False, 'terima': False, 'kirim': False, 'ramah': False, 'beli': False, 'puas': False, 'lembut': False, 'enak': False, 'cocok': False, 'tp': False, 'pakai': False, 'halus': False, 'coba': False, 'gelap': False, 'rapih': False, 'rapi': False, 'beda': False, 'cepat': False, 'lumayan': False, 'mantap': False, 'udh': False, 'nyaman': False, 'mksih': False, 'kyomi': False, 'sampe': False, 'tipis': False, 'kecewa': False, 'mudah': False, 'mecca': False, 'lgi': False, 'dsni': False, 'tunik': False, 'cantik': False, 'sopan': False, 'sale': False, 'ori': False, 'licin': False, 'hijabny': False, 'lagiiii': False, 'langsung': False, 'atur': False, 'neng': False, 'ragu': False, 'tunggu': False, 'serum': False, 'muda': False, 'dipake': False, 'terracota': False, 'kaku': False, 'jual': False, 'manis': False, 'bikin': False, 'tpi': False, 'lepas': False, 'ulang': False, 'psti': False, 'mantaap': False, 'aman': False, 'lebar': False, 'biar': False, 'tmbh': False, 'bergonya': False, 'dipke': False, 'terssa': False, 'murah': False, 'tebal': False, 'makasiiiih': False, 'rejeki': False, 'disni': False, 'i': False, 'dic': False, 'ssuai': False, 'repot': False, 'klavi': False, 'hana': False, 'terang': False, 'dateng': False, 'khas': False, 'gampang': False, 'dipakenya': False, 'antar': False, 'diksh': False, 'tetep': False, 'memuaskn': False, 'mngcewakan': False, 'lucu': False, 'kena': False, 'asli': False, 'ingsallah': False, 'lengkap': False, 'bicara': False, 'mentawai': False, 'makasiii': False, 'bru': False, 'kli': False, 'tulisnnya': False, 'dikit': False, 'mkasih': False, 'tangung': False, 'teliti': False, 'laagiiii': False, 'mdh': False, 'nnti': False, 'cerah': False, 'teknya': False, 'baik': False, 'mahal': False, 'dapat': False, 'percaya': False, 'tuh': False, 'topp': False, 'tua': False, 'dapet': False, 'nyamain': False, 'memdarat': False, 'selamat': False, 'dtng': False, 'jaga': False, 'muraah': False, 'seruum': False}, 'positive')\n",
            "({'bagus': False, 'sesuai': True, 'wangi': False, 'terima': False, 'kirim': False, 'ramah': True, 'beli': False, 'puas': False, 'lembut': False, 'enak': False, 'cocok': False, 'tp': False, 'pakai': False, 'halus': False, 'coba': False, 'gelap': False, 'rapih': False, 'rapi': False, 'beda': False, 'cepat': False, 'lumayan': False, 'mantap': False, 'udh': False, 'nyaman': False, 'mksih': False, 'kyomi': False, 'sampe': False, 'tipis': False, 'kecewa': False, 'mudah': False, 'mecca': False, 'lgi': True, 'dsni': False, 'tunik': False, 'cantik': True, 'sopan': False, 'sale': False, 'ori': False, 'licin': False, 'hijabny': False, 'lagiiii': False, 'langsung': False, 'atur': False, 'neng': False, 'ragu': False, 'tunggu': False, 'serum': False, 'muda': False, 'dipake': False, 'terracota': False, 'kaku': False, 'jual': False, 'manis': False, 'bikin': False, 'tpi': False, 'lepas': False, 'ulang': False, 'psti': False, 'mantaap': False, 'aman': False, 'lebar': False, 'biar': False, 'tmbh': False, 'bergonya': False, 'dipke': False, 'terssa': False, 'murah': False, 'tebal': False, 'makasiiiih': False, 'rejeki': False, 'disni': False, 'i': False, 'dic': False, 'ssuai': False, 'repot': False, 'klavi': False, 'hana': False, 'terang': False, 'dateng': False, 'khas': False, 'gampang': False, 'dipakenya': False, 'antar': False, 'diksh': False, 'tetep': False, 'memuaskn': False, 'mngcewakan': False, 'lucu': False, 'kena': False, 'asli': False, 'ingsallah': True, 'lengkap': False, 'bicara': False, 'mentawai': False, 'makasiii': False, 'bru': False, 'kli': False, 'tulisnnya': False, 'dikit': False, 'mkasih': False, 'tangung': False, 'teliti': False, 'laagiiii': False, 'mdh': False, 'nnti': False, 'cerah': False, 'teknya': False, 'baik': False, 'mahal': False, 'dapat': False, 'percaya': False, 'tuh': False, 'topp': False, 'tua': False, 'dapet': False, 'nyamain': False, 'memdarat': False, 'selamat': False, 'dtng': False, 'jaga': False, 'muraah': False, 'seruum': False}, 'positive')\n",
            "({'bagus': False, 'sesuai': False, 'wangi': False, 'terima': False, 'kirim': False, 'ramah': False, 'beli': False, 'puas': True, 'lembut': False, 'enak': False, 'cocok': False, 'tp': False, 'pakai': False, 'halus': False, 'coba': False, 'gelap': False, 'rapih': False, 'rapi': False, 'beda': False, 'cepat': False, 'lumayan': False, 'mantap': False, 'udh': False, 'nyaman': False, 'mksih': False, 'kyomi': False, 'sampe': False, 'tipis': False, 'kecewa': False, 'mudah': False, 'mecca': False, 'lgi': False, 'dsni': True, 'tunik': False, 'cantik': False, 'sopan': False, 'sale': False, 'ori': False, 'licin': False, 'hijabny': False, 'lagiiii': False, 'langsung': False, 'atur': False, 'neng': False, 'ragu': False, 'tunggu': False, 'serum': False, 'muda': False, 'dipake': False, 'terracota': False, 'kaku': False, 'jual': False, 'manis': False, 'bikin': False, 'tpi': False, 'lepas': False, 'ulang': False, 'psti': False, 'mantaap': False, 'aman': False, 'lebar': False, 'biar': False, 'tmbh': False, 'bergonya': False, 'dipke': False, 'terssa': False, 'murah': False, 'tebal': False, 'makasiiiih': False, 'rejeki': False, 'disni': False, 'i': False, 'dic': False, 'ssuai': False, 'repot': False, 'klavi': False, 'hana': False, 'terang': False, 'dateng': False, 'khas': False, 'gampang': False, 'dipakenya': False, 'antar': False, 'diksh': False, 'tetep': False, 'memuaskn': False, 'mngcewakan': False, 'lucu': False, 'kena': False, 'asli': False, 'ingsallah': False, 'lengkap': False, 'bicara': False, 'mentawai': False, 'makasiii': False, 'bru': False, 'kli': False, 'tulisnnya': False, 'dikit': False, 'mkasih': False, 'tangung': False, 'teliti': False, 'laagiiii': False, 'mdh': False, 'nnti': False, 'cerah': False, 'teknya': False, 'baik': False, 'mahal': False, 'dapat': False, 'percaya': False, 'tuh': False, 'topp': False, 'tua': False, 'dapet': False, 'nyamain': False, 'memdarat': False, 'selamat': False, 'dtng': False, 'jaga': False, 'muraah': False, 'seruum': False}, 'positive')\n"
          ],
          "name": "stdout"
        }
      ]
    },
    {
      "cell_type": "code",
      "metadata": {
        "colab": {
          "base_uri": "https://localhost:8080/"
        },
        "id": "eqrKZSkHtTQz",
        "outputId": "affb3bc7-efe5-47d8-9326-c072b62335f9"
      },
      "source": [
        "classifier = nltk.NaiveBayesClassifier.train(training_set)\n",
        "\n",
        "print(\"Classifier accuracy percent:\",(nltk.classify.accuracy(classifier, testing_set))*100)\n",
        "classifier.show_most_informative_features(25)"
      ],
      "execution_count": null,
      "outputs": [
        {
          "output_type": "stream",
          "text": [
            "Classifier accuracy percent: 88.09523809523809\n",
            "Most Informative Features\n",
            "                      tp = True           negati : positi =      8.5 : 1.0\n",
            "                   gelap = True           negati : positi =      6.1 : 1.0\n",
            "                  nyaman = True           negati : positi =      6.1 : 1.0\n",
            "                 lumayan = True           negati : positi =      3.6 : 1.0\n",
            "                   bagus = True           positi : negati =      2.3 : 1.0\n",
            "                    enak = True           negati : positi =      2.0 : 1.0\n",
            "                   bagus = False          negati : positi =      1.4 : 1.0\n",
            "                  sesuai = True           positi : negati =      1.4 : 1.0\n",
            "                      tp = False          positi : negati =      1.3 : 1.0\n",
            "                   ramah = True           negati : positi =      1.2 : 1.0\n",
            "                  terima = True           negati : positi =      1.2 : 1.0\n",
            "                   gelap = False          positi : negati =      1.2 : 1.0\n",
            "                    beda = False          positi : negati =      1.1 : 1.0\n",
            "                    kaku = False          positi : negati =      1.1 : 1.0\n",
            "                 nyamain = False          positi : negati =      1.1 : 1.0\n",
            "                   dapet = False          positi : negati =      1.1 : 1.0\n",
            "                    khas = False          positi : negati =      1.1 : 1.0\n",
            "                  terang = False          positi : negati =      1.1 : 1.0\n",
            "                   cerah = False          positi : negati =      1.1 : 1.0\n",
            "                  teknya = False          positi : negati =      1.1 : 1.0\n",
            "                  dateng = False          positi : negati =      1.1 : 1.0\n",
            "                   kyomi = False          positi : negati =      1.1 : 1.0\n",
            "                  nyaman = False          positi : negati =      1.1 : 1.0\n",
            "                 lumayan = False          positi : negati =      1.1 : 1.0\n",
            "                    beli = False          negati : positi =      1.1 : 1.0\n"
          ],
          "name": "stdout"
        }
      ]
    },
    {
      "cell_type": "code",
      "metadata": {
        "colab": {
          "base_uri": "https://localhost:8080/"
        },
        "id": "Q3mfV9NXtstF",
        "outputId": "5753cdfc-43e5-4387-d195-423978921f83"
      },
      "source": [
        "from nltk.metrics.scores import (precision, recall)\n",
        "import collections\n",
        "\n",
        "refsets = collections.defaultdict(set)\n",
        "testsets = collections.defaultdict(set)\n",
        "\n",
        "for i, (feats, label) in enumerate(testing_set):\n",
        "    refsets[label].add(i)\n",
        "    observed = classifier.classify(feats)\n",
        "    testsets[observed].add(i)\n",
        "\n",
        "print('Recall:', recall(refsets['positive'], testsets['positive']))\n",
        "print('Precision:', precision(refsets['positive'], testsets['positive']))"
      ],
      "execution_count": null,
      "outputs": [
        {
          "output_type": "stream",
          "text": [
            "Recall: 0.9\n",
            "Precision: 0.972972972972973\n"
          ],
          "name": "stdout"
        }
      ]
    },
    {
      "cell_type": "code",
      "metadata": {
        "id": "mVIxcwd_tXw6"
      },
      "source": [
        "#menyimpan model yang telah ditrainning ke file sav\n",
        "filename = 'nb_model.sav'\n",
        "pickle.dump(classifier, open(filename, 'wb'))"
      ],
      "execution_count": null,
      "outputs": []
    },
    {
      "cell_type": "code",
      "metadata": {
        "id": "pDvI8orlYJG5"
      },
      "source": [
        "#load model classifier nb dari file\n",
        "loaded_model = pickle.load(open(filename, 'rb'))"
      ],
      "execution_count": null,
      "outputs": []
    },
    {
      "cell_type": "code",
      "metadata": {
        "id": "poqep_PdYQIt"
      },
      "source": [
        "#melakukan prediksi data menggunakan model classifier nb yang telah diload\n",
        "lsPrediksi = []\n",
        "for (rev, category) in document[trainsize:]:\n",
        "    result=loaded_model.classify(find_features(rev))\n",
        "    lsPrediksi.append([rev, result, category])"
      ],
      "execution_count": null,
      "outputs": []
    },
    {
      "cell_type": "code",
      "metadata": {
        "colab": {
          "base_uri": "https://localhost:8080/"
        },
        "id": "dNeTjwTWYWS2",
        "outputId": "d5aa82da-9274-4d7b-d953-ba949a9116c5"
      },
      "source": [
        "print(lsPrediksi)"
      ],
      "execution_count": null,
      "outputs": [
        {
          "output_type": "stream",
          "text": [
            "[['paket yang d tunggu tunggu Alhamdullah datang jga saya seneng banget sesuai gambar..serum nya bagus banget enak d pake nya muda2han cocok nanti bisa order lagi ..makasih laZada makasih ZM...', 'positive', 'positive'], ['kerudungnya bagus tp ada nodanya, sebaiknya lebih teliti lagi pengecekannya sebelum di packing', 'positive', 'positive'], ['Alhamdulillah paketnya sudah datang dan rapih bungkusnya pula, kerudung nya bagus, terima kasih banyak. thanks to lazada dan kurirnya juga....', 'positive', 'positive'], ['terimakasih kerudungnya bagus', 'positive', 'positive'], ['alhamdulillah barang sdh diterima,sesuai pesanan,kurir cukup ramah,pesanan cpt sampai....pokokny puas dh,trimqkasih lazada', 'positive', 'positive'], ['Rekomended seller dah. Bagus dah. Mantap dah.', 'positive', 'positive'], ['pengen beli lagiiii dan laagiiii, oke BGT', 'positive', 'positive'], ['baguuussss sekali kakak baguuss sukak pengiriman lama karna overload', 'positive', 'negative'], [\"baRu kasih uLasan skRg pdhL nyampe kmRn soRe...jiLbab'y ok seLaLu langganan d sini\", 'positive', 'positive'], ['realpict pas coba dipake baru sekali enak facial wash nya lembut mdh2an cocok dan bermanfaat terima kasih', 'positive', 'positive'], ['Alhmdlh barang nya bgus aq suka trima ksih kurir sm tko ini insyaalloh nnti order lgi', 'positive', 'positive'], ['kok warnanya agak gelap,,yg di etalase cerah ap efek camera teknya kok copot??????????', 'negative', 'negative'], ['Barangnya bagus banget, sesuai gambar n realpect. Recommended banget deh pokoknya??', 'positive', 'positive'], ['Goods...??', 'positive', 'positive'], [\"jahitan'a ga rapih , masa ada bagian kain yg ke obras jd ga bs d perbaiki . udah beli mahal2 kq gini dapat'a ... ga percaya produk ZM Zaskia Mecca gini... nyesel aku tuh...\", 'positive', 'positive'], ['serum nya sesuai gambar muda2han cocok udh pesen ke dua kali nya...', 'positive', 'positive'], ['MasyaAllah... bagus motif nya,. suka juga sama bahan nya????????', 'positive', 'positive'], ['sukaaaa terimakasih banyakkk????', 'positive', 'positive'], ['terimakasihterimakasihterimakasihterimakasihterimakasih', 'positive', 'positive'], ['bagus sesuai dengan di gambar', 'positive', 'positive'], ['alhamdulillah bahannya bagus adem lagi. gk nyesel deh beli di zm', 'positive', 'positive'], ['bagus bangettt....sll puas dg produknya....bahan tebel adem mudah dibentuk....warna dan motifnya keren....wangi....pokoknya topp', 'positive', 'positive'], ['warna lebih gelap dari foto,bahan adem....udah langgganan', 'positive', 'negative'], ['bahan adem????', 'positive', 'positive'], ['Paketnya sudah sampai ya suka sama bahan jiblabnya lemes tapi tegak pas sudah dipakai terima kasih reselller kurir dan ekpedisi', 'positive', 'positive'], ['warna purplenya agak tua gk seperti di gambar', 'positive', 'negative'], ['pesan warna mocca dan terracota.. yg datang marun dan terracota.. harga fs 76.000 dapet 2 warna.. harusnya confirm kalau mocca nya ga ada, karena untuk nyamain warna gamisnya. maaf bintang 4 aja ya.. pak kurir langganan dan ramah, terima kasih lazada', 'negative', 'negative'], ['bagus bgt. sesuka itu pas sampe langsung di pake dong. suka... suka... deh..', 'positive', 'positive'], ['syukaa bgt realfict gak nyesel deh pokonya makasih??', 'positive', 'positive'], ['Memdarat dengan selamat,,meski agak lama dtng ny,,to setelah dicoba nyaman bangt dipake hijab ny,,recommend ????', 'negative', 'positive'], ['bagus banget bahannya, lembut juga,,, suka banget,,,, insyallah aku bakal pesan lagi,,, semoga bisa jadi langganan.. tetap jaga kualitas barang dan selalu amanah. thanks seller dan lazada. puas banget ma barangnya...', 'positive', 'positive'], ['packing rapi. barang ori. realpict. pengiriman lumayan cepat. kurir ramah', 'positive', 'positive'], ['bagus sesuai gambar', 'positive', 'positive'], ['bagusssssss ??,lazada????', 'positive', 'positive'], ['Rekomended seller, sangat bagus promo2 nya mantap. Terus ditingkatkan.', 'positive', 'positive'], ['????????????????????????????????????????????????????????????????????????????????????????????????????????????????????????????????????????????????????????????????', 'positive', 'positive'], ['sukaaa buuangeet', 'positive', 'positive'], ['muraah utk sebotol seruum. semoga cocok', 'positive', 'positive'], ['barang sudah diterima dengan baik, produk bagus. .. paling rapi, pengiriman lumayan cepat n kurir baik', 'positive', 'positive'], ['packingnya amaaaann bangeettt... baguussss', 'positive', 'positive'], ['Alhamdulillah bagus banget jilbab nya aku suka udh banyak koleksi aku dr ZM', 'positive', 'positive'], ['ok makasih ya..bagus good', 'positive', 'positive']]\n"
          ],
          "name": "stdout"
        }
      ]
    },
    {
      "cell_type": "code",
      "metadata": {
        "colab": {
          "base_uri": "https://localhost:8080/"
        },
        "id": "Omik9ejobfoB",
        "outputId": "bbe0706a-6174-40b2-b409-f7046226d5a8"
      },
      "source": [
        "len(lsPrediksi)"
      ],
      "execution_count": null,
      "outputs": [
        {
          "output_type": "execute_result",
          "data": {
            "text/plain": [
              "42"
            ]
          },
          "metadata": {
            "tags": []
          },
          "execution_count": 57
        }
      ]
    },
    {
      "cell_type": "code",
      "metadata": {
        "colab": {
          "base_uri": "https://localhost:8080/"
        },
        "id": "HztoEnQ-TRMV",
        "outputId": "c4079fa0-a710-4ba8-ff52-e386d7c63103"
      },
      "source": [
        "print(*lsPrediksi, sep = \"\\n\")"
      ],
      "execution_count": null,
      "outputs": [
        {
          "output_type": "stream",
          "text": [
            "['paket yang d tunggu tunggu Alhamdullah datang jga saya seneng banget sesuai gambar..serum nya bagus banget enak d pake nya muda2han cocok nanti bisa order lagi ..makasih laZada makasih ZM...', 'positive', 'positive']\n",
            "['kerudungnya bagus tp ada nodanya, sebaiknya lebih teliti lagi pengecekannya sebelum di packing', 'positive', 'positive']\n",
            "['Alhamdulillah paketnya sudah datang dan rapih bungkusnya pula, kerudung nya bagus, terima kasih banyak. thanks to lazada dan kurirnya juga....', 'positive', 'positive']\n",
            "['terimakasih kerudungnya bagus', 'positive', 'positive']\n",
            "['alhamdulillah barang sdh diterima,sesuai pesanan,kurir cukup ramah,pesanan cpt sampai....pokokny puas dh,trimqkasih lazada', 'positive', 'positive']\n",
            "['Rekomended seller dah. Bagus dah. Mantap dah.', 'positive', 'positive']\n",
            "['pengen beli lagiiii dan laagiiii, oke BGT', 'positive', 'positive']\n",
            "['baguuussss sekali kakak baguuss sukak pengiriman lama karna overload', 'positive', 'negative']\n",
            "[\"baRu kasih uLasan skRg pdhL nyampe kmRn soRe...jiLbab'y ok seLaLu langganan d sini\", 'positive', 'positive']\n",
            "['realpict pas coba dipake baru sekali enak facial wash nya lembut mdh2an cocok dan bermanfaat terima kasih', 'positive', 'positive']\n",
            "['Alhmdlh barang nya bgus aq suka trima ksih kurir sm tko ini insyaalloh nnti order lgi', 'positive', 'positive']\n",
            "['kok warnanya agak gelap,,yg di etalase cerah ap efek camera teknya kok copot??????????', 'negative', 'negative']\n",
            "['Barangnya bagus banget, sesuai gambar n realpect. Recommended banget deh pokoknya??', 'positive', 'positive']\n",
            "['Goods...??', 'positive', 'positive']\n",
            "[\"jahitan'a ga rapih , masa ada bagian kain yg ke obras jd ga bs d perbaiki . udah beli mahal2 kq gini dapat'a ... ga percaya produk ZM Zaskia Mecca gini... nyesel aku tuh...\", 'positive', 'positive']\n",
            "['serum nya sesuai gambar muda2han cocok udh pesen ke dua kali nya...', 'positive', 'positive']\n",
            "['MasyaAllah... bagus motif nya,. suka juga sama bahan nya????????', 'positive', 'positive']\n",
            "['sukaaaa terimakasih banyakkk????', 'positive', 'positive']\n",
            "['terimakasihterimakasihterimakasihterimakasihterimakasih', 'positive', 'positive']\n",
            "['bagus sesuai dengan di gambar', 'positive', 'positive']\n",
            "['alhamdulillah bahannya bagus adem lagi. gk nyesel deh beli di zm', 'positive', 'positive']\n",
            "['bagus bangettt....sll puas dg produknya....bahan tebel adem mudah dibentuk....warna dan motifnya keren....wangi....pokoknya topp', 'positive', 'positive']\n",
            "['warna lebih gelap dari foto,bahan adem....udah langgganan', 'positive', 'negative']\n",
            "['bahan adem????', 'positive', 'positive']\n",
            "['Paketnya sudah sampai ya suka sama bahan jiblabnya lemes tapi tegak pas sudah dipakai terima kasih reselller kurir dan ekpedisi', 'positive', 'positive']\n",
            "['warna purplenya agak tua gk seperti di gambar', 'positive', 'negative']\n",
            "['pesan warna mocca dan terracota.. yg datang marun dan terracota.. harga fs 76.000 dapet 2 warna.. harusnya confirm kalau mocca nya ga ada, karena untuk nyamain warna gamisnya. maaf bintang 4 aja ya.. pak kurir langganan dan ramah, terima kasih lazada', 'negative', 'negative']\n",
            "['bagus bgt. sesuka itu pas sampe langsung di pake dong. suka... suka... deh..', 'positive', 'positive']\n",
            "['syukaa bgt realfict gak nyesel deh pokonya makasih??', 'positive', 'positive']\n",
            "['Memdarat dengan selamat,,meski agak lama dtng ny,,to setelah dicoba nyaman bangt dipake hijab ny,,recommend ????', 'negative', 'positive']\n",
            "['bagus banget bahannya, lembut juga,,, suka banget,,,, insyallah aku bakal pesan lagi,,, semoga bisa jadi langganan.. tetap jaga kualitas barang dan selalu amanah. thanks seller dan lazada. puas banget ma barangnya...', 'positive', 'positive']\n",
            "['packing rapi. barang ori. realpict. pengiriman lumayan cepat. kurir ramah', 'positive', 'positive']\n",
            "['bagus sesuai gambar', 'positive', 'positive']\n",
            "['bagusssssss ??,lazada????', 'positive', 'positive']\n",
            "['Rekomended seller, sangat bagus promo2 nya mantap. Terus ditingkatkan.', 'positive', 'positive']\n",
            "['????????????????????????????????????????????????????????????????????????????????????????????????????????????????????????????????????????????????????????????????', 'positive', 'positive']\n",
            "['sukaaa buuangeet', 'positive', 'positive']\n",
            "['muraah utk sebotol seruum. semoga cocok', 'positive', 'positive']\n",
            "['barang sudah diterima dengan baik, produk bagus. .. paling rapi, pengiriman lumayan cepat n kurir baik', 'positive', 'positive']\n",
            "['packingnya amaaaann bangeettt... baguussss', 'positive', 'positive']\n",
            "['Alhamdulillah bagus banget jilbab nya aku suka udh banyak koleksi aku dr ZM', 'positive', 'positive']\n",
            "['ok makasih ya..bagus good', 'positive', 'positive']\n"
          ],
          "name": "stdout"
        }
      ]
    },
    {
      "cell_type": "code",
      "metadata": {
        "colab": {
          "base_uri": "https://localhost:8080/"
        },
        "id": "8KhF2apIYHlK",
        "outputId": "04eb663e-32f1-4bae-83ff-654620a65035"
      },
      "source": [
        "print(lsPrediksi[1][1])"
      ],
      "execution_count": null,
      "outputs": [
        {
          "output_type": "stream",
          "text": [
            "positive\n"
          ],
          "name": "stdout"
        }
      ]
    },
    {
      "cell_type": "code",
      "metadata": {
        "id": "Bo2t8TNeUjwO"
      },
      "source": [
        "if (lsPrediksi[1][1] == \"negative\"):\n",
        "  print(lsPrediksi, sep = \"\\n\")\n"
      ],
      "execution_count": null,
      "outputs": []
    },
    {
      "cell_type": "code",
      "metadata": {
        "id": "e9v8IDZZPSy8"
      },
      "source": [],
      "execution_count": null,
      "outputs": []
    },
    {
      "cell_type": "code",
      "metadata": {
        "id": "XjaBKNMtnZIu"
      },
      "source": [
        "act=[]\n",
        "pred=[]\n",
        "\n",
        "for i, (feats, label) in enumerate(testing_set):\n",
        "    observed = classifier.classify(feats)\n",
        "    act.append(label)\n",
        "    pred.append(observed)"
      ],
      "execution_count": null,
      "outputs": []
    },
    {
      "cell_type": "code",
      "metadata": {
        "id": "ivNl9T0GnZIu"
      },
      "source": [
        "from nltk.metrics import ConfusionMatrix"
      ],
      "execution_count": null,
      "outputs": []
    },
    {
      "cell_type": "code",
      "metadata": {
        "id": "MqDIXdKXnZIw"
      },
      "source": [
        "matrix = ConfusionMatrix(act,pred)"
      ],
      "execution_count": null,
      "outputs": []
    },
    {
      "cell_type": "code",
      "metadata": {
        "colab": {
          "base_uri": "https://localhost:8080/"
        },
        "id": "BtdCHQg4nZIw",
        "outputId": "9d79bbbd-4f31-464b-e88a-664df1610929"
      },
      "source": [
        "print(matrix)"
      ],
      "execution_count": null,
      "outputs": [
        {
          "output_type": "stream",
          "text": [
            "         |  n  p |\n",
            "         |  e  o |\n",
            "         |  g  s |\n",
            "         |  a  i |\n",
            "         |  t  t |\n",
            "         |  i  i |\n",
            "         |  v  v |\n",
            "         |  e  e |\n",
            "---------+-------+\n",
            "negative | <1> 1 |\n",
            "positive |  4<36>|\n",
            "---------+-------+\n",
            "(row = reference; col = test)\n",
            "\n"
          ],
          "name": "stdout"
        }
      ]
    },
    {
      "cell_type": "code",
      "metadata": {
        "colab": {
          "base_uri": "https://localhost:8080/"
        },
        "id": "pvRRwK8cnZIx",
        "outputId": "f92570db-c48d-4cc0-afd7-ad69b580c426"
      },
      "source": [
        "classifier2 = nltk.classify.SklearnClassifier(LinearSVC())\n",
        "classifier2.train(training_set)"
      ],
      "execution_count": null,
      "outputs": [
        {
          "output_type": "execute_result",
          "data": {
            "text/plain": [
              "<SklearnClassifier(LinearSVC(C=1.0, class_weight=None, dual=True, fit_intercept=True,\n",
              "          intercept_scaling=1, loss='squared_hinge', max_iter=1000,\n",
              "          multi_class='ovr', penalty='l2', random_state=None, tol=0.0001,\n",
              "          verbose=0))>"
            ]
          },
          "metadata": {
            "tags": []
          },
          "execution_count": 64
        }
      ]
    },
    {
      "cell_type": "code",
      "metadata": {
        "colab": {
          "base_uri": "https://localhost:8080/"
        },
        "id": "16YkuLxfnZIx",
        "outputId": "36adf591-9fe8-450f-8a61-e65eab277f42"
      },
      "source": [
        "print(\"Classifier accuracy percent:\",(nltk.classify.accuracy(classifier2, testing_set))*100)"
      ],
      "execution_count": null,
      "outputs": [
        {
          "output_type": "stream",
          "text": [
            "Classifier accuracy percent: 85.71428571428571\n"
          ],
          "name": "stdout"
        }
      ]
    },
    {
      "cell_type": "code",
      "metadata": {
        "id": "XoboYT6pnZIy"
      },
      "source": [
        "from sklearn.model_selection import KFold\n",
        "cv = KFold(n_splits=5, shuffle=False, random_state=None)"
      ],
      "execution_count": null,
      "outputs": []
    },
    {
      "cell_type": "code",
      "metadata": {
        "colab": {
          "base_uri": "https://localhost:8080/"
        },
        "id": "mXtDPHz8nZIy",
        "outputId": "254436e7-58e6-4407-d982-164b1b0f43e9"
      },
      "source": [
        "for traincv, testcv in cv.split(featuresets):\n",
        "    classifier = nltk.NaiveBayesClassifier.train(featuresets[traincv[0]:traincv[len(traincv)-1]])\n",
        "    print ('accuracy: %.3f' % nltk.classify.util.accuracy(classifier, featuresets[testcv[0]:testcv[len(testcv)-1]]))"
      ],
      "execution_count": null,
      "outputs": [
        {
          "output_type": "stream",
          "text": [
            "accuracy: 0.889\n",
            "accuracy: 0.963\n",
            "accuracy: 0.852\n",
            "accuracy: 0.852\n",
            "accuracy: 0.808\n"
          ],
          "name": "stdout"
        }
      ]
    },
    {
      "cell_type": "code",
      "metadata": {
        "id": "wtetjZPNnZIz"
      },
      "source": [
        "from nltk.metrics.scores import (precision, recall)\n",
        "import collections"
      ],
      "execution_count": null,
      "outputs": []
    },
    {
      "cell_type": "code",
      "metadata": {
        "colab": {
          "base_uri": "https://localhost:8080/"
        },
        "id": "IkfnrJKZnZIz",
        "outputId": "560d45b1-4350-4dcc-b50f-53247e74a1a7"
      },
      "source": [
        "k=1\n",
        "for traincv, testcv in cv.split(featuresets):\n",
        "    training_sets = featuresets[traincv[0]:traincv[len(traincv)-1]]\n",
        "    testing_sets = featuresets[testcv[0]:testcv[len(testcv)-1]]\n",
        "    classifier = nltk.NaiveBayesClassifier.train(training_sets)\n",
        "    refsets = collections.defaultdict(set)\n",
        "    testsets = collections.defaultdict(set)\n",
        "\n",
        "    for i, (feats, label) in enumerate(testing_sets):\n",
        "        refsets[label].add(i)\n",
        "        observed = classifier.classify(feats)\n",
        "        testsets[observed].add(i)\n",
        "    print (\"Fold - \"+str(k))\n",
        "    print('Recall:', recall(refsets['positive'], testsets['positive']))\n",
        "    print('Precision:', precision(refsets['positive'], testsets['positive']))\n",
        "    k+=1\n",
        ""
      ],
      "execution_count": null,
      "outputs": [
        {
          "output_type": "stream",
          "text": [
            "Fold - 1\n",
            "Recall: 0.9166666666666666\n",
            "Precision: 0.9565217391304348\n",
            "Fold - 2\n",
            "Recall: 1.0\n",
            "Precision: 0.9615384615384616\n",
            "Fold - 3\n",
            "Recall: 1.0\n",
            "Precision: 0.8461538461538461\n",
            "Fold - 4\n",
            "Recall: 1.0\n",
            "Precision: 0.8518518518518519\n",
            "Fold - 5\n",
            "Recall: 0.84\n",
            "Precision: 0.9545454545454546\n"
          ],
          "name": "stdout"
        }
      ]
    }
  ]
}